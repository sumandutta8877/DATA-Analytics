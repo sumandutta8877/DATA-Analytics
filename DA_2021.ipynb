{
  "nbformat": 4,
  "nbformat_minor": 0,
  "metadata": {
    "accelerator": "GPU",
    "colab": {
      "name": "DA_2021.ipynb",
      "provenance": [],
      "toc_visible": true,
      "include_colab_link": true
    },
    "kernelspec": {
      "display_name": "Python 3",
      "language": "python",
      "name": "python3"
    },
    "language_info": {
      "codemirror_mode": {
        "name": "ipython",
        "version": 3
      },
      "file_extension": ".py",
      "mimetype": "text/x-python",
      "name": "python",
      "nbconvert_exporter": "python",
      "pygments_lexer": "ipython3",
      "version": "3.9.1"
    }
  },
  "cells": [
    {
      "cell_type": "markdown",
      "metadata": {
        "id": "view-in-github",
        "colab_type": "text"
      },
      "source": [
        "<a href=\"https://colab.research.google.com/github/sumandutta8877/DATA-Analytics/blob/suman/DA_2021.ipynb\" target=\"_parent\"><img src=\"https://colab.research.google.com/assets/colab-badge.svg\" alt=\"Open In Colab\"/></a>"
      ]
    },
    {
      "cell_type": "markdown",
      "metadata": {
        "id": "qLn3Az1zbj0-"
      },
      "source": [
        "# Import Data from GitHub"
      ]
    },
    {
      "cell_type": "code",
      "metadata": {
        "id": "Fq6CWy11WRco",
        "colab": {
          "base_uri": "https://localhost:8080/"
        },
        "outputId": "207e3895-f8b5-4dfc-bb1e-746b9fbf906a"
      },
      "source": [
        "!git clone 'https://github.com/sumandutta8877/Data_DA.git'    # Run this Line for only one time"
      ],
      "execution_count": 39,
      "outputs": [
        {
          "output_type": "stream",
          "text": [
            "fatal: destination path 'Data_DA' already exists and is not an empty directory.\n"
          ],
          "name": "stdout"
        }
      ]
    },
    {
      "cell_type": "code",
      "metadata": {
        "id": "4O_de6VwCV4O"
      },
      "source": [
        "import pandas as pd\r\n",
        "df_train = pd.read_csv('/content/Data_DA/Data/Train_data.csv')\r\n",
        "df_test = pd.read_csv('/content/Data_DA/Data/Test_data.csv')\r\n",
        "df_sample = pd.read_csv('/content/Data_DA/Data/Sample_submission.csv')\r\n",
        "#print(df_train.head)\r\n",
        "#print(df_test.head)\r\n",
        "#print(df_sample.head)\r\n",
        "df1 = df_train            # df1 is the training dataframe\r\n",
        "df2 = df_test             # df2 is the test dataframe"
      ],
      "execution_count": 49,
      "outputs": []
    },
    {
      "cell_type": "markdown",
      "metadata": {
        "id": "piFJy64ybm26"
      },
      "source": [
        "# Start Processing"
      ]
    },
    {
      "cell_type": "code",
      "metadata": {
        "colab": {
          "base_uri": "https://localhost:8080/"
        },
        "id": "uKKWFwDYdcAh",
        "outputId": "8d62bac8-b03c-4b9b-c6e2-48b7e5247ff9"
      },
      "source": [
        "df1['mode'] = df1['mode'].apply(lambda x: 2 if x == 'Major' else 1)\r\n",
        "df1['explicit'] = df1['explicit'].apply(lambda x: 0.2 if x == 'No' else 1.2)\r\n",
        "df1['id'] = 1\r\n",
        "df2['mode'] = df2['mode'].apply(lambda x: 2 if x == 'Major' else 1)\r\n",
        "df2['explicit'] = df2['explicit'].apply(lambda x: 0.2 if x == 'No' else 1.2)\r\n",
        "df2['id'] = 1\r\n",
        "df1.loc[(df1['popularity'] == 'very low'),'ratings'] = 1\r\n",
        "df1.loc[(df1['popularity'] == 'low'),'ratings'] = 2\r\n",
        "df1.loc[(df1['popularity'] == 'average'),'ratings'] = 3\r\n",
        "df1.loc[(df1['popularity'] == 'high'),'ratings'] = 4\r\n",
        "df1.loc[(df1['popularity'] == 'very high'),'ratings'] = 5\r\n",
        "del df1['popularity']\r\n",
        "del df1['year']\r\n",
        "del df2['year']\r\n",
        "df = df1['id']\r\n",
        "df['temp1'] = df1['release_date'].str[0:2].astype(int)\r\n",
        "df['temp2'] = df1['release_date'].str[3:5].astype(int)\r\n",
        "df['temp3'] = df1['release_date'].str[6:10].astype(int)\r\n",
        "df1['loudness'] = -1.0*df1['loudness']\r\n",
        "df1['release_date'] = 737300 - (df['temp1']+30.45*df['temp2']+365*df['temp3'])  # number of days old from today\r\n",
        "df = df2['id']\r\n",
        "df['temp1'] = df2['release_date'].str[0:2].astype(int)\r\n",
        "df['temp2'] = df2['release_date'].str[3:5].astype(int)\r\n",
        "df['temp3'] = df2['release_date'].str[6:10].astype(int)\r\n",
        "df2['loudness'] = -1.0*df2['loudness']\r\n",
        "df2['release_date'] = 737300 - (df['temp1']+30.45*df['temp2']+365*df['temp3'])  # number of days old from today"
      ],
      "execution_count": 50,
      "outputs": [
        {
          "output_type": "stream",
          "text": [
            "0        27.398\n",
            "1        10.046\n",
            "2         8.009\n",
            "3        15.917\n",
            "4        12.344\n",
            "          ...  \n",
            "12222     5.461\n",
            "12223    14.014\n",
            "12224     9.298\n",
            "12225    26.324\n",
            "12226     4.765\n",
            "Name: loudness, Length: 12227, dtype: float64\n"
          ],
          "name": "stdout"
        },
        {
          "output_type": "stream",
          "text": [
            "/usr/local/lib/python3.7/dist-packages/ipykernel_launcher.py:16: SettingWithCopyWarning: \n",
            "A value is trying to be set on a copy of a slice from a DataFrame\n",
            "\n",
            "See the caveats in the documentation: https://pandas.pydata.org/pandas-docs/stable/user_guide/indexing.html#returning-a-view-versus-a-copy\n",
            "  app.launch_new_instance()\n",
            "/usr/local/lib/python3.7/dist-packages/ipykernel_launcher.py:22: SettingWithCopyWarning: \n",
            "A value is trying to be set on a copy of a slice from a DataFrame\n",
            "\n",
            "See the caveats in the documentation: https://pandas.pydata.org/pandas-docs/stable/user_guide/indexing.html#returning-a-view-versus-a-copy\n"
          ],
          "name": "stderr"
        }
      ]
    },
    {
      "cell_type": "code",
      "metadata": {
        "colab": {
          "base_uri": "https://localhost:8080/"
        },
        "id": "tokPZK8ee2W4",
        "outputId": "ba5706c8-2738-4d9c-9d73-c9bb580c6381"
      },
      "source": [
        "M_tr = df1.to_numpy()\r\n",
        "M_ts = df2.to_numpy()\r\n"
      ],
      "execution_count": 46,
      "outputs": [
        {
          "output_type": "stream",
          "text": [
            "[[1.      0.949   0.235   ... 0.0398  3.      1.     ]\n",
            " [1.      0.855   0.456   ... 0.859   2.4     2.     ]\n",
            " [1.      0.827   0.495   ... 0.709   2.6     1.     ]\n",
            " ...\n",
            " [1.      0.328   0.551   ... 0.89    2.5     2.     ]\n",
            " [1.      0.122   0.0608  ... 0.00558 3.1     4.     ]\n",
            " [1.      0.038   0.389   ... 0.334   3.1     4.     ]]\n"
          ],
          "name": "stdout"
        }
      ]
    }
  ]
}