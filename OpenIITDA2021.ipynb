{
  "nbformat": 4,
  "nbformat_minor": 0,
  "metadata": {
    "colab": {
      "name": "DA_classification.ipynb",
      "provenance": [],
      "collapsed_sections": [],
      "toc_visible": true
    },
    "kernelspec": {
      "display_name": "Python 3",
      "name": "python3"
    }
  },
  "cells": [
    {
      "cell_type": "code",
      "metadata": {
        "id": "XOqDR1OG7tHU",
        "colab": {
          "base_uri": "https://localhost:8080/"
        },
        "outputId": "a12a3bc0-0f7d-4db9-ebb9-594dc3349428"
      },
      "source": [
        "!git clone 'https://github.com/sumandutta8877/Data_DA.git'    # Run this Line for only one time\r\n",
        "!pip install --upgrade scikit-learn"
      ],
      "execution_count": 75,
      "outputs": [
        {
          "output_type": "stream",
          "text": [
            "fatal: destination path 'Data_DA' already exists and is not an empty directory.\n",
            "Requirement already up-to-date: scikit-learn in /usr/local/lib/python3.7/dist-packages (0.24.1)\n",
            "Requirement already satisfied, skipping upgrade: numpy>=1.13.3 in /usr/local/lib/python3.7/dist-packages (from scikit-learn) (1.19.5)\n",
            "Requirement already satisfied, skipping upgrade: scipy>=0.19.1 in /usr/local/lib/python3.7/dist-packages (from scikit-learn) (1.4.1)\n",
            "Requirement already satisfied, skipping upgrade: joblib>=0.11 in /usr/local/lib/python3.7/dist-packages (from scikit-learn) (1.0.1)\n",
            "Requirement already satisfied, skipping upgrade: threadpoolctl>=2.0.0 in /usr/local/lib/python3.7/dist-packages (from scikit-learn) (2.1.0)\n"
          ],
          "name": "stdout"
        }
      ]
    },
    {
      "cell_type": "code",
      "metadata": {
        "id": "ER0vl5iY7yXz"
      },
      "source": [
        "import pandas as pd\r\n",
        "df_train = pd.read_csv('/content/Data_DA/Data/Train_data.csv')\r\n",
        "df_test = pd.read_csv('/content/Data_DA/Data/Test_data.csv')\r\n",
        "df_sample = pd.read_csv('/content/Data_DA/Data/Sample_submission.csv')\r\n",
        "\r\n",
        "df1 = df_train            # df1 is the training dataframe\r\n",
        "df2 = df_test             # df2 is the test dataframe"
      ],
      "execution_count": 76,
      "outputs": []
    },
    {
      "cell_type": "code",
      "metadata": {
        "id": "xduOpavv7yji"
      },
      "source": [
        "import matplotlib.pyplot as plt\r\n",
        "import numpy as np\r\n",
        "from sklearn.model_selection import train_test_split\r\n",
        "from matplotlib import cm\r\n",
        "from mpl_toolkits.mplot3d import Axes3D\r\n",
        "from sklearn.svm import LinearSVC\r\n",
        "from sklearn.metrics import accuracy_score\r\n",
        "from sklearn.metrics import f1_score\r\n",
        "from sklearn import svm\r\n",
        "from sklearn.preprocessing import MinMaxScaler\r\n",
        "from sklearn.model_selection import GridSearchCV\r\n",
        "from sklearn.model_selection  import RandomizedSearchCV\r\n",
        "from sklearn.compose import *\r\n",
        "from sklearn.experimental import enable_iterative_imputer\r\n",
        "from sklearn.impute import *\r\n",
        "from sklearn.metrics import balanced_accuracy_score # Evaluation metric 2.0 \r\n",
        "from sklearn.pipeline import Pipeline\r\n",
        "from sklearn.preprocessing import *\r\n",
        "from sklearn.linear_model import *\r\n",
        "from sklearn.metrics import mean_absolute_error\r\n",
        "from sklearn.base import BaseEstimator\r\n",
        "from sklearn.tree import *\r\n",
        "from sklearn.ensemble import *\r\n",
        "from sklearn import set_config\r\n",
        "from sklearn.model_selection import cross_val_score"
      ],
      "execution_count": 77,
      "outputs": []
    },
    {
      "cell_type": "code",
      "metadata": {
        "id": "U5Z5KF0K7yp7"
      },
      "source": [
        "labels = dict(zip([1,2,3,4,5],df1['popularity'].unique()))\r\n",
        "df1.loc[(df1['popularity']=='very low'), 'popularity level'] = 1\r\n",
        "df1.loc[(df1['popularity']=='low'), 'popularity level'] = 2\r\n",
        "df1.loc[(df1['popularity']=='average'), 'popularity level'] = 3\r\n",
        "df1.loc[(df1['popularity']=='high'), 'popularity level'] = 4\r\n",
        "df1.loc[(df1['popularity']=='very high'), 'popularity level'] = 5"
      ],
      "execution_count": 78,
      "outputs": []
    },
    {
      "cell_type": "markdown",
      "metadata": {
        "id": "eluB8BBOM9IL"
      },
      "source": [
        "# **Pre-processing**"
      ]
    },
    {
      "cell_type": "code",
      "metadata": {
        "id": "HvggjMiS7ytS"
      },
      "source": [
        "import datetime as dt\r\n",
        "import time as tm\r\n",
        "today = dt.date.today()\r\n",
        "\r\n",
        "# On train data set\r\n",
        "df1['loudness'] = (-1)*df1['loudness']\r\n",
        "\r\n",
        "df1['mode'] = df1['mode'].apply(lambda x: 1 if x == 'Major' else 0)\r\n",
        "df1['explicit'] = df1['explicit'].apply(lambda x: 1 if x == 'Yes' else 0)\r\n",
        "\r\n",
        "df1['release_date'] = pd.to_datetime(df1['release_date'])\r\n",
        "df1['Today']=today\r\n",
        "df1['Today']=pd.to_datetime(df1['Today'])\r\n",
        "df1['days older']= (df1['Today']-df1['release_date']).dt.days\r\n",
        "\r\n",
        "\r\n",
        "\r\n",
        "# On test data set\r\n",
        "df2['loudness'] = (-1)*df2['loudness']\r\n",
        "\r\n",
        "df2['mode'] = df2['mode'].apply(lambda x: 1 if x == 'Major' else 0)\r\n",
        "df2['explicit'] = df2['explicit'].apply(lambda x: 1 if x == 'Yes' else 0)\r\n",
        "\r\n",
        "df2['release_date'] = pd.to_datetime(df2['release_date'])\r\n",
        "df2['Today']=today\r\n",
        "df2['Today']=pd.to_datetime(df2['Today'])\r\n",
        "df2['days older']= (df2['Today']-df2['release_date']).dt.days"
      ],
      "execution_count": 79,
      "outputs": []
    },
    {
      "cell_type": "code",
      "metadata": {
        "id": "s3E61NOb8KIh",
        "colab": {
          "base_uri": "https://localhost:8080/",
          "height": 326
        },
        "outputId": "15fffe7c-54d0-4f30-bbc8-f970e416158e"
      },
      "source": [
        "df1.head()"
      ],
      "execution_count": 80,
      "outputs": [
        {
          "output_type": "execute_result",
          "data": {
            "text/html": [
              "<div>\n",
              "<style scoped>\n",
              "    .dataframe tbody tr th:only-of-type {\n",
              "        vertical-align: middle;\n",
              "    }\n",
              "\n",
              "    .dataframe tbody tr th {\n",
              "        vertical-align: top;\n",
              "    }\n",
              "\n",
              "    .dataframe thead th {\n",
              "        text-align: right;\n",
              "    }\n",
              "</style>\n",
              "<table border=\"1\" class=\"dataframe\">\n",
              "  <thead>\n",
              "    <tr style=\"text-align: right;\">\n",
              "      <th></th>\n",
              "      <th>id</th>\n",
              "      <th>acousticness</th>\n",
              "      <th>danceability</th>\n",
              "      <th>energy</th>\n",
              "      <th>explicit</th>\n",
              "      <th>instrumentalness</th>\n",
              "      <th>key</th>\n",
              "      <th>liveness</th>\n",
              "      <th>loudness</th>\n",
              "      <th>mode</th>\n",
              "      <th>release_date</th>\n",
              "      <th>speechiness</th>\n",
              "      <th>tempo</th>\n",
              "      <th>valence</th>\n",
              "      <th>year</th>\n",
              "      <th>duration-min</th>\n",
              "      <th>popularity</th>\n",
              "      <th>popularity level</th>\n",
              "      <th>Today</th>\n",
              "      <th>days older</th>\n",
              "    </tr>\n",
              "  </thead>\n",
              "  <tbody>\n",
              "    <tr>\n",
              "      <th>0</th>\n",
              "      <td>2015</td>\n",
              "      <td>0.949</td>\n",
              "      <td>0.235</td>\n",
              "      <td>0.0276</td>\n",
              "      <td>0</td>\n",
              "      <td>0.9270</td>\n",
              "      <td>5</td>\n",
              "      <td>0.513</td>\n",
              "      <td>27.398</td>\n",
              "      <td>1</td>\n",
              "      <td>1947-01-01</td>\n",
              "      <td>0.0381</td>\n",
              "      <td>110.838</td>\n",
              "      <td>0.0398</td>\n",
              "      <td>1947</td>\n",
              "      <td>3.0</td>\n",
              "      <td>very low</td>\n",
              "      <td>1.0</td>\n",
              "      <td>2021-03-18</td>\n",
              "      <td>27105</td>\n",
              "    </tr>\n",
              "    <tr>\n",
              "      <th>1</th>\n",
              "      <td>15901</td>\n",
              "      <td>0.855</td>\n",
              "      <td>0.456</td>\n",
              "      <td>0.4850</td>\n",
              "      <td>0</td>\n",
              "      <td>0.0884</td>\n",
              "      <td>4</td>\n",
              "      <td>0.151</td>\n",
              "      <td>10.046</td>\n",
              "      <td>1</td>\n",
              "      <td>2020-11-13</td>\n",
              "      <td>0.0437</td>\n",
              "      <td>152.066</td>\n",
              "      <td>0.8590</td>\n",
              "      <td>2020</td>\n",
              "      <td>2.4</td>\n",
              "      <td>low</td>\n",
              "      <td>2.0</td>\n",
              "      <td>2021-03-18</td>\n",
              "      <td>125</td>\n",
              "    </tr>\n",
              "    <tr>\n",
              "      <th>2</th>\n",
              "      <td>9002</td>\n",
              "      <td>0.827</td>\n",
              "      <td>0.495</td>\n",
              "      <td>0.4990</td>\n",
              "      <td>0</td>\n",
              "      <td>0.0000</td>\n",
              "      <td>0</td>\n",
              "      <td>0.401</td>\n",
              "      <td>8.009</td>\n",
              "      <td>0</td>\n",
              "      <td>1950-01-01</td>\n",
              "      <td>0.0474</td>\n",
              "      <td>108.004</td>\n",
              "      <td>0.7090</td>\n",
              "      <td>1950</td>\n",
              "      <td>2.6</td>\n",
              "      <td>very low</td>\n",
              "      <td>1.0</td>\n",
              "      <td>2021-03-18</td>\n",
              "      <td>26009</td>\n",
              "    </tr>\n",
              "    <tr>\n",
              "      <th>3</th>\n",
              "      <td>6734</td>\n",
              "      <td>0.654</td>\n",
              "      <td>0.643</td>\n",
              "      <td>0.4690</td>\n",
              "      <td>0</td>\n",
              "      <td>0.1080</td>\n",
              "      <td>7</td>\n",
              "      <td>0.218</td>\n",
              "      <td>15.917</td>\n",
              "      <td>1</td>\n",
              "      <td>1974-04-30</td>\n",
              "      <td>0.0368</td>\n",
              "      <td>83.636</td>\n",
              "      <td>0.9640</td>\n",
              "      <td>1974</td>\n",
              "      <td>2.4</td>\n",
              "      <td>low</td>\n",
              "      <td>2.0</td>\n",
              "      <td>2021-03-18</td>\n",
              "      <td>17124</td>\n",
              "    </tr>\n",
              "    <tr>\n",
              "      <th>4</th>\n",
              "      <td>15563</td>\n",
              "      <td>0.738</td>\n",
              "      <td>0.705</td>\n",
              "      <td>0.3110</td>\n",
              "      <td>0</td>\n",
              "      <td>0.0000</td>\n",
              "      <td>5</td>\n",
              "      <td>0.322</td>\n",
              "      <td>12.344</td>\n",
              "      <td>1</td>\n",
              "      <td>1973-01-01</td>\n",
              "      <td>0.0488</td>\n",
              "      <td>117.260</td>\n",
              "      <td>0.7850</td>\n",
              "      <td>1973</td>\n",
              "      <td>3.4</td>\n",
              "      <td>average</td>\n",
              "      <td>3.0</td>\n",
              "      <td>2021-03-18</td>\n",
              "      <td>17608</td>\n",
              "    </tr>\n",
              "  </tbody>\n",
              "</table>\n",
              "</div>"
            ],
            "text/plain": [
              "      id  acousticness  danceability  ...  popularity level      Today  days older\n",
              "0   2015         0.949         0.235  ...               1.0 2021-03-18       27105\n",
              "1  15901         0.855         0.456  ...               2.0 2021-03-18         125\n",
              "2   9002         0.827         0.495  ...               1.0 2021-03-18       26009\n",
              "3   6734         0.654         0.643  ...               2.0 2021-03-18       17124\n",
              "4  15563         0.738         0.705  ...               3.0 2021-03-18       17608\n",
              "\n",
              "[5 rows x 20 columns]"
            ]
          },
          "metadata": {
            "tags": []
          },
          "execution_count": 80
        }
      ]
    },
    {
      "cell_type": "code",
      "metadata": {
        "id": "I_T9Damd8d4x",
        "colab": {
          "base_uri": "https://localhost:8080/"
        },
        "outputId": "40ce2691-ac97-46ef-f85f-ea5137c6941c"
      },
      "source": [
        "df1.columns"
      ],
      "execution_count": 81,
      "outputs": [
        {
          "output_type": "execute_result",
          "data": {
            "text/plain": [
              "Index(['id', 'acousticness', 'danceability', 'energy', 'explicit',\n",
              "       'instrumentalness', 'key', 'liveness', 'loudness', 'mode',\n",
              "       'release_date', 'speechiness', 'tempo', 'valence', 'year',\n",
              "       'duration-min', 'popularity', 'popularity level', 'Today',\n",
              "       'days older'],\n",
              "      dtype='object')"
            ]
          },
          "metadata": {
            "tags": []
          },
          "execution_count": 81
        }
      ]
    },
    {
      "cell_type": "code",
      "metadata": {
        "id": "y0WVJbeE8KL5"
      },
      "source": [
        "X = df1.drop(columns=['id','release_date','popularity', 'popularity level','Today'])\r\n",
        "y = df1['popularity level'].values.ravel()"
      ],
      "execution_count": 82,
      "outputs": []
    },
    {
      "cell_type": "code",
      "metadata": {
        "colab": {
          "base_uri": "https://localhost:8080/",
          "height": 607
        },
        "id": "p1rThlRGjPnc",
        "outputId": "c17d28df-dad0-452e-d257-6581c656fb4d"
      },
      "source": [
        "df1.corr()"
      ],
      "execution_count": 83,
      "outputs": [
        {
          "output_type": "execute_result",
          "data": {
            "text/html": [
              "<div>\n",
              "<style scoped>\n",
              "    .dataframe tbody tr th:only-of-type {\n",
              "        vertical-align: middle;\n",
              "    }\n",
              "\n",
              "    .dataframe tbody tr th {\n",
              "        vertical-align: top;\n",
              "    }\n",
              "\n",
              "    .dataframe thead th {\n",
              "        text-align: right;\n",
              "    }\n",
              "</style>\n",
              "<table border=\"1\" class=\"dataframe\">\n",
              "  <thead>\n",
              "    <tr style=\"text-align: right;\">\n",
              "      <th></th>\n",
              "      <th>id</th>\n",
              "      <th>acousticness</th>\n",
              "      <th>danceability</th>\n",
              "      <th>energy</th>\n",
              "      <th>explicit</th>\n",
              "      <th>instrumentalness</th>\n",
              "      <th>key</th>\n",
              "      <th>liveness</th>\n",
              "      <th>loudness</th>\n",
              "      <th>mode</th>\n",
              "      <th>speechiness</th>\n",
              "      <th>tempo</th>\n",
              "      <th>valence</th>\n",
              "      <th>year</th>\n",
              "      <th>duration-min</th>\n",
              "      <th>popularity level</th>\n",
              "      <th>days older</th>\n",
              "    </tr>\n",
              "  </thead>\n",
              "  <tbody>\n",
              "    <tr>\n",
              "      <th>id</th>\n",
              "      <td>1.000000</td>\n",
              "      <td>-0.004270</td>\n",
              "      <td>-0.003289</td>\n",
              "      <td>0.014113</td>\n",
              "      <td>0.009140</td>\n",
              "      <td>0.006159</td>\n",
              "      <td>0.006183</td>\n",
              "      <td>0.005288</td>\n",
              "      <td>-0.006133</td>\n",
              "      <td>0.008052</td>\n",
              "      <td>-0.008113</td>\n",
              "      <td>0.006620</td>\n",
              "      <td>-0.001245</td>\n",
              "      <td>0.016751</td>\n",
              "      <td>0.011124</td>\n",
              "      <td>0.013905</td>\n",
              "      <td>-0.016908</td>\n",
              "    </tr>\n",
              "    <tr>\n",
              "      <th>acousticness</th>\n",
              "      <td>-0.004270</td>\n",
              "      <td>1.000000</td>\n",
              "      <td>-0.279666</td>\n",
              "      <td>-0.745551</td>\n",
              "      <td>-0.226661</td>\n",
              "      <td>0.266340</td>\n",
              "      <td>-0.017331</td>\n",
              "      <td>-0.025139</td>\n",
              "      <td>0.577572</td>\n",
              "      <td>0.059788</td>\n",
              "      <td>-0.027950</td>\n",
              "      <td>-0.204745</td>\n",
              "      <td>-0.169857</td>\n",
              "      <td>-0.561497</td>\n",
              "      <td>-0.074264</td>\n",
              "      <td>-0.407964</td>\n",
              "      <td>0.561785</td>\n",
              "    </tr>\n",
              "    <tr>\n",
              "      <th>danceability</th>\n",
              "      <td>-0.003289</td>\n",
              "      <td>-0.279666</td>\n",
              "      <td>1.000000</td>\n",
              "      <td>0.206802</td>\n",
              "      <td>0.251294</td>\n",
              "      <td>-0.255456</td>\n",
              "      <td>0.029202</td>\n",
              "      <td>-0.124919</td>\n",
              "      <td>-0.290771</td>\n",
              "      <td>-0.065234</td>\n",
              "      <td>0.220842</td>\n",
              "      <td>-0.021408</td>\n",
              "      <td>0.489044</td>\n",
              "      <td>0.211403</td>\n",
              "      <td>-0.100782</td>\n",
              "      <td>0.220554</td>\n",
              "      <td>-0.211763</td>\n",
              "    </tr>\n",
              "    <tr>\n",
              "      <th>energy</th>\n",
              "      <td>0.014113</td>\n",
              "      <td>-0.745551</td>\n",
              "      <td>0.206802</td>\n",
              "      <td>1.000000</td>\n",
              "      <td>0.125330</td>\n",
              "      <td>-0.219329</td>\n",
              "      <td>0.032616</td>\n",
              "      <td>0.133039</td>\n",
              "      <td>-0.780935</td>\n",
              "      <td>-0.057984</td>\n",
              "      <td>-0.077581</td>\n",
              "      <td>0.232029</td>\n",
              "      <td>0.334541</td>\n",
              "      <td>0.485902</td>\n",
              "      <td>0.049187</td>\n",
              "      <td>0.327218</td>\n",
              "      <td>-0.486459</td>\n",
              "    </tr>\n",
              "    <tr>\n",
              "      <th>explicit</th>\n",
              "      <td>0.009140</td>\n",
              "      <td>-0.226661</td>\n",
              "      <td>0.251294</td>\n",
              "      <td>0.125330</td>\n",
              "      <td>1.000000</td>\n",
              "      <td>-0.145721</td>\n",
              "      <td>0.010304</td>\n",
              "      <td>0.022511</td>\n",
              "      <td>-0.178374</td>\n",
              "      <td>-0.081153</td>\n",
              "      <td>0.338340</td>\n",
              "      <td>0.033700</td>\n",
              "      <td>-0.055108</td>\n",
              "      <td>0.265552</td>\n",
              "      <td>-0.037039</td>\n",
              "      <td>0.260153</td>\n",
              "      <td>-0.265822</td>\n",
              "    </tr>\n",
              "    <tr>\n",
              "      <th>instrumentalness</th>\n",
              "      <td>0.006159</td>\n",
              "      <td>0.266340</td>\n",
              "      <td>-0.255456</td>\n",
              "      <td>-0.219329</td>\n",
              "      <td>-0.145721</td>\n",
              "      <td>1.000000</td>\n",
              "      <td>-0.018033</td>\n",
              "      <td>-0.019256</td>\n",
              "      <td>0.377842</td>\n",
              "      <td>-0.046555</td>\n",
              "      <td>-0.111828</td>\n",
              "      <td>-0.088497</td>\n",
              "      <td>-0.196395</td>\n",
              "      <td>-0.198874</td>\n",
              "      <td>0.086143</td>\n",
              "      <td>-0.317268</td>\n",
              "      <td>0.198771</td>\n",
              "    </tr>\n",
              "    <tr>\n",
              "      <th>key</th>\n",
              "      <td>0.006183</td>\n",
              "      <td>-0.017331</td>\n",
              "      <td>0.029202</td>\n",
              "      <td>0.032616</td>\n",
              "      <td>0.010304</td>\n",
              "      <td>-0.018033</td>\n",
              "      <td>1.000000</td>\n",
              "      <td>-0.009158</td>\n",
              "      <td>-0.025824</td>\n",
              "      <td>-0.142857</td>\n",
              "      <td>0.016876</td>\n",
              "      <td>0.017476</td>\n",
              "      <td>0.030784</td>\n",
              "      <td>0.013956</td>\n",
              "      <td>-0.007858</td>\n",
              "      <td>0.014269</td>\n",
              "      <td>-0.013913</td>\n",
              "    </tr>\n",
              "    <tr>\n",
              "      <th>liveness</th>\n",
              "      <td>0.005288</td>\n",
              "      <td>-0.025139</td>\n",
              "      <td>-0.124919</td>\n",
              "      <td>0.133039</td>\n",
              "      <td>0.022511</td>\n",
              "      <td>-0.019256</td>\n",
              "      <td>-0.009158</td>\n",
              "      <td>1.000000</td>\n",
              "      <td>-0.046952</td>\n",
              "      <td>0.009269</td>\n",
              "      <td>0.112990</td>\n",
              "      <td>0.014526</td>\n",
              "      <td>0.001178</td>\n",
              "      <td>-0.046131</td>\n",
              "      <td>0.028957</td>\n",
              "      <td>-0.103116</td>\n",
              "      <td>0.045418</td>\n",
              "    </tr>\n",
              "    <tr>\n",
              "      <th>loudness</th>\n",
              "      <td>-0.006133</td>\n",
              "      <td>0.577572</td>\n",
              "      <td>-0.290771</td>\n",
              "      <td>-0.780935</td>\n",
              "      <td>-0.178374</td>\n",
              "      <td>0.377842</td>\n",
              "      <td>-0.025824</td>\n",
              "      <td>-0.046952</td>\n",
              "      <td>1.000000</td>\n",
              "      <td>0.034264</td>\n",
              "      <td>0.151779</td>\n",
              "      <td>-0.198197</td>\n",
              "      <td>-0.275841</td>\n",
              "      <td>-0.501204</td>\n",
              "      <td>-0.011920</td>\n",
              "      <td>-0.413219</td>\n",
              "      <td>0.501988</td>\n",
              "    </tr>\n",
              "    <tr>\n",
              "      <th>mode</th>\n",
              "      <td>0.008052</td>\n",
              "      <td>0.059788</td>\n",
              "      <td>-0.065234</td>\n",
              "      <td>-0.057984</td>\n",
              "      <td>-0.081153</td>\n",
              "      <td>-0.046555</td>\n",
              "      <td>-0.142857</td>\n",
              "      <td>0.009269</td>\n",
              "      <td>0.034264</td>\n",
              "      <td>1.000000</td>\n",
              "      <td>-0.036884</td>\n",
              "      <td>0.006879</td>\n",
              "      <td>0.009164</td>\n",
              "      <td>-0.065894</td>\n",
              "      <td>-0.027706</td>\n",
              "      <td>-0.039218</td>\n",
              "      <td>0.066261</td>\n",
              "    </tr>\n",
              "    <tr>\n",
              "      <th>speechiness</th>\n",
              "      <td>-0.008113</td>\n",
              "      <td>-0.027950</td>\n",
              "      <td>0.220842</td>\n",
              "      <td>-0.077581</td>\n",
              "      <td>0.338340</td>\n",
              "      <td>-0.111828</td>\n",
              "      <td>0.016876</td>\n",
              "      <td>0.112990</td>\n",
              "      <td>0.151779</td>\n",
              "      <td>-0.036884</td>\n",
              "      <td>1.000000</td>\n",
              "      <td>-0.007979</td>\n",
              "      <td>0.042242</td>\n",
              "      <td>-0.155869</td>\n",
              "      <td>-0.089063</td>\n",
              "      <td>-0.122614</td>\n",
              "      <td>0.154850</td>\n",
              "    </tr>\n",
              "    <tr>\n",
              "      <th>tempo</th>\n",
              "      <td>0.006620</td>\n",
              "      <td>-0.204745</td>\n",
              "      <td>-0.021408</td>\n",
              "      <td>0.232029</td>\n",
              "      <td>0.033700</td>\n",
              "      <td>-0.088497</td>\n",
              "      <td>0.017476</td>\n",
              "      <td>0.014526</td>\n",
              "      <td>-0.198197</td>\n",
              "      <td>0.006879</td>\n",
              "      <td>-0.007979</td>\n",
              "      <td>1.000000</td>\n",
              "      <td>0.135261</td>\n",
              "      <td>0.118400</td>\n",
              "      <td>-0.020554</td>\n",
              "      <td>0.076751</td>\n",
              "      <td>-0.118482</td>\n",
              "    </tr>\n",
              "    <tr>\n",
              "      <th>valence</th>\n",
              "      <td>-0.001245</td>\n",
              "      <td>-0.169857</td>\n",
              "      <td>0.489044</td>\n",
              "      <td>0.334541</td>\n",
              "      <td>-0.055108</td>\n",
              "      <td>-0.196395</td>\n",
              "      <td>0.030784</td>\n",
              "      <td>0.001178</td>\n",
              "      <td>-0.275841</td>\n",
              "      <td>0.009164</td>\n",
              "      <td>0.042242</td>\n",
              "      <td>0.135261</td>\n",
              "      <td>1.000000</td>\n",
              "      <td>-0.091419</td>\n",
              "      <td>-0.148897</td>\n",
              "      <td>-0.005329</td>\n",
              "      <td>0.091306</td>\n",
              "    </tr>\n",
              "    <tr>\n",
              "      <th>year</th>\n",
              "      <td>0.016751</td>\n",
              "      <td>-0.561497</td>\n",
              "      <td>0.211403</td>\n",
              "      <td>0.485902</td>\n",
              "      <td>0.265552</td>\n",
              "      <td>-0.198874</td>\n",
              "      <td>0.013956</td>\n",
              "      <td>-0.046131</td>\n",
              "      <td>-0.501204</td>\n",
              "      <td>-0.065894</td>\n",
              "      <td>-0.155869</td>\n",
              "      <td>0.118400</td>\n",
              "      <td>-0.091419</td>\n",
              "      <td>1.000000</td>\n",
              "      <td>0.052721</td>\n",
              "      <td>0.635493</td>\n",
              "      <td>-0.999921</td>\n",
              "    </tr>\n",
              "    <tr>\n",
              "      <th>duration-min</th>\n",
              "      <td>0.011124</td>\n",
              "      <td>-0.074264</td>\n",
              "      <td>-0.100782</td>\n",
              "      <td>0.049187</td>\n",
              "      <td>-0.037039</td>\n",
              "      <td>0.086143</td>\n",
              "      <td>-0.007858</td>\n",
              "      <td>0.028957</td>\n",
              "      <td>-0.011920</td>\n",
              "      <td>-0.027706</td>\n",
              "      <td>-0.089063</td>\n",
              "      <td>-0.020554</td>\n",
              "      <td>-0.148897</td>\n",
              "      <td>0.052721</td>\n",
              "      <td>1.000000</td>\n",
              "      <td>-0.009381</td>\n",
              "      <td>-0.052299</td>\n",
              "    </tr>\n",
              "    <tr>\n",
              "      <th>popularity level</th>\n",
              "      <td>0.013905</td>\n",
              "      <td>-0.407964</td>\n",
              "      <td>0.220554</td>\n",
              "      <td>0.327218</td>\n",
              "      <td>0.260153</td>\n",
              "      <td>-0.317268</td>\n",
              "      <td>0.014269</td>\n",
              "      <td>-0.103116</td>\n",
              "      <td>-0.413219</td>\n",
              "      <td>-0.039218</td>\n",
              "      <td>-0.122614</td>\n",
              "      <td>0.076751</td>\n",
              "      <td>-0.005329</td>\n",
              "      <td>0.635493</td>\n",
              "      <td>-0.009381</td>\n",
              "      <td>1.000000</td>\n",
              "      <td>-0.635371</td>\n",
              "    </tr>\n",
              "    <tr>\n",
              "      <th>days older</th>\n",
              "      <td>-0.016908</td>\n",
              "      <td>0.561785</td>\n",
              "      <td>-0.211763</td>\n",
              "      <td>-0.486459</td>\n",
              "      <td>-0.265822</td>\n",
              "      <td>0.198771</td>\n",
              "      <td>-0.013913</td>\n",
              "      <td>0.045418</td>\n",
              "      <td>0.501988</td>\n",
              "      <td>0.066261</td>\n",
              "      <td>0.154850</td>\n",
              "      <td>-0.118482</td>\n",
              "      <td>0.091306</td>\n",
              "      <td>-0.999921</td>\n",
              "      <td>-0.052299</td>\n",
              "      <td>-0.635371</td>\n",
              "      <td>1.000000</td>\n",
              "    </tr>\n",
              "  </tbody>\n",
              "</table>\n",
              "</div>"
            ],
            "text/plain": [
              "                        id  acousticness  ...  popularity level  days older\n",
              "id                1.000000     -0.004270  ...          0.013905   -0.016908\n",
              "acousticness     -0.004270      1.000000  ...         -0.407964    0.561785\n",
              "danceability     -0.003289     -0.279666  ...          0.220554   -0.211763\n",
              "energy            0.014113     -0.745551  ...          0.327218   -0.486459\n",
              "explicit          0.009140     -0.226661  ...          0.260153   -0.265822\n",
              "instrumentalness  0.006159      0.266340  ...         -0.317268    0.198771\n",
              "key               0.006183     -0.017331  ...          0.014269   -0.013913\n",
              "liveness          0.005288     -0.025139  ...         -0.103116    0.045418\n",
              "loudness         -0.006133      0.577572  ...         -0.413219    0.501988\n",
              "mode              0.008052      0.059788  ...         -0.039218    0.066261\n",
              "speechiness      -0.008113     -0.027950  ...         -0.122614    0.154850\n",
              "tempo             0.006620     -0.204745  ...          0.076751   -0.118482\n",
              "valence          -0.001245     -0.169857  ...         -0.005329    0.091306\n",
              "year              0.016751     -0.561497  ...          0.635493   -0.999921\n",
              "duration-min      0.011124     -0.074264  ...         -0.009381   -0.052299\n",
              "popularity level  0.013905     -0.407964  ...          1.000000   -0.635371\n",
              "days older       -0.016908      0.561785  ...         -0.635371    1.000000\n",
              "\n",
              "[17 rows x 17 columns]"
            ]
          },
          "metadata": {
            "tags": []
          },
          "execution_count": 83
        }
      ]
    },
    {
      "cell_type": "code",
      "metadata": {
        "id": "ERmaAGxklVT-"
      },
      "source": [
        "X_train, X_test, y_train, y_test = train_test_split(X, y, test_size=0.2, shuffle=True)"
      ],
      "execution_count": null,
      "outputs": []
    },
    {
      "cell_type": "code",
      "metadata": {
        "id": "9Xh2SgfQlVGm"
      },
      "source": [
        "col = X.columns\r\n",
        "onehot_cat = ['mode','explicit', 'key', 'year'] # one hot encode these features\r\n",
        "con_cat = [i for i in col if i not in onehot_cat] # continuous data"
      ],
      "execution_count": null,
      "outputs": []
    },
    {
      "cell_type": "code",
      "metadata": {
        "id": "qr910NqPlU_3"
      },
      "source": [
        "# Creating onehotencoding pipeline, impute most frequent feature if missing\r\n",
        "cat_pipe = Pipeline([\r\n",
        "    ('ohe', OneHotEncoder(handle_unknown='ignore')),\r\n",
        "    ('imputer', SimpleImputer(strategy='most_frequent', add_indicator=True))\r\n",
        "])\r\n",
        "\r\n",
        "# Standardizing continous data, use nearest neighbors for missing features\r\n",
        "con_pipe = Pipeline([\r\n",
        "    ('SS', StandardScaler()),\r\n",
        "    ('KNN', KNNImputer(n_neighbors=5))\r\n",
        "])\r\n",
        "\r\n",
        "\r\n",
        "# Using column transformer to pack all features together, and assign them as categorial and continous data\r\n",
        "preprocessor = ColumnTransformer([\r\n",
        "    ('categorical', cat_pipe, onehot_cat),\r\n",
        "    ('continuous', con_pipe, con_cat)\r\n",
        "])"
      ],
      "execution_count": null,
      "outputs": []
    },
    {
      "cell_type": "markdown",
      "metadata": {
        "id": "Wc5jkcDok_Hg"
      },
      "source": [
        "# **Heat Map**"
      ]
    },
    {
      "cell_type": "code",
      "metadata": {
        "colab": {
          "base_uri": "https://localhost:8080/",
          "height": 363
        },
        "id": "0b9DPdx7jUPK",
        "outputId": "eabe37fa-8618-4e5a-f901-903adade45a3"
      },
      "source": [
        "import matplotlib.pyplot as plt \r\n",
        "import seaborn as sns\r\n",
        "%matplotlib inline \r\n",
        "\r\n",
        "sns.heatmap(df1.corr(),linewidths = 0.2)"
      ],
      "execution_count": 91,
      "outputs": [
        {
          "output_type": "execute_result",
          "data": {
            "text/plain": [
              "<matplotlib.axes._subplots.AxesSubplot at 0x7fab9ae1e510>"
            ]
          },
          "metadata": {
            "tags": []
          },
          "execution_count": 91
        },
        {
          "output_type": "display_data",
          "data": {
            "image/png": "[encoded data removed]",
            "text/plain": [
              "<Figure size 432x288 with 2 Axes>"
            ]
          },
          "metadata": {
            "tags": [],
            "needs_background": "light"
          }
        }
      ]
    },
    {
      "cell_type": "markdown",
      "metadata": {
        "id": "2eRaMQ9-B6xo"
      },
      "source": [
        "## **ML MODELS :**"
      ]
    },
    {
      "cell_type": "code",
      "metadata": {
        "id": "tAz3T46eBsvD"
      },
      "source": [
        "# defining dummy estimator for testing regressors\r\n",
        "class DummyEstimator(BaseEstimator):\r\n",
        "    \"Pass through class, methods are present but do nothing.\"\r\n",
        "    def fit(self): pass\r\n",
        "    def score(self): pass"
      ],
      "execution_count": 12,
      "outputs": []
    },
    {
      "cell_type": "markdown",
      "metadata": {
        "id": "zdSLCgd2CMRn"
      },
      "source": [
        "# **1) Ridge Regressor**"
      ]
    },
    {
      "cell_type": "code",
      "metadata": {
        "id": "M3uYkS2oCHPZ"
      },
      "source": [
        "# Creating space of candidate learning algorithms and their hyperparameters\r\n",
        "alphas = np.linspace(0.05, 0.2, 25) # From various runs, the range of 0.05 to 0.2 seems to perform the best\r\n",
        "search_space = [{'regre': [Ridge()], # Actual Estimator\r\n",
        "                 'regre__alpha': alphas}] ## Alpha determines how much genalization we want to introduce in the model\r\n",
        "\r\n",
        "\r\n",
        "# Final pipe for cross validation; quantiletransformer has a number of 300 quantiles. This was decided from multiple runs.\\\r\n",
        "# Changing from 300 to 1000 shows little impact.\r\n",
        "ridge_final_pipe = Pipeline([('preprocessor', preprocessor),\r\n",
        "                ('regre', TransformedTargetRegressor(regressor=DummyEstimator(),\r\n",
        "                                                         transformer=QuantileTransformer(n_quantiles=300,\r\n",
        "                                                         output_distribution='normal')))]) \r\n",
        "\r\n",
        "# Randomly picking numbers from search space (in this case, alphas) to find the best hyperparameter that performs best\r\n",
        "ridge_randcv = RandomizedSearchCV(estimator=ridge_final_pipe, \r\n",
        "                                 param_distributions=search_space, \r\n",
        "                                 n_iter=20,\r\n",
        "                                 cv=5,\r\n",
        "                                 scoring=['neg_root_mean_squared_error', 'neg_mean_squared_error'],\r\n",
        "                                 n_jobs=-1,\r\n",
        "                                 verbose=1,\r\n",
        "                                 random_state=42,\r\n",
        "                                 refit='neg_root_mean_squared_error')"
      ],
      "execution_count": 13,
      "outputs": []
    },
    {
      "cell_type": "code",
      "metadata": {
        "id": "D6CulIi6CHSy",
        "colab": {
          "base_uri": "https://localhost:8080/",
          "height": 249
        },
        "outputId": "8cb9a57b-625c-49bd-e100-14e854d3c789"
      },
      "source": [
        "set_config(display='diagram')\r\n",
        "ridge_randcv.fit(X_train, y_train)"
      ],
      "execution_count": 14,
      "outputs": [
        {
          "output_type": "stream",
          "text": [
            "Fitting 5 folds for each of 20 candidates, totalling 100 fits\n"
          ],
          "name": "stdout"
        },
        {
          "output_type": "execute_result",
          "data": {
            "text/html": [
              "<style>div.sk-top-container {color: black;background-color: white;}div.sk-toggleable {background-color: white;}label.sk-toggleable__label {cursor: pointer;display: block;width: 100%;margin-bottom: 0;padding: 0.2em 0.3em;box-sizing: border-box;text-align: center;}div.sk-toggleable__content {max-height: 0;max-width: 0;overflow: hidden;text-align: left;background-color: #f0f8ff;}div.sk-toggleable__content pre {margin: 0.2em;color: black;border-radius: 0.25em;background-color: #f0f8ff;}input.sk-toggleable__control:checked~div.sk-toggleable__content {max-height: 200px;max-width: 100%;overflow: auto;}div.sk-estimator input.sk-toggleable__control:checked~label.sk-toggleable__label {background-color: #d4ebff;}div.sk-label input.sk-toggleable__control:checked~label.sk-toggleable__label {background-color: #d4ebff;}input.sk-hidden--visually {border: 0;clip: rect(1px 1px 1px 1px);clip: rect(1px, 1px, 1px, 1px);height: 1px;margin: -1px;overflow: hidden;padding: 0;position: absolute;width: 1px;}div.sk-estimator {font-family: monospace;background-color: #f0f8ff;margin: 0.25em 0.25em;border: 1px dotted black;border-radius: 0.25em;box-sizing: border-box;}div.sk-estimator:hover {background-color: #d4ebff;}div.sk-parallel-item::after {content: \"\";width: 100%;border-bottom: 1px solid gray;flex-grow: 1;}div.sk-label:hover label.sk-toggleable__label {background-color: #d4ebff;}div.sk-serial::before {content: \"\";position: absolute;border-left: 1px solid gray;box-sizing: border-box;top: 2em;bottom: 0;left: 50%;}div.sk-serial {display: flex;flex-direction: column;align-items: center;background-color: white;}div.sk-item {z-index: 1;}div.sk-parallel {display: flex;align-items: stretch;justify-content: center;background-color: white;}div.sk-parallel-item {display: flex;flex-direction: column;position: relative;background-color: white;}div.sk-parallel-item:first-child::after {align-self: flex-end;width: 50%;}div.sk-parallel-item:last-child::after {align-self: flex-start;width: 50%;}div.sk-parallel-item:only-child::after {width: 0;}div.sk-dashed-wrapped {border: 1px dashed gray;margin: 0.2em;box-sizing: border-box;padding-bottom: 0.1em;background-color: white;position: relative;}div.sk-label label {font-family: monospace;font-weight: bold;background-color: white;display: inline-block;line-height: 1.2em;}div.sk-label-container {position: relative;z-index: 2;text-align: center;}div.sk-container {display: inline-block;position: relative;}</style><div class=\"sk-top-container\"><div class=\"sk-container\"><div class=\"sk-item sk-dashed-wrapped\"><div class=\"sk-label-container\"><div class=\"sk-label sk-toggleable\"><input class=\"sk-toggleable__control sk-hidden--visually\" id=\"166b87bc-86d3-49c4-a344-d18b7d8caa22\" type=\"checkbox\" ><label class=\"sk-toggleable__label\" for=\"166b87bc-86d3-49c4-a344-d18b7d8caa22\">RandomizedSearchCV</label><div class=\"sk-toggleable__content\"><pre>RandomizedSearchCV(cv=5,\n",
              "                   estimator=Pipeline(steps=[('preprocessor',\n",
              "                                              ColumnTransformer(transformers=[('categorical',\n",
              "                                                                               Pipeline(steps=[('ohe',\n",
              "                                                                                                OneHotEncoder(handle_unknown='ignore')),\n",
              "                                                                                               ('imputer',\n",
              "                                                                                                SimpleImputer(add_indicator=True,\n",
              "                                                                                                              strategy='most_frequent'))]),\n",
              "                                                                               ['mode',\n",
              "                                                                                'explicit',\n",
              "                                                                                'key',\n",
              "                                                                                'year']),\n",
              "                                                                              ('continuous',\n",
              "                                                                               Pipeline(steps=[('SS',\n",
              "                                                                                                StandardScaler()),\n",
              "                                                                                               ('KNN',\n",
              "                                                                                                KNNImp...\n",
              "                   param_distributions=[{'regre': [Ridge(alpha=0.19375000000000003)],\n",
              "                                         'regre__alpha': array([0.05   , 0.05625, 0.0625 , 0.06875, 0.075  , 0.08125, 0.0875 ,\n",
              "       0.09375, 0.1    , 0.10625, 0.1125 , 0.11875, 0.125  , 0.13125,\n",
              "       0.1375 , 0.14375, 0.15   , 0.15625, 0.1625 , 0.16875, 0.175  ,\n",
              "       0.18125, 0.1875 , 0.19375, 0.2    ])}],\n",
              "                   random_state=42, refit='neg_root_mean_squared_error',\n",
              "                   scoring=['neg_root_mean_squared_error',\n",
              "                            'neg_mean_squared_error'],\n",
              "                   verbose=1)</pre></div></div></div><div class=\"sk-parallel\"><div class=\"sk-parallel-item\"><div class=\"sk-item\"><div class=\"sk-serial\"><div class=\"sk-item\"><div class=\"sk-serial\"><div class=\"sk-item sk-dashed-wrapped\"><div class=\"sk-label-container\"><div class=\"sk-label sk-toggleable\"><input class=\"sk-toggleable__control sk-hidden--visually\" id=\"fede349c-eb62-4b93-bb8e-360d7fdf59b6\" type=\"checkbox\" ><label class=\"sk-toggleable__label\" for=\"fede349c-eb62-4b93-bb8e-360d7fdf59b6\">preprocessor: ColumnTransformer</label><div class=\"sk-toggleable__content\"><pre>ColumnTransformer(transformers=[('categorical',\n",
              "                                 Pipeline(steps=[('ohe',\n",
              "                                                  OneHotEncoder(handle_unknown='ignore')),\n",
              "                                                 ('imputer',\n",
              "                                                  SimpleImputer(add_indicator=True,\n",
              "                                                                strategy='most_frequent'))]),\n",
              "                                 ['mode', 'explicit', 'key', 'year']),\n",
              "                                ('continuous',\n",
              "                                 Pipeline(steps=[('SS', StandardScaler()),\n",
              "                                                 ('KNN', KNNImputer())]),\n",
              "                                 ['acousticness', 'danceability', 'energy',\n",
              "                                  'instrumentalness', 'liveness', 'loudness',\n",
              "                                  'speechiness', 'tempo', 'valence',\n",
              "                                  'duration-min', 'days older'])])</pre></div></div></div><div class=\"sk-parallel\"><div class=\"sk-parallel-item\"><div class=\"sk-item\"><div class=\"sk-label-container\"><div class=\"sk-label sk-toggleable\"><input class=\"sk-toggleable__control sk-hidden--visually\" id=\"487cdc03-0f07-435b-a226-f0842dbd6cdc\" type=\"checkbox\" ><label class=\"sk-toggleable__label\" for=\"487cdc03-0f07-435b-a226-f0842dbd6cdc\">categorical</label><div class=\"sk-toggleable__content\"><pre>['mode', 'explicit', 'key', 'year']</pre></div></div></div><div class=\"sk-serial\"><div class=\"sk-item\"><div class=\"sk-serial\"><div class=\"sk-item\"><div class=\"sk-estimator sk-toggleable\"><input class=\"sk-toggleable__control sk-hidden--visually\" id=\"0d38c112-3cd5-4e04-a9f5-add3b63ddd0a\" type=\"checkbox\" ><label class=\"sk-toggleable__label\" for=\"0d38c112-3cd5-4e04-a9f5-add3b63ddd0a\">OneHotEncoder</label><div class=\"sk-toggleable__content\"><pre>OneHotEncoder(handle_unknown='ignore')</pre></div></div></div><div class=\"sk-item\"><div class=\"sk-estimator sk-toggleable\"><input class=\"sk-toggleable__control sk-hidden--visually\" id=\"f0640c42-8020-43c7-a4f1-5367d0f86ac7\" type=\"checkbox\" ><label class=\"sk-toggleable__label\" for=\"f0640c42-8020-43c7-a4f1-5367d0f86ac7\">SimpleImputer</label><div class=\"sk-toggleable__content\"><pre>SimpleImputer(add_indicator=True, strategy='most_frequent')</pre></div></div></div></div></div></div></div></div><div class=\"sk-parallel-item\"><div class=\"sk-item\"><div class=\"sk-label-container\"><div class=\"sk-label sk-toggleable\"><input class=\"sk-toggleable__control sk-hidden--visually\" id=\"adff7bab-d96f-4343-b045-f30b36376caf\" type=\"checkbox\" ><label class=\"sk-toggleable__label\" for=\"adff7bab-d96f-4343-b045-f30b36376caf\">continuous</label><div class=\"sk-toggleable__content\"><pre>['acousticness', 'danceability', 'energy', 'instrumentalness', 'liveness', 'loudness', 'speechiness', 'tempo', 'valence', 'duration-min', 'days older']</pre></div></div></div><div class=\"sk-serial\"><div class=\"sk-item\"><div class=\"sk-serial\"><div class=\"sk-item\"><div class=\"sk-estimator sk-toggleable\"><input class=\"sk-toggleable__control sk-hidden--visually\" id=\"d482e23f-abbd-43ce-b646-621142dd2072\" type=\"checkbox\" ><label class=\"sk-toggleable__label\" for=\"d482e23f-abbd-43ce-b646-621142dd2072\">StandardScaler</label><div class=\"sk-toggleable__content\"><pre>StandardScaler()</pre></div></div></div><div class=\"sk-item\"><div class=\"sk-estimator sk-toggleable\"><input class=\"sk-toggleable__control sk-hidden--visually\" id=\"0ffb91ae-c7b7-4315-9ada-1e55f38f55a9\" type=\"checkbox\" ><label class=\"sk-toggleable__label\" for=\"0ffb91ae-c7b7-4315-9ada-1e55f38f55a9\">KNNImputer</label><div class=\"sk-toggleable__content\"><pre>KNNImputer()</pre></div></div></div></div></div></div></div></div></div></div><div class=\"sk-item sk-dashed-wrapped\"><div class=\"sk-label-container\"><div class=\"sk-label sk-toggleable\"><input class=\"sk-toggleable__control sk-hidden--visually\" id=\"d7897b8f-ffe1-434f-af84-23fcad341490\" type=\"checkbox\" ><label class=\"sk-toggleable__label\" for=\"d7897b8f-ffe1-434f-af84-23fcad341490\">regre: TransformedTargetRegressor</label><div class=\"sk-toggleable__content\"><pre>TransformedTargetRegressor(regressor=DummyEstimator(),\n",
              "                           transformer=QuantileTransformer(n_quantiles=300,\n",
              "                                                           output_distribution='normal'))</pre></div></div></div><div class=\"sk-parallel\"><div class=\"sk-parallel-item\"><div class=\"sk-item\"><div class=\"sk-serial\"><div class=\"sk-item\"><div class=\"sk-estimator sk-toggleable\"><input class=\"sk-toggleable__control sk-hidden--visually\" id=\"f5056092-983f-4b54-a9b0-322909475345\" type=\"checkbox\" ><label class=\"sk-toggleable__label\" for=\"f5056092-983f-4b54-a9b0-322909475345\">DummyEstimator</label><div class=\"sk-toggleable__content\"><pre>DummyEstimator()</pre></div></div></div></div></div></div><div class=\"sk-parallel-item\"><div class=\"sk-item\"><div class=\"sk-serial\"><div class=\"sk-item\"><div class=\"sk-estimator sk-toggleable\"><input class=\"sk-toggleable__control sk-hidden--visually\" id=\"60426f54-c3b9-4e70-977b-6a0a3d89b3d4\" type=\"checkbox\" ><label class=\"sk-toggleable__label\" for=\"60426f54-c3b9-4e70-977b-6a0a3d89b3d4\">QuantileTransformer</label><div class=\"sk-toggleable__content\"><pre>QuantileTransformer(n_quantiles=300, output_distribution='normal')</pre></div></div></div></div></div></div></div></div></div></div></div></div></div></div></div></div></div>"
            ],
            "text/plain": [
              "RandomizedSearchCV(cv=5,\n",
              "                   estimator=Pipeline(steps=[('preprocessor',\n",
              "                                              ColumnTransformer(transformers=[('categorical',\n",
              "                                                                               Pipeline(steps=[('ohe',\n",
              "                                                                                                OneHotEncoder(handle_unknown='ignore')),\n",
              "                                                                                               ('imputer',\n",
              "                                                                                                SimpleImputer(add_indicator=True,\n",
              "                                                                                                              strategy='most_frequent'))]),\n",
              "                                                                               ['mode',\n",
              "                                                                                'explicit',\n",
              "                                                                                'key',\n",
              "                                                                                'year']),\n",
              "                                                                              ('continuous',\n",
              "                                                                               Pipeline(steps=[('SS',\n",
              "                                                                                                StandardScaler()),\n",
              "                                                                                               ('KNN',\n",
              "                                                                                                KNNImp...\n",
              "                   param_distributions=[{'regre': [Ridge(alpha=0.19375000000000003)],\n",
              "                                         'regre__alpha': array([0.05   , 0.05625, 0.0625 , 0.06875, 0.075  , 0.08125, 0.0875 ,\n",
              "       0.09375, 0.1    , 0.10625, 0.1125 , 0.11875, 0.125  , 0.13125,\n",
              "       0.1375 , 0.14375, 0.15   , 0.15625, 0.1625 , 0.16875, 0.175  ,\n",
              "       0.18125, 0.1875 , 0.19375, 0.2    ])}],\n",
              "                   random_state=42, refit='neg_root_mean_squared_error',\n",
              "                   scoring=['neg_root_mean_squared_error',\n",
              "                            'neg_mean_squared_error'],\n",
              "                   verbose=1)"
            ]
          },
          "metadata": {
            "tags": []
          },
          "execution_count": 14
        }
      ]
    },
    {
      "cell_type": "code",
      "metadata": {
        "id": "ESNHQqVhCHXq",
        "colab": {
          "base_uri": "https://localhost:8080/"
        },
        "outputId": "d6724097-7358-434e-f07a-9cb5d01be04b"
      },
      "source": [
        "### Inspecting all cross-validation results and choose best score (RMSE) and best params.\r\n",
        "ridge_randcv.cv_results_"
      ],
      "execution_count": 15,
      "outputs": [
        {
          "output_type": "execute_result",
          "data": {
            "text/plain": [
              "{'mean_fit_time': array([0.10143023, 0.09968557, 0.09931078, 0.10021844, 0.09868202,\n",
              "        0.09711699, 0.10108066, 0.10475335, 0.09931946, 0.09931054,\n",
              "        0.09805913, 0.09552169, 0.09803648, 0.09777532, 0.0992312 ,\n",
              "        0.09845695, 0.10047855, 0.09906187, 0.10024781, 0.10031099]),\n",
              " 'mean_score_time': array([0.01987329, 0.01724358, 0.01795535, 0.0155643 , 0.01593652,\n",
              "        0.0161571 , 0.01707115, 0.01599264, 0.01516757, 0.01758904,\n",
              "        0.01554332, 0.01599507, 0.01637268, 0.0156508 , 0.01582093,\n",
              "        0.01522465, 0.0158875 , 0.01687951, 0.01555586, 0.01411791]),\n",
              " 'mean_test_neg_mean_squared_error': array([-0.70113129, -0.70112397, -0.70113819, -0.70111707, -0.70113022,\n",
              "        -0.70113015, -0.70118573, -0.70113864, -0.7011194 , -0.70122444,\n",
              "        -0.7011376 , -0.70112797, -0.701124  , -0.70119554, -0.70113594,\n",
              "        -0.70111961, -0.70112301, -0.70111961, -0.70112212, -0.70111711]),\n",
              " 'mean_test_neg_root_mean_squared_error': array([-0.83703489, -0.83703049, -0.83703902, -0.83702635, -0.83703423,\n",
              "        -0.8370342 , -0.83706684, -0.83703929, -0.83702775, -0.83708838,\n",
              "        -0.83703867, -0.8370329 , -0.8370305 , -0.83707273, -0.83703766,\n",
              "        -0.83702786, -0.83702991, -0.83702787, -0.83702938, -0.83702638]),\n",
              " 'param_regre': masked_array(data=[Ridge(alpha=0.19375000000000003),\n",
              "                    Ridge(alpha=0.19375000000000003),\n",
              "                    Ridge(alpha=0.19375000000000003),\n",
              "                    Ridge(alpha=0.19375000000000003),\n",
              "                    Ridge(alpha=0.19375000000000003),\n",
              "                    Ridge(alpha=0.19375000000000003),\n",
              "                    Ridge(alpha=0.19375000000000003),\n",
              "                    Ridge(alpha=0.19375000000000003),\n",
              "                    Ridge(alpha=0.19375000000000003),\n",
              "                    Ridge(alpha=0.19375000000000003),\n",
              "                    Ridge(alpha=0.19375000000000003),\n",
              "                    Ridge(alpha=0.19375000000000003),\n",
              "                    Ridge(alpha=0.19375000000000003),\n",
              "                    Ridge(alpha=0.19375000000000003),\n",
              "                    Ridge(alpha=0.19375000000000003),\n",
              "                    Ridge(alpha=0.19375000000000003),\n",
              "                    Ridge(alpha=0.19375000000000003),\n",
              "                    Ridge(alpha=0.19375000000000003),\n",
              "                    Ridge(alpha=0.19375000000000003),\n",
              "                    Ridge(alpha=0.19375000000000003)],\n",
              "              mask=[False, False, False, False, False, False, False, False,\n",
              "                    False, False, False, False, False, False, False, False,\n",
              "                    False, False, False, False],\n",
              "        fill_value='?',\n",
              "             dtype=object),\n",
              " 'param_regre__alpha': masked_array(data=[0.1, 0.15000000000000002, 0.05, 0.19375000000000003,\n",
              "                    0.11875000000000002, 0.10625000000000001,\n",
              "                    0.13125000000000003, 0.05625, 0.18750000000000006,\n",
              "                    0.08125000000000002, 0.0625, 0.125,\n",
              "                    0.14375000000000002, 0.06875, 0.07500000000000001,\n",
              "                    0.17500000000000004, 0.15625000000000003,\n",
              "                    0.18125000000000002, 0.16250000000000003, 0.2],\n",
              "              mask=[False, False, False, False, False, False, False, False,\n",
              "                    False, False, False, False, False, False, False, False,\n",
              "                    False, False, False, False],\n",
              "        fill_value='?',\n",
              "             dtype=object),\n",
              " 'params': [{'regre': Ridge(alpha=0.19375000000000003), 'regre__alpha': 0.1},\n",
              "  {'regre': Ridge(alpha=0.19375000000000003),\n",
              "   'regre__alpha': 0.15000000000000002},\n",
              "  {'regre': Ridge(alpha=0.19375000000000003), 'regre__alpha': 0.05},\n",
              "  {'regre': Ridge(alpha=0.19375000000000003),\n",
              "   'regre__alpha': 0.19375000000000003},\n",
              "  {'regre': Ridge(alpha=0.19375000000000003),\n",
              "   'regre__alpha': 0.11875000000000002},\n",
              "  {'regre': Ridge(alpha=0.19375000000000003),\n",
              "   'regre__alpha': 0.10625000000000001},\n",
              "  {'regre': Ridge(alpha=0.19375000000000003),\n",
              "   'regre__alpha': 0.13125000000000003},\n",
              "  {'regre': Ridge(alpha=0.19375000000000003), 'regre__alpha': 0.05625},\n",
              "  {'regre': Ridge(alpha=0.19375000000000003),\n",
              "   'regre__alpha': 0.18750000000000006},\n",
              "  {'regre': Ridge(alpha=0.19375000000000003),\n",
              "   'regre__alpha': 0.08125000000000002},\n",
              "  {'regre': Ridge(alpha=0.19375000000000003), 'regre__alpha': 0.0625},\n",
              "  {'regre': Ridge(alpha=0.19375000000000003), 'regre__alpha': 0.125},\n",
              "  {'regre': Ridge(alpha=0.19375000000000003),\n",
              "   'regre__alpha': 0.14375000000000002},\n",
              "  {'regre': Ridge(alpha=0.19375000000000003), 'regre__alpha': 0.06875},\n",
              "  {'regre': Ridge(alpha=0.19375000000000003),\n",
              "   'regre__alpha': 0.07500000000000001},\n",
              "  {'regre': Ridge(alpha=0.19375000000000003),\n",
              "   'regre__alpha': 0.17500000000000004},\n",
              "  {'regre': Ridge(alpha=0.19375000000000003),\n",
              "   'regre__alpha': 0.15625000000000003},\n",
              "  {'regre': Ridge(alpha=0.19375000000000003),\n",
              "   'regre__alpha': 0.18125000000000002},\n",
              "  {'regre': Ridge(alpha=0.19375000000000003),\n",
              "   'regre__alpha': 0.16250000000000003},\n",
              "  {'regre': Ridge(alpha=0.19375000000000003), 'regre__alpha': 0.2}],\n",
              " 'rank_test_neg_mean_squared_error': array([13,  8, 16,  1, 12, 11, 18, 17,  3, 20, 15, 10,  9, 19, 14,  4,  7,\n",
              "         5,  6,  2], dtype=int32),\n",
              " 'rank_test_neg_root_mean_squared_error': array([13,  8, 16,  1, 12, 11, 18, 17,  3, 20, 15, 10,  9, 19, 14,  4,  7,\n",
              "         5,  6,  2], dtype=int32),\n",
              " 'split0_test_neg_mean_squared_error': array([-0.6769312 , -0.67692198, -0.67693437, -0.67691326, -0.67692988,\n",
              "        -0.67693027, -0.67692555, -0.67694075, -0.67691884, -0.67693613,\n",
              "        -0.67693949, -0.67692663, -0.67691834, -0.6769376 , -0.6769349 ,\n",
              "        -0.67691373, -0.67692002, -0.67691589, -0.67691941, -0.67691493]),\n",
              " 'split0_test_neg_root_mean_squared_error': array([-0.82275829, -0.82275268, -0.82276022, -0.82274739, -0.82275749,\n",
              "        -0.82275773, -0.82275485, -0.82276409, -0.82275078, -0.82276128,\n",
              "        -0.82276332, -0.82275551, -0.82275047, -0.82276218, -0.82276054,\n",
              "        -0.82274767, -0.8227515 , -0.82274898, -0.82275112, -0.8227484 ]),\n",
              " 'split1_test_neg_mean_squared_error': array([-0.72268962, -0.72269426, -0.72268849, -0.72269641, -0.72269652,\n",
              "        -0.72268996, -0.72298776, -0.72268869, -0.72269732, -0.722692  ,\n",
              "        -0.72268825, -0.7226929 , -0.72269394, -0.72298424, -0.72269265,\n",
              "        -0.72269736, -0.72269556, -0.72269882, -0.72269639, -0.72269839]),\n",
              " 'split1_test_neg_root_mean_squared_error': array([-0.85011154, -0.85011426, -0.85011087, -0.85011553, -0.85011559,\n",
              "        -0.85011173, -0.85028687, -0.85011099, -0.85011606, -0.85011294,\n",
              "        -0.85011073, -0.85011346, -0.85011408, -0.8502848 , -0.85011332,\n",
              "        -0.85011608, -0.85011503, -0.85011695, -0.85011552, -0.85011669]),\n",
              " 'split2_test_neg_mean_squared_error': array([-0.76052184, -0.76050881, -0.7605345 , -0.76049716, -0.7605176 ,\n",
              "        -0.76051994, -0.76051337, -0.76053337, -0.76050028, -0.76097366,\n",
              "        -0.76053182, -0.76051489, -0.76051084, -0.76052985, -0.7605285 ,\n",
              "        -0.76050222, -0.76050716, -0.76050029, -0.76050548, -0.76049595]),\n",
              " 'split2_test_neg_root_mean_squared_error': array([-0.87207903, -0.87207156, -0.87208629, -0.87206488, -0.8720766 ,\n",
              "        -0.87207795, -0.87207418, -0.87208565, -0.87206667, -0.87233804,\n",
              "        -0.87208475, -0.87207505, -0.87207273, -0.87208363, -0.87208285,\n",
              "        -0.87206778, -0.87207062, -0.87206668, -0.87206965, -0.87206419]),\n",
              " 'split3_test_neg_mean_squared_error': array([-0.69426303, -0.69425633, -0.69427023, -0.69425037, -0.69426092,\n",
              "        -0.69426137, -0.69425881, -0.69426918, -0.69425098, -0.69426534,\n",
              "        -0.69426854, -0.69425908, -0.69425671, -0.69426764, -0.69426673,\n",
              "        -0.69425269, -0.69425512, -0.69425188, -0.69425404, -0.69424941]),\n",
              " 'split3_test_neg_root_mean_squared_error': array([-0.83322448, -0.83322046, -0.8332288 , -0.83321688, -0.83322321,\n",
              "        -0.83322348, -0.83322195, -0.83322817, -0.83321725, -0.83322586,\n",
              "        -0.83322778, -0.83322211, -0.83322069, -0.83322725, -0.8332267 ,\n",
              "        -0.83321827, -0.83321973, -0.83321779, -0.83321908, -0.83321631]),\n",
              " 'split4_test_neg_mean_squared_error': array([-0.65125078, -0.65123847, -0.65126337, -0.65122813, -0.65124619,\n",
              "        -0.65124922, -0.65124315, -0.65126121, -0.65122958, -0.65125509,\n",
              "        -0.65125988, -0.65124635, -0.65124018, -0.65125838, -0.6512569 ,\n",
              "        -0.65123204, -0.65123716, -0.65123119, -0.65123529, -0.65122689]),\n",
              " 'split4_test_neg_root_mean_squared_error': array([-0.8070011 , -0.80699347, -0.8070089 , -0.80698707, -0.80699826,\n",
              "        -0.80700014, -0.80699638, -0.80700757, -0.80698797, -0.80700377,\n",
              "        -0.80700674, -0.80699836, -0.80699454, -0.80700581, -0.80700489,\n",
              "        -0.80698949, -0.80699266, -0.80698897, -0.80699151, -0.8069863 ]),\n",
              " 'std_fit_time': array([0.0046208 , 0.00580527, 0.0066742 , 0.00415469, 0.00623342,\n",
              "        0.0033761 , 0.00854381, 0.00578365, 0.00264546, 0.00225454,\n",
              "        0.00154531, 0.00079046, 0.00651594, 0.0023464 , 0.00524229,\n",
              "        0.0024027 , 0.00439648, 0.0053114 , 0.00318941, 0.00729727]),\n",
              " 'std_score_time': array([0.00730631, 0.00228707, 0.00256181, 0.00026144, 0.00075023,\n",
              "        0.00058102, 0.00093769, 0.00089592, 0.00027663, 0.0051215 ,\n",
              "        0.00048891, 0.00024558, 0.00192299, 0.00047816, 0.00060654,\n",
              "        0.00034781, 0.00038349, 0.00212204, 0.00034754, 0.00247522]),\n",
              " 'std_test_neg_mean_squared_error': array([0.03771706, 0.03771817, 0.03771691, 0.03771881, 0.03771797,\n",
              "        0.03771709, 0.03775155, 0.03771637, 0.03771878, 0.03785793,\n",
              "        0.03771637, 0.03771714, 0.03771877, 0.03775042, 0.03771727,\n",
              "        0.03771934, 0.03771844, 0.03771888, 0.03771861, 0.03771881]),\n",
              " 'std_test_neg_root_mean_squared_error': array([0.02244754, 0.02244841, 0.02244725, 0.02244898, 0.02244816,\n",
              "        0.02244758, 0.02246834, 0.02244694, 0.02244892, 0.02252752,\n",
              "        0.02244697, 0.02244769, 0.02244874, 0.0224674 , 0.02244756,\n",
              "        0.02244922, 0.0224486 , 0.02244897, 0.02244873, 0.022449  ])}"
            ]
          },
          "metadata": {
            "tags": []
          },
          "execution_count": 15
        }
      ]
    },
    {
      "cell_type": "code",
      "metadata": {
        "id": "bOzsR-E1DAwI",
        "colab": {
          "base_uri": "https://localhost:8080/"
        },
        "outputId": "3e29e31b-d95d-4c8c-fd51-2614c6dc6e7f"
      },
      "source": [
        "ridge_randcv.best_score_"
      ],
      "execution_count": 16,
      "outputs": [
        {
          "output_type": "execute_result",
          "data": {
            "text/plain": [
              "-0.83702634895181"
            ]
          },
          "metadata": {
            "tags": []
          },
          "execution_count": 16
        }
      ]
    },
    {
      "cell_type": "code",
      "metadata": {
        "id": "4AbISUghDDW7",
        "colab": {
          "base_uri": "https://localhost:8080/"
        },
        "outputId": "38183579-8a55-4a69-eb0a-81e0d8fa794b"
      },
      "source": [
        "ridge_randcv.best_params_"
      ],
      "execution_count": 17,
      "outputs": [
        {
          "output_type": "execute_result",
          "data": {
            "text/plain": [
              "{'regre': Ridge(alpha=0.19375000000000003),\n",
              " 'regre__alpha': 0.19375000000000003}"
            ]
          },
          "metadata": {
            "tags": []
          },
          "execution_count": 17
        }
      ]
    },
    {
      "cell_type": "markdown",
      "metadata": {
        "id": "jB2oSGxBDHpH"
      },
      "source": [
        "# **2) HuberRegressor**"
      ]
    },
    {
      "cell_type": "code",
      "metadata": {
        "id": "JePCyz8BDHIg"
      },
      "source": [
        "# Creating space of candidate learning algorithms and their hyperparameters\r\n",
        "alphas = [0.0001, 0.01, 0.1, 1, 10] ## Similar to Ridge, this is for genalization\r\n",
        "eps = [1.1, 1.2, 1.3, 1.4, 1.5] ## This is for adjusting how robust HuberRegressor is to outliers. \r\n",
        "search_space = [{'regre': [HuberRegressor(max_iter=1500)], #using max_iter as 1500 for converging results\r\n",
        "                 'regre__alpha': alphas,\r\n",
        "                 'regre__epsilon': eps}] \r\n",
        "\r\n",
        "huber_final_pipe = Pipeline([('preprocessor', preprocessor),\r\n",
        "                ('regre', TransformedTargetRegressor(regressor=DummyEstimator(),\r\n",
        "                                                         transformer=QuantileTransformer(n_quantiles=300,\r\n",
        "                                                         output_distribution='normal')))])\r\n",
        "huber_randcv = RandomizedSearchCV(estimator=huber_final_pipe, \r\n",
        "                                 param_distributions=search_space, \r\n",
        "                                 n_iter=10,\r\n",
        "                                 cv=5,\r\n",
        "                                 scoring=['neg_root_mean_squared_error', 'neg_mean_squared_error'],\r\n",
        "                                 n_jobs=-1,\r\n",
        "                                 verbose=1,\r\n",
        "                                 random_state=42,\r\n",
        "                                 refit='neg_root_mean_squared_error')"
      ],
      "execution_count": 18,
      "outputs": []
    },
    {
      "cell_type": "code",
      "metadata": {
        "id": "ff4lrlMYDS4Y",
        "colab": {
          "base_uri": "https://localhost:8080/",
          "height": 249
        },
        "outputId": "5655ab5e-58a6-4afe-d9d7-78c81616b71f"
      },
      "source": [
        "huber_randcv.fit(X_train, y_train)"
      ],
      "execution_count": 19,
      "outputs": [
        {
          "output_type": "stream",
          "text": [
            "Fitting 5 folds for each of 10 candidates, totalling 50 fits\n"
          ],
          "name": "stdout"
        },
        {
          "output_type": "execute_result",
          "data": {
            "text/html": [
              "<style>div.sk-top-container {color: black;background-color: white;}div.sk-toggleable {background-color: white;}label.sk-toggleable__label {cursor: pointer;display: block;width: 100%;margin-bottom: 0;padding: 0.2em 0.3em;box-sizing: border-box;text-align: center;}div.sk-toggleable__content {max-height: 0;max-width: 0;overflow: hidden;text-align: left;background-color: #f0f8ff;}div.sk-toggleable__content pre {margin: 0.2em;color: black;border-radius: 0.25em;background-color: #f0f8ff;}input.sk-toggleable__control:checked~div.sk-toggleable__content {max-height: 200px;max-width: 100%;overflow: auto;}div.sk-estimator input.sk-toggleable__control:checked~label.sk-toggleable__label {background-color: #d4ebff;}div.sk-label input.sk-toggleable__control:checked~label.sk-toggleable__label {background-color: #d4ebff;}input.sk-hidden--visually {border: 0;clip: rect(1px 1px 1px 1px);clip: rect(1px, 1px, 1px, 1px);height: 1px;margin: -1px;overflow: hidden;padding: 0;position: absolute;width: 1px;}div.sk-estimator {font-family: monospace;background-color: #f0f8ff;margin: 0.25em 0.25em;border: 1px dotted black;border-radius: 0.25em;box-sizing: border-box;}div.sk-estimator:hover {background-color: #d4ebff;}div.sk-parallel-item::after {content: \"\";width: 100%;border-bottom: 1px solid gray;flex-grow: 1;}div.sk-label:hover label.sk-toggleable__label {background-color: #d4ebff;}div.sk-serial::before {content: \"\";position: absolute;border-left: 1px solid gray;box-sizing: border-box;top: 2em;bottom: 0;left: 50%;}div.sk-serial {display: flex;flex-direction: column;align-items: center;background-color: white;}div.sk-item {z-index: 1;}div.sk-parallel {display: flex;align-items: stretch;justify-content: center;background-color: white;}div.sk-parallel-item {display: flex;flex-direction: column;position: relative;background-color: white;}div.sk-parallel-item:first-child::after {align-self: flex-end;width: 50%;}div.sk-parallel-item:last-child::after {align-self: flex-start;width: 50%;}div.sk-parallel-item:only-child::after {width: 0;}div.sk-dashed-wrapped {border: 1px dashed gray;margin: 0.2em;box-sizing: border-box;padding-bottom: 0.1em;background-color: white;position: relative;}div.sk-label label {font-family: monospace;font-weight: bold;background-color: white;display: inline-block;line-height: 1.2em;}div.sk-label-container {position: relative;z-index: 2;text-align: center;}div.sk-container {display: inline-block;position: relative;}</style><div class=\"sk-top-container\"><div class=\"sk-container\"><div class=\"sk-item sk-dashed-wrapped\"><div class=\"sk-label-container\"><div class=\"sk-label sk-toggleable\"><input class=\"sk-toggleable__control sk-hidden--visually\" id=\"c8a5e693-f766-4f80-b208-2f69d2caa9c4\" type=\"checkbox\" ><label class=\"sk-toggleable__label\" for=\"c8a5e693-f766-4f80-b208-2f69d2caa9c4\">RandomizedSearchCV</label><div class=\"sk-toggleable__content\"><pre>RandomizedSearchCV(cv=5,\n",
              "                   estimator=Pipeline(steps=[('preprocessor',\n",
              "                                              ColumnTransformer(transformers=[('categorical',\n",
              "                                                                               Pipeline(steps=[('ohe',\n",
              "                                                                                                OneHotEncoder(handle_unknown='ignore')),\n",
              "                                                                                               ('imputer',\n",
              "                                                                                                SimpleImputer(add_indicator=True,\n",
              "                                                                                                              strategy='most_frequent'))]),\n",
              "                                                                               ['mode',\n",
              "                                                                                'explicit',\n",
              "                                                                                'key',\n",
              "                                                                                'year']),\n",
              "                                                                              ('continuous',\n",
              "                                                                               Pipeline(steps=[('SS',\n",
              "                                                                                                StandardScaler()),\n",
              "                                                                                               ('KNN',\n",
              "                                                                                                KNNImp...\n",
              "                                                                         transformer=QuantileTransformer(n_quantiles=300,\n",
              "                                                                                                         output_distribution='normal')))]),\n",
              "                   n_jobs=-1,\n",
              "                   param_distributions=[{'regre': [HuberRegressor(alpha=0.01,\n",
              "                                                                  epsilon=1.5,\n",
              "                                                                  max_iter=1500)],\n",
              "                                         'regre__alpha': [0.0001, 0.01, 0.1, 1,\n",
              "                                                          10],\n",
              "                                         'regre__epsilon': [1.1, 1.2, 1.3, 1.4,\n",
              "                                                            1.5]}],\n",
              "                   random_state=42, refit='neg_root_mean_squared_error',\n",
              "                   scoring=['neg_root_mean_squared_error',\n",
              "                            'neg_mean_squared_error'],\n",
              "                   verbose=1)</pre></div></div></div><div class=\"sk-parallel\"><div class=\"sk-parallel-item\"><div class=\"sk-item\"><div class=\"sk-serial\"><div class=\"sk-item\"><div class=\"sk-serial\"><div class=\"sk-item sk-dashed-wrapped\"><div class=\"sk-label-container\"><div class=\"sk-label sk-toggleable\"><input class=\"sk-toggleable__control sk-hidden--visually\" id=\"54314760-e87d-4359-b31e-d611bab9c0a4\" type=\"checkbox\" ><label class=\"sk-toggleable__label\" for=\"54314760-e87d-4359-b31e-d611bab9c0a4\">preprocessor: ColumnTransformer</label><div class=\"sk-toggleable__content\"><pre>ColumnTransformer(transformers=[('categorical',\n",
              "                                 Pipeline(steps=[('ohe',\n",
              "                                                  OneHotEncoder(handle_unknown='ignore')),\n",
              "                                                 ('imputer',\n",
              "                                                  SimpleImputer(add_indicator=True,\n",
              "                                                                strategy='most_frequent'))]),\n",
              "                                 ['mode', 'explicit', 'key', 'year']),\n",
              "                                ('continuous',\n",
              "                                 Pipeline(steps=[('SS', StandardScaler()),\n",
              "                                                 ('KNN', KNNImputer())]),\n",
              "                                 ['acousticness', 'danceability', 'energy',\n",
              "                                  'instrumentalness', 'liveness', 'loudness',\n",
              "                                  'speechiness', 'tempo', 'valence',\n",
              "                                  'duration-min', 'days older'])])</pre></div></div></div><div class=\"sk-parallel\"><div class=\"sk-parallel-item\"><div class=\"sk-item\"><div class=\"sk-label-container\"><div class=\"sk-label sk-toggleable\"><input class=\"sk-toggleable__control sk-hidden--visually\" id=\"29672b8e-c023-4e5f-b16f-7d2f19fc3ff9\" type=\"checkbox\" ><label class=\"sk-toggleable__label\" for=\"29672b8e-c023-4e5f-b16f-7d2f19fc3ff9\">categorical</label><div class=\"sk-toggleable__content\"><pre>['mode', 'explicit', 'key', 'year']</pre></div></div></div><div class=\"sk-serial\"><div class=\"sk-item\"><div class=\"sk-serial\"><div class=\"sk-item\"><div class=\"sk-estimator sk-toggleable\"><input class=\"sk-toggleable__control sk-hidden--visually\" id=\"be72aab3-9fc4-4a08-a407-17eaf3cd6dfe\" type=\"checkbox\" ><label class=\"sk-toggleable__label\" for=\"be72aab3-9fc4-4a08-a407-17eaf3cd6dfe\">OneHotEncoder</label><div class=\"sk-toggleable__content\"><pre>OneHotEncoder(handle_unknown='ignore')</pre></div></div></div><div class=\"sk-item\"><div class=\"sk-estimator sk-toggleable\"><input class=\"sk-toggleable__control sk-hidden--visually\" id=\"00875a71-a6b9-4089-965a-38f07a2e64c8\" type=\"checkbox\" ><label class=\"sk-toggleable__label\" for=\"00875a71-a6b9-4089-965a-38f07a2e64c8\">SimpleImputer</label><div class=\"sk-toggleable__content\"><pre>SimpleImputer(add_indicator=True, strategy='most_frequent')</pre></div></div></div></div></div></div></div></div><div class=\"sk-parallel-item\"><div class=\"sk-item\"><div class=\"sk-label-container\"><div class=\"sk-label sk-toggleable\"><input class=\"sk-toggleable__control sk-hidden--visually\" id=\"dce34589-71e7-496c-81f3-4a4621a8d319\" type=\"checkbox\" ><label class=\"sk-toggleable__label\" for=\"dce34589-71e7-496c-81f3-4a4621a8d319\">continuous</label><div class=\"sk-toggleable__content\"><pre>['acousticness', 'danceability', 'energy', 'instrumentalness', 'liveness', 'loudness', 'speechiness', 'tempo', 'valence', 'duration-min', 'days older']</pre></div></div></div><div class=\"sk-serial\"><div class=\"sk-item\"><div class=\"sk-serial\"><div class=\"sk-item\"><div class=\"sk-estimator sk-toggleable\"><input class=\"sk-toggleable__control sk-hidden--visually\" id=\"16226c72-29c5-472b-a6dd-590b3f65697a\" type=\"checkbox\" ><label class=\"sk-toggleable__label\" for=\"16226c72-29c5-472b-a6dd-590b3f65697a\">StandardScaler</label><div class=\"sk-toggleable__content\"><pre>StandardScaler()</pre></div></div></div><div class=\"sk-item\"><div class=\"sk-estimator sk-toggleable\"><input class=\"sk-toggleable__control sk-hidden--visually\" id=\"9f54cefc-6239-42cc-affb-2793fa96d26b\" type=\"checkbox\" ><label class=\"sk-toggleable__label\" for=\"9f54cefc-6239-42cc-affb-2793fa96d26b\">KNNImputer</label><div class=\"sk-toggleable__content\"><pre>KNNImputer()</pre></div></div></div></div></div></div></div></div></div></div><div class=\"sk-item sk-dashed-wrapped\"><div class=\"sk-label-container\"><div class=\"sk-label sk-toggleable\"><input class=\"sk-toggleable__control sk-hidden--visually\" id=\"8bc64b9f-4632-409d-b8cc-bbfad8c603b2\" type=\"checkbox\" ><label class=\"sk-toggleable__label\" for=\"8bc64b9f-4632-409d-b8cc-bbfad8c603b2\">regre: TransformedTargetRegressor</label><div class=\"sk-toggleable__content\"><pre>TransformedTargetRegressor(regressor=DummyEstimator(),\n",
              "                           transformer=QuantileTransformer(n_quantiles=300,\n",
              "                                                           output_distribution='normal'))</pre></div></div></div><div class=\"sk-parallel\"><div class=\"sk-parallel-item\"><div class=\"sk-item\"><div class=\"sk-serial\"><div class=\"sk-item\"><div class=\"sk-estimator sk-toggleable\"><input class=\"sk-toggleable__control sk-hidden--visually\" id=\"f9158ade-e31e-4665-b078-8023e16d52a8\" type=\"checkbox\" ><label class=\"sk-toggleable__label\" for=\"f9158ade-e31e-4665-b078-8023e16d52a8\">DummyEstimator</label><div class=\"sk-toggleable__content\"><pre>DummyEstimator()</pre></div></div></div></div></div></div><div class=\"sk-parallel-item\"><div class=\"sk-item\"><div class=\"sk-serial\"><div class=\"sk-item\"><div class=\"sk-estimator sk-toggleable\"><input class=\"sk-toggleable__control sk-hidden--visually\" id=\"700fbfa1-6a9f-44f9-b90e-31435ad7fac8\" type=\"checkbox\" ><label class=\"sk-toggleable__label\" for=\"700fbfa1-6a9f-44f9-b90e-31435ad7fac8\">QuantileTransformer</label><div class=\"sk-toggleable__content\"><pre>QuantileTransformer(n_quantiles=300, output_distribution='normal')</pre></div></div></div></div></div></div></div></div></div></div></div></div></div></div></div></div></div>"
            ],
            "text/plain": [
              "RandomizedSearchCV(cv=5,\n",
              "                   estimator=Pipeline(steps=[('preprocessor',\n",
              "                                              ColumnTransformer(transformers=[('categorical',\n",
              "                                                                               Pipeline(steps=[('ohe',\n",
              "                                                                                                OneHotEncoder(handle_unknown='ignore')),\n",
              "                                                                                               ('imputer',\n",
              "                                                                                                SimpleImputer(add_indicator=True,\n",
              "                                                                                                              strategy='most_frequent'))]),\n",
              "                                                                               ['mode',\n",
              "                                                                                'explicit',\n",
              "                                                                                'key',\n",
              "                                                                                'year']),\n",
              "                                                                              ('continuous',\n",
              "                                                                               Pipeline(steps=[('SS',\n",
              "                                                                                                StandardScaler()),\n",
              "                                                                                               ('KNN',\n",
              "                                                                                                KNNImp...\n",
              "                                                                         transformer=QuantileTransformer(n_quantiles=300,\n",
              "                                                                                                         output_distribution='normal')))]),\n",
              "                   n_jobs=-1,\n",
              "                   param_distributions=[{'regre': [HuberRegressor(alpha=0.01,\n",
              "                                                                  epsilon=1.5,\n",
              "                                                                  max_iter=1500)],\n",
              "                                         'regre__alpha': [0.0001, 0.01, 0.1, 1,\n",
              "                                                          10],\n",
              "                                         'regre__epsilon': [1.1, 1.2, 1.3, 1.4,\n",
              "                                                            1.5]}],\n",
              "                   random_state=42, refit='neg_root_mean_squared_error',\n",
              "                   scoring=['neg_root_mean_squared_error',\n",
              "                            'neg_mean_squared_error'],\n",
              "                   verbose=1)"
            ]
          },
          "metadata": {
            "tags": []
          },
          "execution_count": 19
        }
      ]
    },
    {
      "cell_type": "code",
      "metadata": {
        "id": "wrYk8gptDX0G",
        "colab": {
          "base_uri": "https://localhost:8080/"
        },
        "outputId": "41c7a235-e64f-49c9-dd08-f7c5453acbea"
      },
      "source": [
        "huber_randcv.best_params_"
      ],
      "execution_count": 20,
      "outputs": [
        {
          "output_type": "execute_result",
          "data": {
            "text/plain": [
              "{'regre': HuberRegressor(alpha=0.01, epsilon=1.5, max_iter=1500),\n",
              " 'regre__alpha': 0.01,\n",
              " 'regre__epsilon': 1.5}"
            ]
          },
          "metadata": {
            "tags": []
          },
          "execution_count": 20
        }
      ]
    },
    {
      "cell_type": "code",
      "metadata": {
        "id": "yihEMjwfDa-0",
        "colab": {
          "base_uri": "https://localhost:8080/"
        },
        "outputId": "b998a9e2-1870-4641-efcc-542fc6f63515"
      },
      "source": [
        "huber_randcv.best_score_"
      ],
      "execution_count": 21,
      "outputs": [
        {
          "output_type": "execute_result",
          "data": {
            "text/plain": [
              "-0.8645448926956589"
            ]
          },
          "metadata": {
            "tags": []
          },
          "execution_count": 21
        }
      ]
    },
    {
      "cell_type": "markdown",
      "metadata": {
        "id": "zfIvCAXKDoa3"
      },
      "source": [
        "# **3) Second Run HuberRegressor**"
      ]
    },
    {
      "cell_type": "code",
      "metadata": {
        "id": "ftPUCFksDnzJ"
      },
      "source": [
        "# Creating space of candidate learning algorithms and their hyperparameters\r\n",
        "alphas = np.linspace(0.0001, 0.001, 10) # Huber requires the genearlization to be lower than Ridge, \r\n",
        "                                        # trying range of 0.0001 to 0.001\r\n",
        "eps = np.linspace(1.4, 1.6, 10) # This is for adjusting how robust HuberRegressor is to outliers. \r\n",
        "search_space = [{'regre': [HuberRegressor(max_iter=1500)], # using max_iter as 1500 for converging results\r\n",
        "                 'regre__alpha': alphas,\r\n",
        "                 'regre__epsilon': eps}] \r\n",
        "\r\n",
        "huber_final_pipe = Pipeline([('preprocessor', preprocessor),\r\n",
        "                ('regre', TransformedTargetRegressor(regressor=DummyEstimator(),\r\n",
        "                                                         transformer=QuantileTransformer(n_quantiles=300,\r\n",
        "                                                         output_distribution='normal')))])\r\n",
        "huber_randcv2 = RandomizedSearchCV(estimator=huber_final_pipe, \r\n",
        "                                 param_distributions=search_space, \r\n",
        "                                 n_iter=10,\r\n",
        "                                 cv=5,\r\n",
        "                                 scoring=['neg_root_mean_squared_error', 'neg_mean_squared_error'],\r\n",
        "                                 n_jobs=-1,\r\n",
        "                                 verbose=1,\r\n",
        "                                 random_state=42,\r\n",
        "                                 refit='neg_root_mean_squared_error')"
      ],
      "execution_count": 22,
      "outputs": []
    },
    {
      "cell_type": "code",
      "metadata": {
        "id": "YBDZYs3ADv-h",
        "colab": {
          "base_uri": "https://localhost:8080/",
          "height": 249
        },
        "outputId": "65c6323d-39bd-4c5d-bc67-56715a7de5ef"
      },
      "source": [
        "huber_randcv2.fit(X_train, y_train)"
      ],
      "execution_count": 23,
      "outputs": [
        {
          "output_type": "stream",
          "text": [
            "Fitting 5 folds for each of 10 candidates, totalling 50 fits\n"
          ],
          "name": "stdout"
        },
        {
          "output_type": "execute_result",
          "data": {
            "text/html": [
              "<style>div.sk-top-container {color: black;background-color: white;}div.sk-toggleable {background-color: white;}label.sk-toggleable__label {cursor: pointer;display: block;width: 100%;margin-bottom: 0;padding: 0.2em 0.3em;box-sizing: border-box;text-align: center;}div.sk-toggleable__content {max-height: 0;max-width: 0;overflow: hidden;text-align: left;background-color: #f0f8ff;}div.sk-toggleable__content pre {margin: 0.2em;color: black;border-radius: 0.25em;background-color: #f0f8ff;}input.sk-toggleable__control:checked~div.sk-toggleable__content {max-height: 200px;max-width: 100%;overflow: auto;}div.sk-estimator input.sk-toggleable__control:checked~label.sk-toggleable__label {background-color: #d4ebff;}div.sk-label input.sk-toggleable__control:checked~label.sk-toggleable__label {background-color: #d4ebff;}input.sk-hidden--visually {border: 0;clip: rect(1px 1px 1px 1px);clip: rect(1px, 1px, 1px, 1px);height: 1px;margin: -1px;overflow: hidden;padding: 0;position: absolute;width: 1px;}div.sk-estimator {font-family: monospace;background-color: #f0f8ff;margin: 0.25em 0.25em;border: 1px dotted black;border-radius: 0.25em;box-sizing: border-box;}div.sk-estimator:hover {background-color: #d4ebff;}div.sk-parallel-item::after {content: \"\";width: 100%;border-bottom: 1px solid gray;flex-grow: 1;}div.sk-label:hover label.sk-toggleable__label {background-color: #d4ebff;}div.sk-serial::before {content: \"\";position: absolute;border-left: 1px solid gray;box-sizing: border-box;top: 2em;bottom: 0;left: 50%;}div.sk-serial {display: flex;flex-direction: column;align-items: center;background-color: white;}div.sk-item {z-index: 1;}div.sk-parallel {display: flex;align-items: stretch;justify-content: center;background-color: white;}div.sk-parallel-item {display: flex;flex-direction: column;position: relative;background-color: white;}div.sk-parallel-item:first-child::after {align-self: flex-end;width: 50%;}div.sk-parallel-item:last-child::after {align-self: flex-start;width: 50%;}div.sk-parallel-item:only-child::after {width: 0;}div.sk-dashed-wrapped {border: 1px dashed gray;margin: 0.2em;box-sizing: border-box;padding-bottom: 0.1em;background-color: white;position: relative;}div.sk-label label {font-family: monospace;font-weight: bold;background-color: white;display: inline-block;line-height: 1.2em;}div.sk-label-container {position: relative;z-index: 2;text-align: center;}div.sk-container {display: inline-block;position: relative;}</style><div class=\"sk-top-container\"><div class=\"sk-container\"><div class=\"sk-item sk-dashed-wrapped\"><div class=\"sk-label-container\"><div class=\"sk-label sk-toggleable\"><input class=\"sk-toggleable__control sk-hidden--visually\" id=\"65a07294-6d00-42de-ba4b-a9754ec14ea0\" type=\"checkbox\" ><label class=\"sk-toggleable__label\" for=\"65a07294-6d00-42de-ba4b-a9754ec14ea0\">RandomizedSearchCV</label><div class=\"sk-toggleable__content\"><pre>RandomizedSearchCV(cv=5,\n",
              "                   estimator=Pipeline(steps=[('preprocessor',\n",
              "                                              ColumnTransformer(transformers=[('categorical',\n",
              "                                                                               Pipeline(steps=[('ohe',\n",
              "                                                                                                OneHotEncoder(handle_unknown='ignore')),\n",
              "                                                                                               ('imputer',\n",
              "                                                                                                SimpleImputer(add_indicator=True,\n",
              "                                                                                                              strategy='most_frequent'))]),\n",
              "                                                                               ['mode',\n",
              "                                                                                'explicit',\n",
              "                                                                                'key',\n",
              "                                                                                'year']),\n",
              "                                                                              ('continuous',\n",
              "                                                                               Pipeline(steps=[('SS',\n",
              "                                                                                                StandardScaler()),\n",
              "                                                                                               ('KNN',\n",
              "                                                                                                KNNImp...\n",
              "                                                                  max_iter=1500)],\n",
              "                                         'regre__alpha': array([0.0001, 0.0002, 0.0003, 0.0004, 0.0005, 0.0006, 0.0007, 0.0008,\n",
              "       0.0009, 0.001 ]),\n",
              "                                         'regre__epsilon': array([1.4       , 1.42222222, 1.44444444, 1.46666667, 1.48888889,\n",
              "       1.51111111, 1.53333333, 1.55555556, 1.57777778, 1.6       ])}],\n",
              "                   random_state=42, refit='neg_root_mean_squared_error',\n",
              "                   scoring=['neg_root_mean_squared_error',\n",
              "                            'neg_mean_squared_error'],\n",
              "                   verbose=1)</pre></div></div></div><div class=\"sk-parallel\"><div class=\"sk-parallel-item\"><div class=\"sk-item\"><div class=\"sk-serial\"><div class=\"sk-item\"><div class=\"sk-serial\"><div class=\"sk-item sk-dashed-wrapped\"><div class=\"sk-label-container\"><div class=\"sk-label sk-toggleable\"><input class=\"sk-toggleable__control sk-hidden--visually\" id=\"32c9ba3c-2dfb-44c6-a71f-7aa9f4dcd597\" type=\"checkbox\" ><label class=\"sk-toggleable__label\" for=\"32c9ba3c-2dfb-44c6-a71f-7aa9f4dcd597\">preprocessor: ColumnTransformer</label><div class=\"sk-toggleable__content\"><pre>ColumnTransformer(transformers=[('categorical',\n",
              "                                 Pipeline(steps=[('ohe',\n",
              "                                                  OneHotEncoder(handle_unknown='ignore')),\n",
              "                                                 ('imputer',\n",
              "                                                  SimpleImputer(add_indicator=True,\n",
              "                                                                strategy='most_frequent'))]),\n",
              "                                 ['mode', 'explicit', 'key', 'year']),\n",
              "                                ('continuous',\n",
              "                                 Pipeline(steps=[('SS', StandardScaler()),\n",
              "                                                 ('KNN', KNNImputer())]),\n",
              "                                 ['acousticness', 'danceability', 'energy',\n",
              "                                  'instrumentalness', 'liveness', 'loudness',\n",
              "                                  'speechiness', 'tempo', 'valence',\n",
              "                                  'duration-min', 'days older'])])</pre></div></div></div><div class=\"sk-parallel\"><div class=\"sk-parallel-item\"><div class=\"sk-item\"><div class=\"sk-label-container\"><div class=\"sk-label sk-toggleable\"><input class=\"sk-toggleable__control sk-hidden--visually\" id=\"31d40e76-370c-4072-9648-4096afea3f3a\" type=\"checkbox\" ><label class=\"sk-toggleable__label\" for=\"31d40e76-370c-4072-9648-4096afea3f3a\">categorical</label><div class=\"sk-toggleable__content\"><pre>['mode', 'explicit', 'key', 'year']</pre></div></div></div><div class=\"sk-serial\"><div class=\"sk-item\"><div class=\"sk-serial\"><div class=\"sk-item\"><div class=\"sk-estimator sk-toggleable\"><input class=\"sk-toggleable__control sk-hidden--visually\" id=\"ac228c35-e86a-49df-a70d-3c2ac1418a19\" type=\"checkbox\" ><label class=\"sk-toggleable__label\" for=\"ac228c35-e86a-49df-a70d-3c2ac1418a19\">OneHotEncoder</label><div class=\"sk-toggleable__content\"><pre>OneHotEncoder(handle_unknown='ignore')</pre></div></div></div><div class=\"sk-item\"><div class=\"sk-estimator sk-toggleable\"><input class=\"sk-toggleable__control sk-hidden--visually\" id=\"c8d4a50b-0952-400c-a666-487e5b996adb\" type=\"checkbox\" ><label class=\"sk-toggleable__label\" for=\"c8d4a50b-0952-400c-a666-487e5b996adb\">SimpleImputer</label><div class=\"sk-toggleable__content\"><pre>SimpleImputer(add_indicator=True, strategy='most_frequent')</pre></div></div></div></div></div></div></div></div><div class=\"sk-parallel-item\"><div class=\"sk-item\"><div class=\"sk-label-container\"><div class=\"sk-label sk-toggleable\"><input class=\"sk-toggleable__control sk-hidden--visually\" id=\"91ecb7c9-9038-4612-a9cc-88f52a62fc2d\" type=\"checkbox\" ><label class=\"sk-toggleable__label\" for=\"91ecb7c9-9038-4612-a9cc-88f52a62fc2d\">continuous</label><div class=\"sk-toggleable__content\"><pre>['acousticness', 'danceability', 'energy', 'instrumentalness', 'liveness', 'loudness', 'speechiness', 'tempo', 'valence', 'duration-min', 'days older']</pre></div></div></div><div class=\"sk-serial\"><div class=\"sk-item\"><div class=\"sk-serial\"><div class=\"sk-item\"><div class=\"sk-estimator sk-toggleable\"><input class=\"sk-toggleable__control sk-hidden--visually\" id=\"c163c1bc-13a9-4ced-ba19-244f4410370f\" type=\"checkbox\" ><label class=\"sk-toggleable__label\" for=\"c163c1bc-13a9-4ced-ba19-244f4410370f\">StandardScaler</label><div class=\"sk-toggleable__content\"><pre>StandardScaler()</pre></div></div></div><div class=\"sk-item\"><div class=\"sk-estimator sk-toggleable\"><input class=\"sk-toggleable__control sk-hidden--visually\" id=\"c67a2ddd-b8dd-42d5-bd4d-de3155f112ea\" type=\"checkbox\" ><label class=\"sk-toggleable__label\" for=\"c67a2ddd-b8dd-42d5-bd4d-de3155f112ea\">KNNImputer</label><div class=\"sk-toggleable__content\"><pre>KNNImputer()</pre></div></div></div></div></div></div></div></div></div></div><div class=\"sk-item sk-dashed-wrapped\"><div class=\"sk-label-container\"><div class=\"sk-label sk-toggleable\"><input class=\"sk-toggleable__control sk-hidden--visually\" id=\"c1be949c-dd32-45f7-9401-d1b38fa459f8\" type=\"checkbox\" ><label class=\"sk-toggleable__label\" for=\"c1be949c-dd32-45f7-9401-d1b38fa459f8\">regre: TransformedTargetRegressor</label><div class=\"sk-toggleable__content\"><pre>TransformedTargetRegressor(regressor=DummyEstimator(),\n",
              "                           transformer=QuantileTransformer(n_quantiles=300,\n",
              "                                                           output_distribution='normal'))</pre></div></div></div><div class=\"sk-parallel\"><div class=\"sk-parallel-item\"><div class=\"sk-item\"><div class=\"sk-serial\"><div class=\"sk-item\"><div class=\"sk-estimator sk-toggleable\"><input class=\"sk-toggleable__control sk-hidden--visually\" id=\"a75e4e3d-41ae-4cfa-92c6-c1f75aaa1b42\" type=\"checkbox\" ><label class=\"sk-toggleable__label\" for=\"a75e4e3d-41ae-4cfa-92c6-c1f75aaa1b42\">DummyEstimator</label><div class=\"sk-toggleable__content\"><pre>DummyEstimator()</pre></div></div></div></div></div></div><div class=\"sk-parallel-item\"><div class=\"sk-item\"><div class=\"sk-serial\"><div class=\"sk-item\"><div class=\"sk-estimator sk-toggleable\"><input class=\"sk-toggleable__control sk-hidden--visually\" id=\"256572a1-0fb5-4624-98d2-2d06ec38bab6\" type=\"checkbox\" ><label class=\"sk-toggleable__label\" for=\"256572a1-0fb5-4624-98d2-2d06ec38bab6\">QuantileTransformer</label><div class=\"sk-toggleable__content\"><pre>QuantileTransformer(n_quantiles=300, output_distribution='normal')</pre></div></div></div></div></div></div></div></div></div></div></div></div></div></div></div></div></div>"
            ],
            "text/plain": [
              "RandomizedSearchCV(cv=5,\n",
              "                   estimator=Pipeline(steps=[('preprocessor',\n",
              "                                              ColumnTransformer(transformers=[('categorical',\n",
              "                                                                               Pipeline(steps=[('ohe',\n",
              "                                                                                                OneHotEncoder(handle_unknown='ignore')),\n",
              "                                                                                               ('imputer',\n",
              "                                                                                                SimpleImputer(add_indicator=True,\n",
              "                                                                                                              strategy='most_frequent'))]),\n",
              "                                                                               ['mode',\n",
              "                                                                                'explicit',\n",
              "                                                                                'key',\n",
              "                                                                                'year']),\n",
              "                                                                              ('continuous',\n",
              "                                                                               Pipeline(steps=[('SS',\n",
              "                                                                                                StandardScaler()),\n",
              "                                                                                               ('KNN',\n",
              "                                                                                                KNNImp...\n",
              "                                                                  max_iter=1500)],\n",
              "                                         'regre__alpha': array([0.0001, 0.0002, 0.0003, 0.0004, 0.0005, 0.0006, 0.0007, 0.0008,\n",
              "       0.0009, 0.001 ]),\n",
              "                                         'regre__epsilon': array([1.4       , 1.42222222, 1.44444444, 1.46666667, 1.48888889,\n",
              "       1.51111111, 1.53333333, 1.55555556, 1.57777778, 1.6       ])}],\n",
              "                   random_state=42, refit='neg_root_mean_squared_error',\n",
              "                   scoring=['neg_root_mean_squared_error',\n",
              "                            'neg_mean_squared_error'],\n",
              "                   verbose=1)"
            ]
          },
          "metadata": {
            "tags": []
          },
          "execution_count": 23
        }
      ]
    },
    {
      "cell_type": "code",
      "metadata": {
        "id": "GG3JxhFMDyps",
        "colab": {
          "base_uri": "https://localhost:8080/"
        },
        "outputId": "971497e1-dbfc-4f3f-a503-45cf44839558"
      },
      "source": [
        "huber_randcv2.best_params_"
      ],
      "execution_count": 24,
      "outputs": [
        {
          "output_type": "execute_result",
          "data": {
            "text/plain": [
              "{'regre': HuberRegressor(alpha=0.00039999999999999996, epsilon=1.6, max_iter=1500),\n",
              " 'regre__alpha': 0.00039999999999999996,\n",
              " 'regre__epsilon': 1.6}"
            ]
          },
          "metadata": {
            "tags": []
          },
          "execution_count": 24
        }
      ]
    },
    {
      "cell_type": "code",
      "metadata": {
        "id": "uH2YEPMeD0wh",
        "colab": {
          "base_uri": "https://localhost:8080/"
        },
        "outputId": "41c8757f-bd21-4988-f20e-1a8d378e368d"
      },
      "source": [
        "huber_randcv2.best_score_"
      ],
      "execution_count": 25,
      "outputs": [
        {
          "output_type": "execute_result",
          "data": {
            "text/plain": [
              "-0.8596863266626039"
            ]
          },
          "metadata": {
            "tags": []
          },
          "execution_count": 25
        }
      ]
    },
    {
      "cell_type": "markdown",
      "metadata": {
        "id": "h7GTNsYSD6AI"
      },
      "source": [
        "# **4) Ensemble Bagging** "
      ]
    },
    {
      "cell_type": "code",
      "metadata": {
        "id": "2oYEM9k2D5Jg"
      },
      "source": [
        "n_est = [100, 150] # num of trees (base_estimators)\r\n",
        "max_features = [0.8, 1.0] # features in base_estimators\r\n",
        "search_space = [{'bag': [BaggingRegressor(n_jobs=-1)], # Actual Estimator\r\n",
        "                 'bag__n_estimators': n_est,\r\n",
        "                 'bag__max_features': max_features}]\r\n",
        "\r\n",
        "bag_final_pipe = Pipeline([('preprocessor', preprocessor),\r\n",
        "                ('bag', TransformedTargetRegressor(regressor=DummyEstimator(),\r\n",
        "                                                         transformer=QuantileTransformer(n_quantiles=300,\r\n",
        "                                                         output_distribution='normal')))])                \r\n",
        "\r\n",
        "bag_randcv = RandomizedSearchCV(estimator=bag_final_pipe, \r\n",
        "                                 param_distributions=search_space,\r\n",
        "                                 cv=5,\r\n",
        "                                 scoring=['neg_root_mean_squared_error', 'neg_mean_squared_error'],\r\n",
        "                                 n_jobs=-1,\r\n",
        "                                 verbose=1,\r\n",
        "                                 random_state=42,\r\n",
        "                                 refit='neg_root_mean_squared_error')"
      ],
      "execution_count": 26,
      "outputs": []
    },
    {
      "cell_type": "code",
      "metadata": {
        "id": "DxxPmUFiEA3Q",
        "colab": {
          "base_uri": "https://localhost:8080/",
          "height": 304
        },
        "outputId": "b35f4395-b9b2-4656-a2b7-d2bbf0482f20"
      },
      "source": [
        "bag_randcv.fit(X_train, y_train)"
      ],
      "execution_count": 27,
      "outputs": [
        {
          "output_type": "stream",
          "text": [
            "/usr/local/lib/python3.7/dist-packages/sklearn/model_selection/_search.py:289: UserWarning: The total space of parameters 4 is smaller than n_iter=10. Running 4 iterations. For exhaustive searches, use GridSearchCV.\n",
            "  % (grid_size, self.n_iter, grid_size), UserWarning)\n"
          ],
          "name": "stderr"
        },
        {
          "output_type": "stream",
          "text": [
            "Fitting 5 folds for each of 4 candidates, totalling 20 fits\n"
          ],
          "name": "stdout"
        },
        {
          "output_type": "execute_result",
          "data": {
            "text/html": [
              "<style>div.sk-top-container {color: black;background-color: white;}div.sk-toggleable {background-color: white;}label.sk-toggleable__label {cursor: pointer;display: block;width: 100%;margin-bottom: 0;padding: 0.2em 0.3em;box-sizing: border-box;text-align: center;}div.sk-toggleable__content {max-height: 0;max-width: 0;overflow: hidden;text-align: left;background-color: #f0f8ff;}div.sk-toggleable__content pre {margin: 0.2em;color: black;border-radius: 0.25em;background-color: #f0f8ff;}input.sk-toggleable__control:checked~div.sk-toggleable__content {max-height: 200px;max-width: 100%;overflow: auto;}div.sk-estimator input.sk-toggleable__control:checked~label.sk-toggleable__label {background-color: #d4ebff;}div.sk-label input.sk-toggleable__control:checked~label.sk-toggleable__label {background-color: #d4ebff;}input.sk-hidden--visually {border: 0;clip: rect(1px 1px 1px 1px);clip: rect(1px, 1px, 1px, 1px);height: 1px;margin: -1px;overflow: hidden;padding: 0;position: absolute;width: 1px;}div.sk-estimator {font-family: monospace;background-color: #f0f8ff;margin: 0.25em 0.25em;border: 1px dotted black;border-radius: 0.25em;box-sizing: border-box;}div.sk-estimator:hover {background-color: #d4ebff;}div.sk-parallel-item::after {content: \"\";width: 100%;border-bottom: 1px solid gray;flex-grow: 1;}div.sk-label:hover label.sk-toggleable__label {background-color: #d4ebff;}div.sk-serial::before {content: \"\";position: absolute;border-left: 1px solid gray;box-sizing: border-box;top: 2em;bottom: 0;left: 50%;}div.sk-serial {display: flex;flex-direction: column;align-items: center;background-color: white;}div.sk-item {z-index: 1;}div.sk-parallel {display: flex;align-items: stretch;justify-content: center;background-color: white;}div.sk-parallel-item {display: flex;flex-direction: column;position: relative;background-color: white;}div.sk-parallel-item:first-child::after {align-self: flex-end;width: 50%;}div.sk-parallel-item:last-child::after {align-self: flex-start;width: 50%;}div.sk-parallel-item:only-child::after {width: 0;}div.sk-dashed-wrapped {border: 1px dashed gray;margin: 0.2em;box-sizing: border-box;padding-bottom: 0.1em;background-color: white;position: relative;}div.sk-label label {font-family: monospace;font-weight: bold;background-color: white;display: inline-block;line-height: 1.2em;}div.sk-label-container {position: relative;z-index: 2;text-align: center;}div.sk-container {display: inline-block;position: relative;}</style><div class=\"sk-top-container\"><div class=\"sk-container\"><div class=\"sk-item sk-dashed-wrapped\"><div class=\"sk-label-container\"><div class=\"sk-label sk-toggleable\"><input class=\"sk-toggleable__control sk-hidden--visually\" id=\"a5197c56-5365-4246-8f79-502e5bcab5dc\" type=\"checkbox\" ><label class=\"sk-toggleable__label\" for=\"a5197c56-5365-4246-8f79-502e5bcab5dc\">RandomizedSearchCV</label><div class=\"sk-toggleable__content\"><pre>RandomizedSearchCV(cv=5,\n",
              "                   estimator=Pipeline(steps=[('preprocessor',\n",
              "                                              ColumnTransformer(transformers=[('categorical',\n",
              "                                                                               Pipeline(steps=[('ohe',\n",
              "                                                                                                OneHotEncoder(handle_unknown='ignore')),\n",
              "                                                                                               ('imputer',\n",
              "                                                                                                SimpleImputer(add_indicator=True,\n",
              "                                                                                                              strategy='most_frequent'))]),\n",
              "                                                                               ['mode',\n",
              "                                                                                'explicit',\n",
              "                                                                                'key',\n",
              "                                                                                'year']),\n",
              "                                                                              ('continuous',\n",
              "                                                                               Pipeline(steps=[('SS',\n",
              "                                                                                                StandardScaler()),\n",
              "                                                                                               ('KNN',\n",
              "                                                                                                KNNImp...\n",
              "                                                                         transformer=QuantileTransformer(n_quantiles=300,\n",
              "                                                                                                         output_distribution='normal')))]),\n",
              "                   n_jobs=-1,\n",
              "                   param_distributions=[{'bag': [BaggingRegressor(max_features=0.8,\n",
              "                                                                  n_estimators=150,\n",
              "                                                                  n_jobs=-1)],\n",
              "                                         'bag__max_features': [0.8, 1.0],\n",
              "                                         'bag__n_estimators': [100, 150]}],\n",
              "                   random_state=42, refit='neg_root_mean_squared_error',\n",
              "                   scoring=['neg_root_mean_squared_error',\n",
              "                            'neg_mean_squared_error'],\n",
              "                   verbose=1)</pre></div></div></div><div class=\"sk-parallel\"><div class=\"sk-parallel-item\"><div class=\"sk-item\"><div class=\"sk-serial\"><div class=\"sk-item\"><div class=\"sk-serial\"><div class=\"sk-item sk-dashed-wrapped\"><div class=\"sk-label-container\"><div class=\"sk-label sk-toggleable\"><input class=\"sk-toggleable__control sk-hidden--visually\" id=\"aaa5a445-6c10-4c4b-9694-7f4b74e56d71\" type=\"checkbox\" ><label class=\"sk-toggleable__label\" for=\"aaa5a445-6c10-4c4b-9694-7f4b74e56d71\">preprocessor: ColumnTransformer</label><div class=\"sk-toggleable__content\"><pre>ColumnTransformer(transformers=[('categorical',\n",
              "                                 Pipeline(steps=[('ohe',\n",
              "                                                  OneHotEncoder(handle_unknown='ignore')),\n",
              "                                                 ('imputer',\n",
              "                                                  SimpleImputer(add_indicator=True,\n",
              "                                                                strategy='most_frequent'))]),\n",
              "                                 ['mode', 'explicit', 'key', 'year']),\n",
              "                                ('continuous',\n",
              "                                 Pipeline(steps=[('SS', StandardScaler()),\n",
              "                                                 ('KNN', KNNImputer())]),\n",
              "                                 ['acousticness', 'danceability', 'energy',\n",
              "                                  'instrumentalness', 'liveness', 'loudness',\n",
              "                                  'speechiness', 'tempo', 'valence',\n",
              "                                  'duration-min', 'days older'])])</pre></div></div></div><div class=\"sk-parallel\"><div class=\"sk-parallel-item\"><div class=\"sk-item\"><div class=\"sk-label-container\"><div class=\"sk-label sk-toggleable\"><input class=\"sk-toggleable__control sk-hidden--visually\" id=\"b1102024-131b-48c7-982a-2bd173bf906e\" type=\"checkbox\" ><label class=\"sk-toggleable__label\" for=\"b1102024-131b-48c7-982a-2bd173bf906e\">categorical</label><div class=\"sk-toggleable__content\"><pre>['mode', 'explicit', 'key', 'year']</pre></div></div></div><div class=\"sk-serial\"><div class=\"sk-item\"><div class=\"sk-serial\"><div class=\"sk-item\"><div class=\"sk-estimator sk-toggleable\"><input class=\"sk-toggleable__control sk-hidden--visually\" id=\"eff97899-0707-4545-bac3-bdad01211540\" type=\"checkbox\" ><label class=\"sk-toggleable__label\" for=\"eff97899-0707-4545-bac3-bdad01211540\">OneHotEncoder</label><div class=\"sk-toggleable__content\"><pre>OneHotEncoder(handle_unknown='ignore')</pre></div></div></div><div class=\"sk-item\"><div class=\"sk-estimator sk-toggleable\"><input class=\"sk-toggleable__control sk-hidden--visually\" id=\"4e615d21-2a70-47cf-8097-b5f2e82b66de\" type=\"checkbox\" ><label class=\"sk-toggleable__label\" for=\"4e615d21-2a70-47cf-8097-b5f2e82b66de\">SimpleImputer</label><div class=\"sk-toggleable__content\"><pre>SimpleImputer(add_indicator=True, strategy='most_frequent')</pre></div></div></div></div></div></div></div></div><div class=\"sk-parallel-item\"><div class=\"sk-item\"><div class=\"sk-label-container\"><div class=\"sk-label sk-toggleable\"><input class=\"sk-toggleable__control sk-hidden--visually\" id=\"7774fafc-0176-4461-8318-e92d1ef74d71\" type=\"checkbox\" ><label class=\"sk-toggleable__label\" for=\"7774fafc-0176-4461-8318-e92d1ef74d71\">continuous</label><div class=\"sk-toggleable__content\"><pre>['acousticness', 'danceability', 'energy', 'instrumentalness', 'liveness', 'loudness', 'speechiness', 'tempo', 'valence', 'duration-min', 'days older']</pre></div></div></div><div class=\"sk-serial\"><div class=\"sk-item\"><div class=\"sk-serial\"><div class=\"sk-item\"><div class=\"sk-estimator sk-toggleable\"><input class=\"sk-toggleable__control sk-hidden--visually\" id=\"4bcd57cc-1b9c-47fd-97eb-fabb29225a4f\" type=\"checkbox\" ><label class=\"sk-toggleable__label\" for=\"4bcd57cc-1b9c-47fd-97eb-fabb29225a4f\">StandardScaler</label><div class=\"sk-toggleable__content\"><pre>StandardScaler()</pre></div></div></div><div class=\"sk-item\"><div class=\"sk-estimator sk-toggleable\"><input class=\"sk-toggleable__control sk-hidden--visually\" id=\"382590e7-9e9e-4823-bc92-65591430bbe7\" type=\"checkbox\" ><label class=\"sk-toggleable__label\" for=\"382590e7-9e9e-4823-bc92-65591430bbe7\">KNNImputer</label><div class=\"sk-toggleable__content\"><pre>KNNImputer()</pre></div></div></div></div></div></div></div></div></div></div><div class=\"sk-item sk-dashed-wrapped\"><div class=\"sk-label-container\"><div class=\"sk-label sk-toggleable\"><input class=\"sk-toggleable__control sk-hidden--visually\" id=\"717d5480-f5c9-460a-b6bd-a6dd69b2a23a\" type=\"checkbox\" ><label class=\"sk-toggleable__label\" for=\"717d5480-f5c9-460a-b6bd-a6dd69b2a23a\">bag: TransformedTargetRegressor</label><div class=\"sk-toggleable__content\"><pre>TransformedTargetRegressor(regressor=DummyEstimator(),\n",
              "                           transformer=QuantileTransformer(n_quantiles=300,\n",
              "                                                           output_distribution='normal'))</pre></div></div></div><div class=\"sk-parallel\"><div class=\"sk-parallel-item\"><div class=\"sk-item\"><div class=\"sk-serial\"><div class=\"sk-item\"><div class=\"sk-estimator sk-toggleable\"><input class=\"sk-toggleable__control sk-hidden--visually\" id=\"1fee64c0-2972-4077-9572-d0d0aca1c6bd\" type=\"checkbox\" ><label class=\"sk-toggleable__label\" for=\"1fee64c0-2972-4077-9572-d0d0aca1c6bd\">DummyEstimator</label><div class=\"sk-toggleable__content\"><pre>DummyEstimator()</pre></div></div></div></div></div></div><div class=\"sk-parallel-item\"><div class=\"sk-item\"><div class=\"sk-serial\"><div class=\"sk-item\"><div class=\"sk-estimator sk-toggleable\"><input class=\"sk-toggleable__control sk-hidden--visually\" id=\"7972f56d-5640-4edc-a200-953d77bb2fc3\" type=\"checkbox\" ><label class=\"sk-toggleable__label\" for=\"7972f56d-5640-4edc-a200-953d77bb2fc3\">QuantileTransformer</label><div class=\"sk-toggleable__content\"><pre>QuantileTransformer(n_quantiles=300, output_distribution='normal')</pre></div></div></div></div></div></div></div></div></div></div></div></div></div></div></div></div></div>"
            ],
            "text/plain": [
              "RandomizedSearchCV(cv=5,\n",
              "                   estimator=Pipeline(steps=[('preprocessor',\n",
              "                                              ColumnTransformer(transformers=[('categorical',\n",
              "                                                                               Pipeline(steps=[('ohe',\n",
              "                                                                                                OneHotEncoder(handle_unknown='ignore')),\n",
              "                                                                                               ('imputer',\n",
              "                                                                                                SimpleImputer(add_indicator=True,\n",
              "                                                                                                              strategy='most_frequent'))]),\n",
              "                                                                               ['mode',\n",
              "                                                                                'explicit',\n",
              "                                                                                'key',\n",
              "                                                                                'year']),\n",
              "                                                                              ('continuous',\n",
              "                                                                               Pipeline(steps=[('SS',\n",
              "                                                                                                StandardScaler()),\n",
              "                                                                                               ('KNN',\n",
              "                                                                                                KNNImp...\n",
              "                                                                         transformer=QuantileTransformer(n_quantiles=300,\n",
              "                                                                                                         output_distribution='normal')))]),\n",
              "                   n_jobs=-1,\n",
              "                   param_distributions=[{'bag': [BaggingRegressor(max_features=0.8,\n",
              "                                                                  n_estimators=150,\n",
              "                                                                  n_jobs=-1)],\n",
              "                                         'bag__max_features': [0.8, 1.0],\n",
              "                                         'bag__n_estimators': [100, 150]}],\n",
              "                   random_state=42, refit='neg_root_mean_squared_error',\n",
              "                   scoring=['neg_root_mean_squared_error',\n",
              "                            'neg_mean_squared_error'],\n",
              "                   verbose=1)"
            ]
          },
          "metadata": {
            "tags": []
          },
          "execution_count": 27
        }
      ]
    },
    {
      "cell_type": "code",
      "metadata": {
        "id": "DKQgjejMEF3w",
        "colab": {
          "base_uri": "https://localhost:8080/"
        },
        "outputId": "7e49c0ce-46cb-455b-ddfe-067208c4cadf"
      },
      "source": [
        "bag_randcv.best_score_"
      ],
      "execution_count": 28,
      "outputs": [
        {
          "output_type": "execute_result",
          "data": {
            "text/plain": [
              "-0.7546879035147113"
            ]
          },
          "metadata": {
            "tags": []
          },
          "execution_count": 28
        }
      ]
    },
    {
      "cell_type": "markdown",
      "metadata": {
        "id": "hrZDc4x3EKBS"
      },
      "source": [
        "# 5) Ensemble - Random Forest"
      ]
    },
    {
      "cell_type": "code",
      "metadata": {
        "id": "tWei3NAmEI46"
      },
      "source": [
        "n_est = [100, 150]\r\n",
        "min_samples_split = [2, 5]\r\n",
        "min_samples_leaf = [2]\r\n",
        "max_depth = [100, 150, 250]\r\n",
        "search_space = [{'rf': [RandomForestRegressor(n_jobs=-1)], # Actual Estimator\r\n",
        "                 'rf__n_estimators': n_est,\r\n",
        "                 'rf__min_samples_split': min_samples_split,\r\n",
        "                 'rf__min_samples_leaf': min_samples_leaf,\r\n",
        "                 'rf__max_depth': max_depth}]\r\n",
        "\r\n",
        "rf_final_pipe = Pipeline([('preprocessor', preprocessor),\r\n",
        "                ('rf', TransformedTargetRegressor(regressor=DummyEstimator(),\r\n",
        "                                                         transformer=QuantileTransformer(n_quantiles=300,\r\n",
        "                                                         output_distribution='normal')))])                \r\n",
        "\r\n",
        "rf_randcv = RandomizedSearchCV(estimator=rf_final_pipe, \r\n",
        "                                 param_distributions=search_space, \r\n",
        "                                 n_iter=12,\r\n",
        "                                 cv=5,\r\n",
        "                                 scoring=['neg_root_mean_squared_error', 'neg_mean_squared_error'],\r\n",
        "                                 n_jobs=-1,\r\n",
        "                                 verbose=1,\r\n",
        "                                 random_state=42,\r\n",
        "                                 refit='neg_root_mean_squared_error')"
      ],
      "execution_count": 29,
      "outputs": []
    },
    {
      "cell_type": "code",
      "metadata": {
        "id": "xNFTvGZMEaZg",
        "colab": {
          "base_uri": "https://localhost:8080/",
          "height": 249
        },
        "outputId": "9fc5220a-6aca-4a17-d222-0ef9c6e26e74"
      },
      "source": [
        "rf_randcv.fit(X_train, y_train)"
      ],
      "execution_count": 30,
      "outputs": [
        {
          "output_type": "stream",
          "text": [
            "Fitting 5 folds for each of 12 candidates, totalling 60 fits\n"
          ],
          "name": "stdout"
        },
        {
          "output_type": "execute_result",
          "data": {
            "text/html": [
              "<style>div.sk-top-container {color: black;background-color: white;}div.sk-toggleable {background-color: white;}label.sk-toggleable__label {cursor: pointer;display: block;width: 100%;margin-bottom: 0;padding: 0.2em 0.3em;box-sizing: border-box;text-align: center;}div.sk-toggleable__content {max-height: 0;max-width: 0;overflow: hidden;text-align: left;background-color: #f0f8ff;}div.sk-toggleable__content pre {margin: 0.2em;color: black;border-radius: 0.25em;background-color: #f0f8ff;}input.sk-toggleable__control:checked~div.sk-toggleable__content {max-height: 200px;max-width: 100%;overflow: auto;}div.sk-estimator input.sk-toggleable__control:checked~label.sk-toggleable__label {background-color: #d4ebff;}div.sk-label input.sk-toggleable__control:checked~label.sk-toggleable__label {background-color: #d4ebff;}input.sk-hidden--visually {border: 0;clip: rect(1px 1px 1px 1px);clip: rect(1px, 1px, 1px, 1px);height: 1px;margin: -1px;overflow: hidden;padding: 0;position: absolute;width: 1px;}div.sk-estimator {font-family: monospace;background-color: #f0f8ff;margin: 0.25em 0.25em;border: 1px dotted black;border-radius: 0.25em;box-sizing: border-box;}div.sk-estimator:hover {background-color: #d4ebff;}div.sk-parallel-item::after {content: \"\";width: 100%;border-bottom: 1px solid gray;flex-grow: 1;}div.sk-label:hover label.sk-toggleable__label {background-color: #d4ebff;}div.sk-serial::before {content: \"\";position: absolute;border-left: 1px solid gray;box-sizing: border-box;top: 2em;bottom: 0;left: 50%;}div.sk-serial {display: flex;flex-direction: column;align-items: center;background-color: white;}div.sk-item {z-index: 1;}div.sk-parallel {display: flex;align-items: stretch;justify-content: center;background-color: white;}div.sk-parallel-item {display: flex;flex-direction: column;position: relative;background-color: white;}div.sk-parallel-item:first-child::after {align-self: flex-end;width: 50%;}div.sk-parallel-item:last-child::after {align-self: flex-start;width: 50%;}div.sk-parallel-item:only-child::after {width: 0;}div.sk-dashed-wrapped {border: 1px dashed gray;margin: 0.2em;box-sizing: border-box;padding-bottom: 0.1em;background-color: white;position: relative;}div.sk-label label {font-family: monospace;font-weight: bold;background-color: white;display: inline-block;line-height: 1.2em;}div.sk-label-container {position: relative;z-index: 2;text-align: center;}div.sk-container {display: inline-block;position: relative;}</style><div class=\"sk-top-container\"><div class=\"sk-container\"><div class=\"sk-item sk-dashed-wrapped\"><div class=\"sk-label-container\"><div class=\"sk-label sk-toggleable\"><input class=\"sk-toggleable__control sk-hidden--visually\" id=\"8b1600b9-f4da-4ee3-a49e-a86e05415507\" type=\"checkbox\" ><label class=\"sk-toggleable__label\" for=\"8b1600b9-f4da-4ee3-a49e-a86e05415507\">RandomizedSearchCV</label><div class=\"sk-toggleable__content\"><pre>RandomizedSearchCV(cv=5,\n",
              "                   estimator=Pipeline(steps=[('preprocessor',\n",
              "                                              ColumnTransformer(transformers=[('categorical',\n",
              "                                                                               Pipeline(steps=[('ohe',\n",
              "                                                                                                OneHotEncoder(handle_unknown='ignore')),\n",
              "                                                                                               ('imputer',\n",
              "                                                                                                SimpleImputer(add_indicator=True,\n",
              "                                                                                                              strategy='most_frequent'))]),\n",
              "                                                                               ['mode',\n",
              "                                                                                'explicit',\n",
              "                                                                                'key',\n",
              "                                                                                'year']),\n",
              "                                                                              ('continuous',\n",
              "                                                                               Pipeline(steps=[('SS',\n",
              "                                                                                                StandardScaler()),\n",
              "                                                                                               ('KNN',\n",
              "                                                                                                KNNImp...\n",
              "                   param_distributions=[{'rf': [RandomForestRegressor(max_depth=250,\n",
              "                                                                      min_samples_leaf=2,\n",
              "                                                                      n_estimators=150,\n",
              "                                                                      n_jobs=-1)],\n",
              "                                         'rf__max_depth': [100, 150, 250],\n",
              "                                         'rf__min_samples_leaf': [2],\n",
              "                                         'rf__min_samples_split': [2, 5],\n",
              "                                         'rf__n_estimators': [100, 150]}],\n",
              "                   random_state=42, refit='neg_root_mean_squared_error',\n",
              "                   scoring=['neg_root_mean_squared_error',\n",
              "                            'neg_mean_squared_error'],\n",
              "                   verbose=1)</pre></div></div></div><div class=\"sk-parallel\"><div class=\"sk-parallel-item\"><div class=\"sk-item\"><div class=\"sk-serial\"><div class=\"sk-item\"><div class=\"sk-serial\"><div class=\"sk-item sk-dashed-wrapped\"><div class=\"sk-label-container\"><div class=\"sk-label sk-toggleable\"><input class=\"sk-toggleable__control sk-hidden--visually\" id=\"c9b391be-95ae-454c-9148-787a501361d3\" type=\"checkbox\" ><label class=\"sk-toggleable__label\" for=\"c9b391be-95ae-454c-9148-787a501361d3\">preprocessor: ColumnTransformer</label><div class=\"sk-toggleable__content\"><pre>ColumnTransformer(transformers=[('categorical',\n",
              "                                 Pipeline(steps=[('ohe',\n",
              "                                                  OneHotEncoder(handle_unknown='ignore')),\n",
              "                                                 ('imputer',\n",
              "                                                  SimpleImputer(add_indicator=True,\n",
              "                                                                strategy='most_frequent'))]),\n",
              "                                 ['mode', 'explicit', 'key', 'year']),\n",
              "                                ('continuous',\n",
              "                                 Pipeline(steps=[('SS', StandardScaler()),\n",
              "                                                 ('KNN', KNNImputer())]),\n",
              "                                 ['acousticness', 'danceability', 'energy',\n",
              "                                  'instrumentalness', 'liveness', 'loudness',\n",
              "                                  'speechiness', 'tempo', 'valence',\n",
              "                                  'duration-min', 'days older'])])</pre></div></div></div><div class=\"sk-parallel\"><div class=\"sk-parallel-item\"><div class=\"sk-item\"><div class=\"sk-label-container\"><div class=\"sk-label sk-toggleable\"><input class=\"sk-toggleable__control sk-hidden--visually\" id=\"b4bd9a73-2805-46d1-9746-996ee17d84fd\" type=\"checkbox\" ><label class=\"sk-toggleable__label\" for=\"b4bd9a73-2805-46d1-9746-996ee17d84fd\">categorical</label><div class=\"sk-toggleable__content\"><pre>['mode', 'explicit', 'key', 'year']</pre></div></div></div><div class=\"sk-serial\"><div class=\"sk-item\"><div class=\"sk-serial\"><div class=\"sk-item\"><div class=\"sk-estimator sk-toggleable\"><input class=\"sk-toggleable__control sk-hidden--visually\" id=\"81ab22a5-6a6f-4287-a3ed-b894c0533a2a\" type=\"checkbox\" ><label class=\"sk-toggleable__label\" for=\"81ab22a5-6a6f-4287-a3ed-b894c0533a2a\">OneHotEncoder</label><div class=\"sk-toggleable__content\"><pre>OneHotEncoder(handle_unknown='ignore')</pre></div></div></div><div class=\"sk-item\"><div class=\"sk-estimator sk-toggleable\"><input class=\"sk-toggleable__control sk-hidden--visually\" id=\"8746c462-2814-4f34-9013-e17c390a2d13\" type=\"checkbox\" ><label class=\"sk-toggleable__label\" for=\"8746c462-2814-4f34-9013-e17c390a2d13\">SimpleImputer</label><div class=\"sk-toggleable__content\"><pre>SimpleImputer(add_indicator=True, strategy='most_frequent')</pre></div></div></div></div></div></div></div></div><div class=\"sk-parallel-item\"><div class=\"sk-item\"><div class=\"sk-label-container\"><div class=\"sk-label sk-toggleable\"><input class=\"sk-toggleable__control sk-hidden--visually\" id=\"09d04246-3608-469d-8716-3e1f6ff6ca8d\" type=\"checkbox\" ><label class=\"sk-toggleable__label\" for=\"09d04246-3608-469d-8716-3e1f6ff6ca8d\">continuous</label><div class=\"sk-toggleable__content\"><pre>['acousticness', 'danceability', 'energy', 'instrumentalness', 'liveness', 'loudness', 'speechiness', 'tempo', 'valence', 'duration-min', 'days older']</pre></div></div></div><div class=\"sk-serial\"><div class=\"sk-item\"><div class=\"sk-serial\"><div class=\"sk-item\"><div class=\"sk-estimator sk-toggleable\"><input class=\"sk-toggleable__control sk-hidden--visually\" id=\"ca007bfc-ba45-437b-8276-cda4c4e5a5e2\" type=\"checkbox\" ><label class=\"sk-toggleable__label\" for=\"ca007bfc-ba45-437b-8276-cda4c4e5a5e2\">StandardScaler</label><div class=\"sk-toggleable__content\"><pre>StandardScaler()</pre></div></div></div><div class=\"sk-item\"><div class=\"sk-estimator sk-toggleable\"><input class=\"sk-toggleable__control sk-hidden--visually\" id=\"ed4c0b2e-6933-44f1-bd4e-0db43a1d3674\" type=\"checkbox\" ><label class=\"sk-toggleable__label\" for=\"ed4c0b2e-6933-44f1-bd4e-0db43a1d3674\">KNNImputer</label><div class=\"sk-toggleable__content\"><pre>KNNImputer()</pre></div></div></div></div></div></div></div></div></div></div><div class=\"sk-item sk-dashed-wrapped\"><div class=\"sk-label-container\"><div class=\"sk-label sk-toggleable\"><input class=\"sk-toggleable__control sk-hidden--visually\" id=\"3ae547d6-d595-4f5e-bf5b-d79105b25d11\" type=\"checkbox\" ><label class=\"sk-toggleable__label\" for=\"3ae547d6-d595-4f5e-bf5b-d79105b25d11\">rf: TransformedTargetRegressor</label><div class=\"sk-toggleable__content\"><pre>TransformedTargetRegressor(regressor=DummyEstimator(),\n",
              "                           transformer=QuantileTransformer(n_quantiles=300,\n",
              "                                                           output_distribution='normal'))</pre></div></div></div><div class=\"sk-parallel\"><div class=\"sk-parallel-item\"><div class=\"sk-item\"><div class=\"sk-serial\"><div class=\"sk-item\"><div class=\"sk-estimator sk-toggleable\"><input class=\"sk-toggleable__control sk-hidden--visually\" id=\"9452b7fc-42d6-4a2c-9180-38f1a28845c9\" type=\"checkbox\" ><label class=\"sk-toggleable__label\" for=\"9452b7fc-42d6-4a2c-9180-38f1a28845c9\">DummyEstimator</label><div class=\"sk-toggleable__content\"><pre>DummyEstimator()</pre></div></div></div></div></div></div><div class=\"sk-parallel-item\"><div class=\"sk-item\"><div class=\"sk-serial\"><div class=\"sk-item\"><div class=\"sk-estimator sk-toggleable\"><input class=\"sk-toggleable__control sk-hidden--visually\" id=\"40f88bfb-9997-4411-b8fe-cf934924472a\" type=\"checkbox\" ><label class=\"sk-toggleable__label\" for=\"40f88bfb-9997-4411-b8fe-cf934924472a\">QuantileTransformer</label><div class=\"sk-toggleable__content\"><pre>QuantileTransformer(n_quantiles=300, output_distribution='normal')</pre></div></div></div></div></div></div></div></div></div></div></div></div></div></div></div></div></div>"
            ],
            "text/plain": [
              "RandomizedSearchCV(cv=5,\n",
              "                   estimator=Pipeline(steps=[('preprocessor',\n",
              "                                              ColumnTransformer(transformers=[('categorical',\n",
              "                                                                               Pipeline(steps=[('ohe',\n",
              "                                                                                                OneHotEncoder(handle_unknown='ignore')),\n",
              "                                                                                               ('imputer',\n",
              "                                                                                                SimpleImputer(add_indicator=True,\n",
              "                                                                                                              strategy='most_frequent'))]),\n",
              "                                                                               ['mode',\n",
              "                                                                                'explicit',\n",
              "                                                                                'key',\n",
              "                                                                                'year']),\n",
              "                                                                              ('continuous',\n",
              "                                                                               Pipeline(steps=[('SS',\n",
              "                                                                                                StandardScaler()),\n",
              "                                                                                               ('KNN',\n",
              "                                                                                                KNNImp...\n",
              "                   param_distributions=[{'rf': [RandomForestRegressor(max_depth=250,\n",
              "                                                                      min_samples_leaf=2,\n",
              "                                                                      n_estimators=150,\n",
              "                                                                      n_jobs=-1)],\n",
              "                                         'rf__max_depth': [100, 150, 250],\n",
              "                                         'rf__min_samples_leaf': [2],\n",
              "                                         'rf__min_samples_split': [2, 5],\n",
              "                                         'rf__n_estimators': [100, 150]}],\n",
              "                   random_state=42, refit='neg_root_mean_squared_error',\n",
              "                   scoring=['neg_root_mean_squared_error',\n",
              "                            'neg_mean_squared_error'],\n",
              "                   verbose=1)"
            ]
          },
          "metadata": {
            "tags": []
          },
          "execution_count": 30
        }
      ]
    },
    {
      "cell_type": "code",
      "metadata": {
        "id": "kGvK8qWxEedx",
        "colab": {
          "base_uri": "https://localhost:8080/"
        },
        "outputId": "f7c309e0-6844-4a5d-bc46-9f953770738c"
      },
      "source": [
        "rf_randcv.best_score_"
      ],
      "execution_count": 31,
      "outputs": [
        {
          "output_type": "execute_result",
          "data": {
            "text/plain": [
              "-0.754810809647"
            ]
          },
          "metadata": {
            "tags": []
          },
          "execution_count": 31
        }
      ]
    },
    {
      "cell_type": "code",
      "metadata": {
        "id": "km1GN5a0EgrZ",
        "colab": {
          "base_uri": "https://localhost:8080/"
        },
        "outputId": "09e7e71e-091b-403c-f850-6aec55998b98"
      },
      "source": [
        "rf_randcv.best_params_"
      ],
      "execution_count": 32,
      "outputs": [
        {
          "output_type": "execute_result",
          "data": {
            "text/plain": [
              "{'rf': RandomForestRegressor(max_depth=250, min_samples_leaf=2, n_estimators=150,\n",
              "                       n_jobs=-1),\n",
              " 'rf__max_depth': 250,\n",
              " 'rf__min_samples_leaf': 2,\n",
              " 'rf__min_samples_split': 2,\n",
              " 'rf__n_estimators': 150}"
            ]
          },
          "metadata": {
            "tags": []
          },
          "execution_count": 32
        }
      ]
    },
    {
      "cell_type": "markdown",
      "metadata": {
        "id": "R870FgnwEoBu"
      },
      "source": [
        "# **Final Model Evaluation on test set** "
      ]
    },
    {
      "cell_type": "code",
      "metadata": {
        "id": "SG0Gx8ZgEsY1",
        "colab": {
          "base_uri": "https://localhost:8080/"
        },
        "outputId": "d429835e-1fb4-4724-fd05-4bdfd7cb58c5"
      },
      "source": [
        "print(f'Ridge Regressor: {round(ridge_randcv.best_score_, 3)}')\r\n",
        "print(f'Huber Regressor -1: {round(huber_randcv.best_score_, 3)}')\r\n",
        "print(f'Huber Regressor -2: {round(huber_randcv2.best_score_, 3)}')\r\n",
        "print(f'Bagging Regressor: {round(bag_randcv.best_score_, 3)}')\r\n",
        "print(f'Random Forest Regressor: {round(rf_randcv.best_score_, 3)}')"
      ],
      "execution_count": 33,
      "outputs": [
        {
          "output_type": "stream",
          "text": [
            "Ridge Regressor: -0.837\n",
            "Huber Regressor -1: -0.865\n",
            "Huber Regressor -2: -0.86\n",
            "Bagging Regressor: -0.755\n",
            "Random Forest Regressor: -0.755\n"
          ],
          "name": "stdout"
        }
      ]
    },
    {
      "cell_type": "code",
      "metadata": {
        "id": "BbCwuUaMEvOB",
        "colab": {
          "base_uri": "https://localhost:8080/"
        },
        "outputId": "30338cd0-a7b6-468d-823b-df1a88bd0533"
      },
      "source": [
        "bag_randcv.best_params_"
      ],
      "execution_count": 34,
      "outputs": [
        {
          "output_type": "execute_result",
          "data": {
            "text/plain": [
              "{'bag': BaggingRegressor(max_features=0.8, n_estimators=150, n_jobs=-1),\n",
              " 'bag__max_features': 0.8,\n",
              " 'bag__n_estimators': 150}"
            ]
          },
          "metadata": {
            "tags": []
          },
          "execution_count": 34
        }
      ]
    },
    {
      "cell_type": "code",
      "metadata": {
        "id": "HOzvDxxoE3Ib",
        "colab": {
          "base_uri": "https://localhost:8080/",
          "height": 231
        },
        "outputId": "c0d8b015-63f9-4515-fc3f-c942c426603a"
      },
      "source": [
        "model_final = BaggingRegressor(n_estimators=150, max_features = 0.8, n_jobs=-1)\r\n",
        "model_final_pipe = Pipeline([('preprocessor', preprocessor),\r\n",
        "                ('bag', TransformedTargetRegressor(regressor=model_final,\r\n",
        "                                                         transformer=QuantileTransformer(n_quantiles=300,\r\n",
        "                                                         output_distribution='normal')))])\r\n",
        "model_final_pipe.fit(X_train, y_train)"
      ],
      "execution_count": 35,
      "outputs": [
        {
          "output_type": "execute_result",
          "data": {
            "text/html": [
              "<style>div.sk-top-container {color: black;background-color: white;}div.sk-toggleable {background-color: white;}label.sk-toggleable__label {cursor: pointer;display: block;width: 100%;margin-bottom: 0;padding: 0.2em 0.3em;box-sizing: border-box;text-align: center;}div.sk-toggleable__content {max-height: 0;max-width: 0;overflow: hidden;text-align: left;background-color: #f0f8ff;}div.sk-toggleable__content pre {margin: 0.2em;color: black;border-radius: 0.25em;background-color: #f0f8ff;}input.sk-toggleable__control:checked~div.sk-toggleable__content {max-height: 200px;max-width: 100%;overflow: auto;}div.sk-estimator input.sk-toggleable__control:checked~label.sk-toggleable__label {background-color: #d4ebff;}div.sk-label input.sk-toggleable__control:checked~label.sk-toggleable__label {background-color: #d4ebff;}input.sk-hidden--visually {border: 0;clip: rect(1px 1px 1px 1px);clip: rect(1px, 1px, 1px, 1px);height: 1px;margin: -1px;overflow: hidden;padding: 0;position: absolute;width: 1px;}div.sk-estimator {font-family: monospace;background-color: #f0f8ff;margin: 0.25em 0.25em;border: 1px dotted black;border-radius: 0.25em;box-sizing: border-box;}div.sk-estimator:hover {background-color: #d4ebff;}div.sk-parallel-item::after {content: \"\";width: 100%;border-bottom: 1px solid gray;flex-grow: 1;}div.sk-label:hover label.sk-toggleable__label {background-color: #d4ebff;}div.sk-serial::before {content: \"\";position: absolute;border-left: 1px solid gray;box-sizing: border-box;top: 2em;bottom: 0;left: 50%;}div.sk-serial {display: flex;flex-direction: column;align-items: center;background-color: white;}div.sk-item {z-index: 1;}div.sk-parallel {display: flex;align-items: stretch;justify-content: center;background-color: white;}div.sk-parallel-item {display: flex;flex-direction: column;position: relative;background-color: white;}div.sk-parallel-item:first-child::after {align-self: flex-end;width: 50%;}div.sk-parallel-item:last-child::after {align-self: flex-start;width: 50%;}div.sk-parallel-item:only-child::after {width: 0;}div.sk-dashed-wrapped {border: 1px dashed gray;margin: 0.2em;box-sizing: border-box;padding-bottom: 0.1em;background-color: white;position: relative;}div.sk-label label {font-family: monospace;font-weight: bold;background-color: white;display: inline-block;line-height: 1.2em;}div.sk-label-container {position: relative;z-index: 2;text-align: center;}div.sk-container {display: inline-block;position: relative;}</style><div class=\"sk-top-container\"><div class=\"sk-container\"><div class=\"sk-item sk-dashed-wrapped\"><div class=\"sk-label-container\"><div class=\"sk-label sk-toggleable\"><input class=\"sk-toggleable__control sk-hidden--visually\" id=\"4e389e3d-ae0b-423a-8b2e-3a531de5fe05\" type=\"checkbox\" ><label class=\"sk-toggleable__label\" for=\"4e389e3d-ae0b-423a-8b2e-3a531de5fe05\">Pipeline</label><div class=\"sk-toggleable__content\"><pre>Pipeline(steps=[('preprocessor',\n",
              "                 ColumnTransformer(transformers=[('categorical',\n",
              "                                                  Pipeline(steps=[('ohe',\n",
              "                                                                   OneHotEncoder(handle_unknown='ignore')),\n",
              "                                                                  ('imputer',\n",
              "                                                                   SimpleImputer(add_indicator=True,\n",
              "                                                                                 strategy='most_frequent'))]),\n",
              "                                                  ['mode', 'explicit', 'key',\n",
              "                                                   'year']),\n",
              "                                                 ('continuous',\n",
              "                                                  Pipeline(steps=[('SS',\n",
              "                                                                   StandardScaler()),\n",
              "                                                                  ('KNN',\n",
              "                                                                   KNNImputer())]),\n",
              "                                                  ['acousticness',\n",
              "                                                   'danceability', 'energy',\n",
              "                                                   'instrumentalness',\n",
              "                                                   'liveness', 'loudness',\n",
              "                                                   'speechiness', 'tempo',\n",
              "                                                   'valence', 'duration-min',\n",
              "                                                   'days older'])])),\n",
              "                ('bag',\n",
              "                 TransformedTargetRegressor(regressor=BaggingRegressor(max_features=0.8,\n",
              "                                                                       n_estimators=150,\n",
              "                                                                       n_jobs=-1),\n",
              "                                            transformer=QuantileTransformer(n_quantiles=300,\n",
              "                                                                            output_distribution='normal')))])</pre></div></div></div><div class=\"sk-serial\"><div class=\"sk-item sk-dashed-wrapped\"><div class=\"sk-label-container\"><div class=\"sk-label sk-toggleable\"><input class=\"sk-toggleable__control sk-hidden--visually\" id=\"b4338140-a484-4e3a-9737-ca511d622a1e\" type=\"checkbox\" ><label class=\"sk-toggleable__label\" for=\"b4338140-a484-4e3a-9737-ca511d622a1e\">preprocessor: ColumnTransformer</label><div class=\"sk-toggleable__content\"><pre>ColumnTransformer(transformers=[('categorical',\n",
              "                                 Pipeline(steps=[('ohe',\n",
              "                                                  OneHotEncoder(handle_unknown='ignore')),\n",
              "                                                 ('imputer',\n",
              "                                                  SimpleImputer(add_indicator=True,\n",
              "                                                                strategy='most_frequent'))]),\n",
              "                                 ['mode', 'explicit', 'key', 'year']),\n",
              "                                ('continuous',\n",
              "                                 Pipeline(steps=[('SS', StandardScaler()),\n",
              "                                                 ('KNN', KNNImputer())]),\n",
              "                                 ['acousticness', 'danceability', 'energy',\n",
              "                                  'instrumentalness', 'liveness', 'loudness',\n",
              "                                  'speechiness', 'tempo', 'valence',\n",
              "                                  'duration-min', 'days older'])])</pre></div></div></div><div class=\"sk-parallel\"><div class=\"sk-parallel-item\"><div class=\"sk-item\"><div class=\"sk-label-container\"><div class=\"sk-label sk-toggleable\"><input class=\"sk-toggleable__control sk-hidden--visually\" id=\"cd9e9ccb-8986-44b6-aa66-bf42d447cb53\" type=\"checkbox\" ><label class=\"sk-toggleable__label\" for=\"cd9e9ccb-8986-44b6-aa66-bf42d447cb53\">categorical</label><div class=\"sk-toggleable__content\"><pre>['mode', 'explicit', 'key', 'year']</pre></div></div></div><div class=\"sk-serial\"><div class=\"sk-item\"><div class=\"sk-serial\"><div class=\"sk-item\"><div class=\"sk-estimator sk-toggleable\"><input class=\"sk-toggleable__control sk-hidden--visually\" id=\"7b8f5c08-5cec-4a0e-8c6a-0d2e84f4448f\" type=\"checkbox\" ><label class=\"sk-toggleable__label\" for=\"7b8f5c08-5cec-4a0e-8c6a-0d2e84f4448f\">OneHotEncoder</label><div class=\"sk-toggleable__content\"><pre>OneHotEncoder(handle_unknown='ignore')</pre></div></div></div><div class=\"sk-item\"><div class=\"sk-estimator sk-toggleable\"><input class=\"sk-toggleable__control sk-hidden--visually\" id=\"3f980ec2-85c9-476e-adc7-d19bcfd97305\" type=\"checkbox\" ><label class=\"sk-toggleable__label\" for=\"3f980ec2-85c9-476e-adc7-d19bcfd97305\">SimpleImputer</label><div class=\"sk-toggleable__content\"><pre>SimpleImputer(add_indicator=True, strategy='most_frequent')</pre></div></div></div></div></div></div></div></div><div class=\"sk-parallel-item\"><div class=\"sk-item\"><div class=\"sk-label-container\"><div class=\"sk-label sk-toggleable\"><input class=\"sk-toggleable__control sk-hidden--visually\" id=\"500778f9-fba2-4fc3-9ac1-02699f4c8057\" type=\"checkbox\" ><label class=\"sk-toggleable__label\" for=\"500778f9-fba2-4fc3-9ac1-02699f4c8057\">continuous</label><div class=\"sk-toggleable__content\"><pre>['acousticness', 'danceability', 'energy', 'instrumentalness', 'liveness', 'loudness', 'speechiness', 'tempo', 'valence', 'duration-min', 'days older']</pre></div></div></div><div class=\"sk-serial\"><div class=\"sk-item\"><div class=\"sk-serial\"><div class=\"sk-item\"><div class=\"sk-estimator sk-toggleable\"><input class=\"sk-toggleable__control sk-hidden--visually\" id=\"9636bbc3-d35b-4a0a-a370-7372751695de\" type=\"checkbox\" ><label class=\"sk-toggleable__label\" for=\"9636bbc3-d35b-4a0a-a370-7372751695de\">StandardScaler</label><div class=\"sk-toggleable__content\"><pre>StandardScaler()</pre></div></div></div><div class=\"sk-item\"><div class=\"sk-estimator sk-toggleable\"><input class=\"sk-toggleable__control sk-hidden--visually\" id=\"740a0f56-1f16-426a-8d25-2574a08cb41d\" type=\"checkbox\" ><label class=\"sk-toggleable__label\" for=\"740a0f56-1f16-426a-8d25-2574a08cb41d\">KNNImputer</label><div class=\"sk-toggleable__content\"><pre>KNNImputer()</pre></div></div></div></div></div></div></div></div></div></div><div class=\"sk-item sk-dashed-wrapped\"><div class=\"sk-label-container\"><div class=\"sk-label sk-toggleable\"><input class=\"sk-toggleable__control sk-hidden--visually\" id=\"3dd64cdf-ca0b-4b81-b8e4-d64e3f6a713e\" type=\"checkbox\" ><label class=\"sk-toggleable__label\" for=\"3dd64cdf-ca0b-4b81-b8e4-d64e3f6a713e\">bag: TransformedTargetRegressor</label><div class=\"sk-toggleable__content\"><pre>TransformedTargetRegressor(regressor=BaggingRegressor(max_features=0.8,\n",
              "                                                      n_estimators=150,\n",
              "                                                      n_jobs=-1),\n",
              "                           transformer=QuantileTransformer(n_quantiles=300,\n",
              "                                                           output_distribution='normal'))</pre></div></div></div><div class=\"sk-parallel\"><div class=\"sk-parallel-item\"><div class=\"sk-item\"><div class=\"sk-serial\"><div class=\"sk-item\"><div class=\"sk-estimator sk-toggleable\"><input class=\"sk-toggleable__control sk-hidden--visually\" id=\"50ef6884-6301-4a32-b17b-7234473f4ee4\" type=\"checkbox\" ><label class=\"sk-toggleable__label\" for=\"50ef6884-6301-4a32-b17b-7234473f4ee4\">BaggingRegressor</label><div class=\"sk-toggleable__content\"><pre>BaggingRegressor(max_features=0.8, n_estimators=150, n_jobs=-1)</pre></div></div></div></div></div></div><div class=\"sk-parallel-item\"><div class=\"sk-item\"><div class=\"sk-serial\"><div class=\"sk-item\"><div class=\"sk-estimator sk-toggleable\"><input class=\"sk-toggleable__control sk-hidden--visually\" id=\"0383c744-c367-4265-9b85-49dc563bca0b\" type=\"checkbox\" ><label class=\"sk-toggleable__label\" for=\"0383c744-c367-4265-9b85-49dc563bca0b\">QuantileTransformer</label><div class=\"sk-toggleable__content\"><pre>QuantileTransformer(n_quantiles=300, output_distribution='normal')</pre></div></div></div></div></div></div></div></div></div></div></div></div>"
            ],
            "text/plain": [
              "Pipeline(steps=[('preprocessor',\n",
              "                 ColumnTransformer(transformers=[('categorical',\n",
              "                                                  Pipeline(steps=[('ohe',\n",
              "                                                                   OneHotEncoder(handle_unknown='ignore')),\n",
              "                                                                  ('imputer',\n",
              "                                                                   SimpleImputer(add_indicator=True,\n",
              "                                                                                 strategy='most_frequent'))]),\n",
              "                                                  ['mode', 'explicit', 'key',\n",
              "                                                   'year']),\n",
              "                                                 ('continuous',\n",
              "                                                  Pipeline(steps=[('SS',\n",
              "                                                                   StandardScaler()),\n",
              "                                                                  ('KNN',\n",
              "                                                                   KNNImputer())]),\n",
              "                                                  ['acousticness',\n",
              "                                                   'danceability', 'energy',\n",
              "                                                   'instrumentalness',\n",
              "                                                   'liveness', 'loudness',\n",
              "                                                   'speechiness', 'tempo',\n",
              "                                                   'valence', 'duration-min',\n",
              "                                                   'days older'])])),\n",
              "                ('bag',\n",
              "                 TransformedTargetRegressor(regressor=BaggingRegressor(max_features=0.8,\n",
              "                                                                       n_estimators=150,\n",
              "                                                                       n_jobs=-1),\n",
              "                                            transformer=QuantileTransformer(n_quantiles=300,\n",
              "                                                                            output_distribution='normal')))])"
            ]
          },
          "metadata": {
            "tags": []
          },
          "execution_count": 35
        }
      ]
    },
    {
      "cell_type": "code",
      "metadata": {
        "id": "mApji6zMaInL",
        "colab": {
          "base_uri": "https://localhost:8080/"
        },
        "outputId": "c47eeee5-61e2-44cd-9656-5ee99d849517"
      },
      "source": [
        "from sklearn.metrics import accuracy_score\r\n",
        "# Prediction on test set\r\n",
        "y_pred = model_final_pipe.predict(X_test)\r\n",
        "mae = mean_absolute_error(y_test, y_pred)\r\n",
        "print(f\"MAE: {mae:.6f}\")"
      ],
      "execution_count": 37,
      "outputs": [
        {
          "output_type": "stream",
          "text": [
            "MAE: 0.607711\n"
          ],
          "name": "stdout"
        }
      ]
    },
    {
      "cell_type": "code",
      "metadata": {
        "colab": {
          "base_uri": "https://localhost:8080/",
          "height": 721
        },
        "id": "Mu12Qm_u_4xY",
        "outputId": "93a1b886-3758-4dec-9961-b9fdde27d41c"
      },
      "source": [
        "plt.figure(figsize=(12,12))\r\n",
        "plt.plot(y_pred[:150],'-',y_test[:150],'-')\r\n",
        "plt.ylim(-10,10)"
      ],
      "execution_count": 74,
      "outputs": [
        {
          "output_type": "execute_result",
          "data": {
            "text/plain": [
              "(-10.0, 10.0)"
            ]
          },
          "metadata": {
            "tags": []
          },
          "execution_count": 74
        },
        {
          "output_type": "display_data",
          "data": {
            "image/png": "[encoded data removed]",
            "text/plain": [
              "<Figure size 864x864 with 1 Axes>"
            ]
          },
          "metadata": {
            "tags": [],
            "needs_background": "light"
          }
        }
      ]
    },
    {
      "cell_type": "markdown",
      "metadata": {
        "id": "-kbE3EbIaNsn"
      },
      "source": [
        "**Evaluation Metric**\r\n",
        "\r\n",
        "Mean absolute error is used to determine how close the predicted popularity score of a song is to the actual populartiy. "
      ]
    }
  ]
}