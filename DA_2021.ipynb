{
  "nbformat": 4,
  "nbformat_minor": 0,
  "metadata": {
    "accelerator": "GPU",
    "colab": {
      "name": "DA_2021.ipynb",
      "provenance": [],
      "include_colab_link": true
    },
    "kernelspec": {
      "display_name": "Python 3",
      "language": "python",
      "name": "python3"
    },
    "language_info": {
      "codemirror_mode": {
        "name": "ipython",
        "version": 3
      },
      "file_extension": ".py",
      "mimetype": "text/x-python",
      "name": "python",
      "nbconvert_exporter": "python",
      "pygments_lexer": "ipython3",
      "version": "3.9.1"
    }
  },
  "cells": [
    {
      "cell_type": "markdown",
      "metadata": {
        "id": "view-in-github",
        "colab_type": "text"
      },
      "source": [
        "<a href=\"https://colab.research.google.com/github/sumandutta8877/DATA-Analytics/blob/suman/DA_2021.ipynb\" target=\"_parent\"><img src=\"https://colab.research.google.com/assets/colab-badge.svg\" alt=\"Open In Colab\"/></a>"
      ]
    },
    {
      "cell_type": "markdown",
      "metadata": {
        "id": "qLn3Az1zbj0-"
      },
      "source": [
        "# Import Data from G-Drive"
      ]
    },
    {
      "cell_type": "code",
      "metadata": {
        "id": "Fq6CWy11WRco",
        "outputId": "0a87e861-bce7-4568-9fe2-95a25472ca09",
        "colab": {
          "base_uri": "https://localhost:8080/"
        }
      },
      "source": [
        "from google.colab import drive\n",
        "drive.mount('/content/drive')\n",
        "import pandas as pd\n",
        "df_train = pd.read_csv('/content/drive/MyDrive/Data Analytics/Train_data.csv')\n",
        "df_test = pd.read_csv('/content/drive/MyDrive/Data Analytics/Test_data.csv')"
      ],
      "execution_count": 18,
      "outputs": [
        {
          "output_type": "stream",
          "text": [
            "Drive already mounted at /content/drive; to attempt to forcibly remount, call drive.mount(\"/content/drive\", force_remount=True).\n"
          ],
          "name": "stdout"
        }
      ]
    },
    {
      "cell_type": "markdown",
      "metadata": {
        "id": "piFJy64ybm26"
      },
      "source": [
        "# Start Processing"
      ]
    },
    {
      "cell_type": "code",
      "metadata": {
        "colab": {
          "base_uri": "https://localhost:8080/"
        },
        "id": "cn2bDzxl10SQ",
        "outputId": "22fa0091-d633-4710-d18c-349dc91d2f7d"
      },
      "source": [
        "print('Hello Suman\\'s World!')\n",
        "print('Load CSV File First')"
      ],
      "execution_count": 16,
      "outputs": [
        {
          "output_type": "stream",
          "text": [
            "Hello Suman's World!\n",
            "Load CSV File First\n"
          ],
          "name": "stdout"
        }
      ]
    }
  ]
}