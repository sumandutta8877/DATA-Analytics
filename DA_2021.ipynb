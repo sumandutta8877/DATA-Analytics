{
  "nbformat": 4,
  "nbformat_minor": 0,
  "metadata": {
    "colab": {
      "name": "DA_2021.ipynb",
      "provenance": []
    },
    "kernelspec": {
      "name": "python3",
      "display_name": "Python 3"
    }
  },
  "cells": [
    {
      "cell_type": "code",
      "metadata": {
        "colab": {
          "base_uri": "https://localhost:8080/"
        },
        "id": "oEGh7579zwYL",
        "outputId": "a94e075e-ce9f-4c9a-c601-771df85b7548"
      },
      "source": [
        "print('Hello')"
      ],
      "execution_count": 3,
      "outputs": [
        {
          "output_type": "stream",
          "text": [
            "Hello\n"
          ],
          "name": "stdout"
        }
      ]
    },
    {
      "cell_type": "code",
      "metadata": {
        "id": "1UZJ6XJl0_2P"
      },
      "source": [
        "print('Hello Sarvesh GlobalPandey')"
      ],
      "execution_count": null,
      "outputs": []
    }
  ]
}