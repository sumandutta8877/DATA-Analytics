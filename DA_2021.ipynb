{
  "nbformat": 4,
  "nbformat_minor": 0,
  "metadata": {
    "accelerator": "GPU",
    "colab": {
      "name": "DA_2021.ipynb",
      "provenance": [],
      "include_colab_link": true
    },
    "kernelspec": {
      "display_name": "Python 3",
      "language": "python",
      "name": "python3"
    },
    "language_info": {
      "codemirror_mode": {
        "name": "ipython",
        "version": 3
      },
      "file_extension": ".py",
      "mimetype": "text/x-python",
      "name": "python",
      "nbconvert_exporter": "python",
      "pygments_lexer": "ipython3",
      "version": "3.9.1"
    }
  },
  "cells": [
    {
      "cell_type": "markdown",
      "metadata": {
        "id": "view-in-github",
        "colab_type": "text"
      },
      "source": [
        "<a href=\"https://colab.research.google.com/github/sumandutta8877/DATA-Analytics/blob/suman/DA_2021.ipynb\" target=\"_parent\"><img src=\"https://colab.research.google.com/assets/colab-badge.svg\" alt=\"Open In Colab\"/></a>"
      ]
    },
    {
      "cell_type": "markdown",
      "metadata": {
        "id": "qLn3Az1zbj0-"
      },
      "source": [
        "# Import Data from GitHub"
      ]
    },
    {
      "cell_type": "code",
      "metadata": {
        "id": "Fq6CWy11WRco"
      },
      "source": [
        "import pandas as pd\n",
        "df_test = pd.read_csv('https://raw.githubusercontent.com/sumandutta8877/DATA-Analytics/suman/Data/Test_data.csv?token=AKJPV7Y5AEQSAWZWGUFO7LTAIU7F4')\n",
        "df_train = pd.read_csv('https://raw.githubusercontent.com/sumandutta8877/DATA-Analytics/suman/Data/Train_data.csv?token=AKJPV7YXWIIR7XZPQSLS54LAIU63Y')\n",
        "df1 = df_test\n",
        "df2 = df_train"
      ],
      "execution_count": 26,
      "outputs": []
    },
    {
      "cell_type": "markdown",
      "metadata": {
        "id": "piFJy64ybm26"
      },
      "source": [
        "# Start Processing"
      ]
    },
    {
      "cell_type": "code",
      "metadata": {
        "colab": {
          "base_uri": "https://localhost:8080/"
        },
        "id": "cn2bDzxl10SQ",
        "outputId": "22fa0091-d633-4710-d18c-349dc91d2f7d"
      },
      "source": [
        "print('Hello Suman\\'s World!')\n",
        "print('Load CSV File First')"
      ],
      "execution_count": 16,
      "outputs": [
        {
          "output_type": "stream",
          "text": [
            "Hello Suman's World!\n",
            "Load CSV File First\n"
          ],
          "name": "stdout"
        }
      ]
    },
    {
      "cell_type": "code",
      "metadata": {
        "colab": {
          "base_uri": "https://localhost:8080/"
        },
        "id": "uKKWFwDYdcAh",
        "outputId": "666aebd7-f7c9-4b81-b833-d3900a5465ca"
      },
      "source": [
        "print(df1)"
      ],
      "execution_count": 27,
      "outputs": [
        {
          "output_type": "stream",
          "text": [
            "         id  acousticness  danceability  ...  valence  year  duration-min\n",
            "0      4943       0.03360         0.523  ...    0.346  2014           3.8\n",
            "1     16165       0.76500         0.687  ...    0.830  1972           3.8\n",
            "2      6774       0.36300         0.536  ...    0.289  1998           4.4\n",
            "3      9959       0.00463         0.890  ...    0.970  1980           3.9\n",
            "4     13818       0.00187         0.555  ...    0.882  2007           3.2\n",
            "...     ...           ...           ...  ...      ...   ...           ...\n",
            "3995   6367       0.00019         0.272  ...    0.564  1981           3.5\n",
            "3996  12061       0.10600         0.444  ...    0.747  2017           3.1\n",
            "3997  15802       0.64900         0.556  ...    0.604  1994           3.3\n",
            "3998  11746       0.99500         0.378  ...    0.158  1946           2.6\n",
            "3999   8441       0.02620         0.534  ...    0.145  2017           3.9\n",
            "\n",
            "[4000 rows x 16 columns]\n"
          ],
          "name": "stdout"
        }
      ]
    },
    {
      "cell_type": "code",
      "metadata": {
        "colab": {
          "base_uri": "https://localhost:8080/"
        },
        "id": "tokPZK8ee2W4",
        "outputId": "9f2a00ea-de21-4e5d-9e3e-f2756ed35abc"
      },
      "source": [
        "print(df2)"
      ],
      "execution_count": 28,
      "outputs": [
        {
          "output_type": "stream",
          "text": [
            "          id  acousticness  danceability  ...  year duration-min  popularity\n",
            "0       2015        0.9490        0.2350  ...  1947          3.0    very low\n",
            "1      15901        0.8550        0.4560  ...  2020          2.4         low\n",
            "2       9002        0.8270        0.4950  ...  1950          2.6    very low\n",
            "3       6734        0.6540        0.6430  ...  1974          2.4         low\n",
            "4      15563        0.7380        0.7050  ...  1973          3.4     average\n",
            "...      ...           ...           ...  ...   ...          ...         ...\n",
            "12222  15343        0.0408        0.8090  ...  2014          3.4     average\n",
            "12223   1701        0.9120        0.4510  ...  1959          2.0   very high\n",
            "12224   3351        0.3280        0.5510  ...  1984          2.5         low\n",
            "12225   8879        0.1220        0.0608  ...  2017          3.1        high\n",
            "12226   9711        0.0380        0.3890  ...  2020          3.1        high\n",
            "\n",
            "[12227 rows x 17 columns]\n"
          ],
          "name": "stdout"
        }
      ]
    }
  ]
}