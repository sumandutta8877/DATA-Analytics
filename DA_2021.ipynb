{
  "nbformat": 4,
  "nbformat_minor": 0,
  "metadata": {
    "colab": {
      "name": "DA_2021.ipynb",
      "provenance": [],
      "include_colab_link": true
    },
    "kernelspec": {
      "display_name": "Python 3",
      "language": "python",
      "name": "python3"
    },
    "language_info": {
      "codemirror_mode": {
        "name": "ipython",
        "version": 3
      },
      "file_extension": ".py",
      "mimetype": "text/x-python",
      "name": "python",
      "nbconvert_exporter": "python",
      "pygments_lexer": "ipython3",
      "version": "3.9.1"
    }
  },
  "cells": [
    {
      "cell_type": "markdown",
      "metadata": {
        "id": "view-in-github",
        "colab_type": "text"
      },
      "source": [
        "<a href=\"https://colab.research.google.com/github/sumandutta8877/DATA-Analytics/blob/pankaj/DA_2021.ipynb\" target=\"_parent\"><img src=\"https://colab.research.google.com/assets/colab-badge.svg\" alt=\"Open In Colab\"/></a>"
      ]
    },
    {
      "cell_type": "markdown",
      "metadata": {
        "id": "qLn3Az1zbj0-"
      },
      "source": [
        "# Import Data from GitHub"
      ]
    },
    {
      "cell_type": "code",
      "metadata": {
        "id": "Fq6CWy11WRco",
        "colab": {
          "base_uri": "https://localhost:8080/"
        },
        "outputId": "6b5678db-371e-4827-fbf6-6eda9bcd244b"
      },
      "source": [
        "!git clone 'https://github.com/sumandutta8877/Data_DA.git'    # Run this Line for only one time"
      ],
      "execution_count": 2,
      "outputs": [
        {
          "output_type": "stream",
          "text": [
            "Cloning into 'Data_DA'...\n",
            "remote: Enumerating objects: 8, done.\u001b[K\n",
            "remote: Counting objects: 100% (8/8), done.\u001b[K\n",
            "remote: Compressing objects: 100% (7/7), done.\u001b[K\n",
            "remote: Total 8 (delta 0), reused 0 (delta 0), pack-reused 0\u001b[K\n",
            "Unpacking objects: 100% (8/8), done.\n"
          ],
          "name": "stdout"
        }
      ]
    },
    {
      "cell_type": "code",
      "metadata": {
        "id": "4O_de6VwCV4O"
      },
      "source": [
        "import pandas as pd\r\n",
        "df_train = pd.read_csv('/content/Data_DA/Data/Train_data.csv')\r\n",
        "df_test = pd.read_csv('/content/Data_DA/Data/Test_data.csv')\r\n",
        "df_sample = pd.read_csv('/content/Data_DA/Data/Sample_submission.csv')\r\n",
        "#print(df_train.head)\r\n",
        "#print(df_test.head)\r\n",
        "#print(df_sample.head)\r\n",
        "df1 = df_train            # df1 is the training dataframe\r\n",
        "df2 = df_test             # df2 is the test dataframe"
      ],
      "execution_count": 3,
      "outputs": []
    },
    {
      "cell_type": "markdown",
      "metadata": {
        "id": "piFJy64ybm26"
      },
      "source": [
        "# Start Processing"
      ]
    },
    {
      "cell_type": "code",
      "metadata": {
        "colab": {
          "base_uri": "https://localhost:8080/"
        },
        "id": "cn2bDzxl10SQ",
        "outputId": "9d8f9638-8cbe-450e-db3a-464184750068"
      },
      "source": [
        "print('Hello Suman\\'s World!')\n",
        "print('Load CSV File First')"
      ],
      "execution_count": 4,
      "outputs": [
        {
          "output_type": "stream",
          "text": [
            "Hello Suman's World!\n",
            "Load CSV File First\n"
          ],
          "name": "stdout"
        }
      ]
    },
    {
      "cell_type": "code",
      "metadata": {
        "colab": {
          "base_uri": "https://localhost:8080/"
        },
        "id": "uKKWFwDYdcAh",
        "outputId": "bd3dabc0-e174-4b1f-ec14-401f8d284cc8"
      },
      "source": [
        "print(df1.head())"
      ],
      "execution_count": 5,
      "outputs": [
        {
          "output_type": "stream",
          "text": [
            "      id  acousticness  danceability  ...  year duration-min  popularity\n",
            "0   2015         0.949         0.235  ...  1947          3.0    very low\n",
            "1  15901         0.855         0.456  ...  2020          2.4         low\n",
            "2   9002         0.827         0.495  ...  1950          2.6    very low\n",
            "3   6734         0.654         0.643  ...  1974          2.4         low\n",
            "4  15563         0.738         0.705  ...  1973          3.4     average\n",
            "\n",
            "[5 rows x 17 columns]\n"
          ],
          "name": "stdout"
        }
      ]
    },
    {
      "cell_type": "code",
      "metadata": {
        "colab": {
          "base_uri": "https://localhost:8080/"
        },
        "id": "tokPZK8ee2W4",
        "outputId": "5283c929-9ec1-4853-aa2c-17545d8adf5f"
      },
      "source": [
        "print(df2)"
      ],
      "execution_count": 6,
      "outputs": [
        {
          "output_type": "stream",
          "text": [
            "         id  acousticness  danceability  ...  valence  year  duration-min\n",
            "0      4943       0.03360         0.523  ...    0.346  2014           3.8\n",
            "1     16165       0.76500         0.687  ...    0.830  1972           3.8\n",
            "2      6774       0.36300         0.536  ...    0.289  1998           4.4\n",
            "3      9959       0.00463         0.890  ...    0.970  1980           3.9\n",
            "4     13818       0.00187         0.555  ...    0.882  2007           3.2\n",
            "...     ...           ...           ...  ...      ...   ...           ...\n",
            "3995   6367       0.00019         0.272  ...    0.564  1981           3.5\n",
            "3996  12061       0.10600         0.444  ...    0.747  2017           3.1\n",
            "3997  15802       0.64900         0.556  ...    0.604  1994           3.3\n",
            "3998  11746       0.99500         0.378  ...    0.158  1946           2.6\n",
            "3999   8441       0.02620         0.534  ...    0.145  2017           3.9\n",
            "\n",
            "[4000 rows x 16 columns]\n"
          ],
          "name": "stdout"
        }
      ]
    },
    {
      "cell_type": "code",
      "metadata": {
        "colab": {
          "base_uri": "https://localhost:8080/",
          "height": 237
        },
        "id": "ce194TsfMmVj",
        "outputId": "39984714-cc6e-4d1c-ef3c-f9c398aef082"
      },
      "source": [
        "df2.head()"
      ],
      "execution_count": 7,
      "outputs": [
        {
          "output_type": "execute_result",
          "data": {
            "text/html": [
              "<div>\n",
              "<style scoped>\n",
              "    .dataframe tbody tr th:only-of-type {\n",
              "        vertical-align: middle;\n",
              "    }\n",
              "\n",
              "    .dataframe tbody tr th {\n",
              "        vertical-align: top;\n",
              "    }\n",
              "\n",
              "    .dataframe thead th {\n",
              "        text-align: right;\n",
              "    }\n",
              "</style>\n",
              "<table border=\"1\" class=\"dataframe\">\n",
              "  <thead>\n",
              "    <tr style=\"text-align: right;\">\n",
              "      <th></th>\n",
              "      <th>id</th>\n",
              "      <th>acousticness</th>\n",
              "      <th>danceability</th>\n",
              "      <th>energy</th>\n",
              "      <th>explicit</th>\n",
              "      <th>instrumentalness</th>\n",
              "      <th>key</th>\n",
              "      <th>liveness</th>\n",
              "      <th>loudness</th>\n",
              "      <th>mode</th>\n",
              "      <th>release_date</th>\n",
              "      <th>speechiness</th>\n",
              "      <th>tempo</th>\n",
              "      <th>valence</th>\n",
              "      <th>year</th>\n",
              "      <th>duration-min</th>\n",
              "    </tr>\n",
              "  </thead>\n",
              "  <tbody>\n",
              "    <tr>\n",
              "      <th>0</th>\n",
              "      <td>4943</td>\n",
              "      <td>0.03360</td>\n",
              "      <td>0.523</td>\n",
              "      <td>0.861</td>\n",
              "      <td>No</td>\n",
              "      <td>0.000000</td>\n",
              "      <td>0</td>\n",
              "      <td>0.1440</td>\n",
              "      <td>-3.447</td>\n",
              "      <td>Major</td>\n",
              "      <td>01-01-2014</td>\n",
              "      <td>0.0644</td>\n",
              "      <td>127.049</td>\n",
              "      <td>0.346</td>\n",
              "      <td>2014</td>\n",
              "      <td>3.8</td>\n",
              "    </tr>\n",
              "    <tr>\n",
              "      <th>1</th>\n",
              "      <td>16165</td>\n",
              "      <td>0.76500</td>\n",
              "      <td>0.687</td>\n",
              "      <td>0.453</td>\n",
              "      <td>No</td>\n",
              "      <td>0.000008</td>\n",
              "      <td>7</td>\n",
              "      <td>0.0897</td>\n",
              "      <td>-11.649</td>\n",
              "      <td>Major</td>\n",
              "      <td>01-04-1972</td>\n",
              "      <td>0.0335</td>\n",
              "      <td>129.987</td>\n",
              "      <td>0.830</td>\n",
              "      <td>1972</td>\n",
              "      <td>3.8</td>\n",
              "    </tr>\n",
              "    <tr>\n",
              "      <th>2</th>\n",
              "      <td>6774</td>\n",
              "      <td>0.36300</td>\n",
              "      <td>0.536</td>\n",
              "      <td>0.640</td>\n",
              "      <td>No</td>\n",
              "      <td>0.000000</td>\n",
              "      <td>0</td>\n",
              "      <td>0.0948</td>\n",
              "      <td>-5.862</td>\n",
              "      <td>Major</td>\n",
              "      <td>02-06-1998</td>\n",
              "      <td>0.0368</td>\n",
              "      <td>142.483</td>\n",
              "      <td>0.289</td>\n",
              "      <td>1998</td>\n",
              "      <td>4.4</td>\n",
              "    </tr>\n",
              "    <tr>\n",
              "      <th>3</th>\n",
              "      <td>9959</td>\n",
              "      <td>0.00463</td>\n",
              "      <td>0.890</td>\n",
              "      <td>0.617</td>\n",
              "      <td>No</td>\n",
              "      <td>0.003850</td>\n",
              "      <td>2</td>\n",
              "      <td>0.0291</td>\n",
              "      <td>-12.096</td>\n",
              "      <td>Minor</td>\n",
              "      <td>08-09-1980</td>\n",
              "      <td>0.0418</td>\n",
              "      <td>121.126</td>\n",
              "      <td>0.970</td>\n",
              "      <td>1980</td>\n",
              "      <td>3.9</td>\n",
              "    </tr>\n",
              "    <tr>\n",
              "      <th>4</th>\n",
              "      <td>13818</td>\n",
              "      <td>0.00187</td>\n",
              "      <td>0.555</td>\n",
              "      <td>0.943</td>\n",
              "      <td>No</td>\n",
              "      <td>0.000042</td>\n",
              "      <td>2</td>\n",
              "      <td>0.1510</td>\n",
              "      <td>-2.492</td>\n",
              "      <td>Major</td>\n",
              "      <td>17-04-2007</td>\n",
              "      <td>0.0891</td>\n",
              "      <td>165.026</td>\n",
              "      <td>0.882</td>\n",
              "      <td>2007</td>\n",
              "      <td>3.2</td>\n",
              "    </tr>\n",
              "  </tbody>\n",
              "</table>\n",
              "</div>"
            ],
            "text/plain": [
              "      id  acousticness  danceability  ...  valence  year  duration-min\n",
              "0   4943       0.03360         0.523  ...    0.346  2014           3.8\n",
              "1  16165       0.76500         0.687  ...    0.830  1972           3.8\n",
              "2   6774       0.36300         0.536  ...    0.289  1998           4.4\n",
              "3   9959       0.00463         0.890  ...    0.970  1980           3.9\n",
              "4  13818       0.00187         0.555  ...    0.882  2007           3.2\n",
              "\n",
              "[5 rows x 16 columns]"
            ]
          },
          "metadata": {
            "tags": []
          },
          "execution_count": 7
        }
      ]
    },
    {
      "cell_type": "code",
      "metadata": {
        "colab": {
          "base_uri": "https://localhost:8080/"
        },
        "id": "QyJdVhTDNrVT",
        "outputId": "8409e21f-3653-41b9-cfd0-fc88ac30b241"
      },
      "source": [
        "!pip install pyclustertend"
      ],
      "execution_count": 8,
      "outputs": [
        {
          "output_type": "stream",
          "text": [
            "Collecting pyclustertend\n",
            "  Downloading https://files.pythonhosted.org/packages/a3/67/5dd390479122860d3f0ea947e45561c6d4469edf912f8838a4747fe6e189/pyclustertend-1.4.9-py3-none-any.whl\n",
            "Installing collected packages: pyclustertend\n",
            "Successfully installed pyclustertend-1.4.9\n"
          ],
          "name": "stdout"
        }
      ]
    },
    {
      "cell_type": "code",
      "metadata": {
        "id": "JpbNJThOMzkK"
      },
      "source": [
        "from sklearn.cluster import KMeans\n",
        "from pyclustertend import hopkins\n",
        "from sklearn.preprocessing import scale"
      ],
      "execution_count": 9,
      "outputs": []
    },
    {
      "cell_type": "markdown",
      "metadata": {
        "id": "_9cYQ4KGOKWz"
      },
      "source": [
        "## Pre-processing "
      ]
    },
    {
      "cell_type": "code",
      "metadata": {
        "id": "te7kpZPBOKDT"
      },
      "source": [
        "labels = dict(zip([1,2,3,4,5],df1['popularity'].unique()))\n",
        "df1.loc[(df1['popularity']=='very low'), 'popularity level'] = 1\n",
        "df1.loc[(df1['popularity']=='low'), 'popularity level'] = 2\n",
        "df1.loc[(df1['popularity']=='average'), 'popularity level'] = 3\n",
        "df1.loc[(df1['popularity']=='high'), 'popularity level'] = 4\n",
        "df1.loc[(df1['popularity']=='very high'), 'popularity level'] = 5"
      ],
      "execution_count": 10,
      "outputs": []
    },
    {
      "cell_type": "code",
      "metadata": {
        "id": "Kbb9Vo9hOk3o"
      },
      "source": [
        "import datetime as dt\n",
        "import time as tm\n",
        "today = dt.date.today()\n",
        "\n",
        "# On train data set\n",
        "df1['loudness'] = (-1)*df1['loudness']\n",
        "\n",
        "df1['mode'] = df1['mode'].apply(lambda x: 1 if x == 'Major' else 0)\n",
        "df1['explicit'] = df1['explicit'].apply(lambda x: 1 if x == 'Yes' else 0)\n",
        "\n",
        "df1['release_date'] = pd.to_datetime(df1['release_date'])\n",
        "df1['Today']=today\n",
        "df1['Today']=pd.to_datetime(df1['Today'])\n",
        "df1['days older']= (df1['Today']-df1['release_date']).dt.days"
      ],
      "execution_count": 11,
      "outputs": []
    },
    {
      "cell_type": "code",
      "metadata": {
        "colab": {
          "base_uri": "https://localhost:8080/",
          "height": 448
        },
        "id": "OWm-uHm6NQcz",
        "outputId": "4165875c-96f5-45c7-b3f7-62ad122f4a57"
      },
      "source": [
        "X = df1.iloc[:,:-4]\n",
        "X"
      ],
      "execution_count": 12,
      "outputs": [
        {
          "output_type": "execute_result",
          "data": {
            "text/html": [
              "<div>\n",
              "<style scoped>\n",
              "    .dataframe tbody tr th:only-of-type {\n",
              "        vertical-align: middle;\n",
              "    }\n",
              "\n",
              "    .dataframe tbody tr th {\n",
              "        vertical-align: top;\n",
              "    }\n",
              "\n",
              "    .dataframe thead th {\n",
              "        text-align: right;\n",
              "    }\n",
              "</style>\n",
              "<table border=\"1\" class=\"dataframe\">\n",
              "  <thead>\n",
              "    <tr style=\"text-align: right;\">\n",
              "      <th></th>\n",
              "      <th>id</th>\n",
              "      <th>acousticness</th>\n",
              "      <th>danceability</th>\n",
              "      <th>energy</th>\n",
              "      <th>explicit</th>\n",
              "      <th>instrumentalness</th>\n",
              "      <th>key</th>\n",
              "      <th>liveness</th>\n",
              "      <th>loudness</th>\n",
              "      <th>mode</th>\n",
              "      <th>release_date</th>\n",
              "      <th>speechiness</th>\n",
              "      <th>tempo</th>\n",
              "      <th>valence</th>\n",
              "      <th>year</th>\n",
              "      <th>duration-min</th>\n",
              "    </tr>\n",
              "  </thead>\n",
              "  <tbody>\n",
              "    <tr>\n",
              "      <th>0</th>\n",
              "      <td>2015</td>\n",
              "      <td>0.9490</td>\n",
              "      <td>0.2350</td>\n",
              "      <td>0.0276</td>\n",
              "      <td>0</td>\n",
              "      <td>0.927000</td>\n",
              "      <td>5</td>\n",
              "      <td>0.513</td>\n",
              "      <td>27.398</td>\n",
              "      <td>1</td>\n",
              "      <td>1947-01-01</td>\n",
              "      <td>0.0381</td>\n",
              "      <td>110.838</td>\n",
              "      <td>0.03980</td>\n",
              "      <td>1947</td>\n",
              "      <td>3.0</td>\n",
              "    </tr>\n",
              "    <tr>\n",
              "      <th>1</th>\n",
              "      <td>15901</td>\n",
              "      <td>0.8550</td>\n",
              "      <td>0.4560</td>\n",
              "      <td>0.4850</td>\n",
              "      <td>0</td>\n",
              "      <td>0.088400</td>\n",
              "      <td>4</td>\n",
              "      <td>0.151</td>\n",
              "      <td>10.046</td>\n",
              "      <td>1</td>\n",
              "      <td>2020-11-13</td>\n",
              "      <td>0.0437</td>\n",
              "      <td>152.066</td>\n",
              "      <td>0.85900</td>\n",
              "      <td>2020</td>\n",
              "      <td>2.4</td>\n",
              "    </tr>\n",
              "    <tr>\n",
              "      <th>2</th>\n",
              "      <td>9002</td>\n",
              "      <td>0.8270</td>\n",
              "      <td>0.4950</td>\n",
              "      <td>0.4990</td>\n",
              "      <td>0</td>\n",
              "      <td>0.000000</td>\n",
              "      <td>0</td>\n",
              "      <td>0.401</td>\n",
              "      <td>8.009</td>\n",
              "      <td>0</td>\n",
              "      <td>1950-01-01</td>\n",
              "      <td>0.0474</td>\n",
              "      <td>108.004</td>\n",
              "      <td>0.70900</td>\n",
              "      <td>1950</td>\n",
              "      <td>2.6</td>\n",
              "    </tr>\n",
              "    <tr>\n",
              "      <th>3</th>\n",
              "      <td>6734</td>\n",
              "      <td>0.6540</td>\n",
              "      <td>0.6430</td>\n",
              "      <td>0.4690</td>\n",
              "      <td>0</td>\n",
              "      <td>0.108000</td>\n",
              "      <td>7</td>\n",
              "      <td>0.218</td>\n",
              "      <td>15.917</td>\n",
              "      <td>1</td>\n",
              "      <td>1974-04-30</td>\n",
              "      <td>0.0368</td>\n",
              "      <td>83.636</td>\n",
              "      <td>0.96400</td>\n",
              "      <td>1974</td>\n",
              "      <td>2.4</td>\n",
              "    </tr>\n",
              "    <tr>\n",
              "      <th>4</th>\n",
              "      <td>15563</td>\n",
              "      <td>0.7380</td>\n",
              "      <td>0.7050</td>\n",
              "      <td>0.3110</td>\n",
              "      <td>0</td>\n",
              "      <td>0.000000</td>\n",
              "      <td>5</td>\n",
              "      <td>0.322</td>\n",
              "      <td>12.344</td>\n",
              "      <td>1</td>\n",
              "      <td>1973-01-01</td>\n",
              "      <td>0.0488</td>\n",
              "      <td>117.260</td>\n",
              "      <td>0.78500</td>\n",
              "      <td>1973</td>\n",
              "      <td>3.4</td>\n",
              "    </tr>\n",
              "    <tr>\n",
              "      <th>...</th>\n",
              "      <td>...</td>\n",
              "      <td>...</td>\n",
              "      <td>...</td>\n",
              "      <td>...</td>\n",
              "      <td>...</td>\n",
              "      <td>...</td>\n",
              "      <td>...</td>\n",
              "      <td>...</td>\n",
              "      <td>...</td>\n",
              "      <td>...</td>\n",
              "      <td>...</td>\n",
              "      <td>...</td>\n",
              "      <td>...</td>\n",
              "      <td>...</td>\n",
              "      <td>...</td>\n",
              "      <td>...</td>\n",
              "    </tr>\n",
              "    <tr>\n",
              "      <th>12222</th>\n",
              "      <td>15343</td>\n",
              "      <td>0.0408</td>\n",
              "      <td>0.8090</td>\n",
              "      <td>0.8010</td>\n",
              "      <td>0</td>\n",
              "      <td>0.000000</td>\n",
              "      <td>1</td>\n",
              "      <td>0.353</td>\n",
              "      <td>5.461</td>\n",
              "      <td>1</td>\n",
              "      <td>2014-01-07</td>\n",
              "      <td>0.4070</td>\n",
              "      <td>81.940</td>\n",
              "      <td>0.74400</td>\n",
              "      <td>2014</td>\n",
              "      <td>3.4</td>\n",
              "    </tr>\n",
              "    <tr>\n",
              "      <th>12223</th>\n",
              "      <td>1701</td>\n",
              "      <td>0.9120</td>\n",
              "      <td>0.4510</td>\n",
              "      <td>0.2400</td>\n",
              "      <td>0</td>\n",
              "      <td>0.000002</td>\n",
              "      <td>1</td>\n",
              "      <td>0.175</td>\n",
              "      <td>14.014</td>\n",
              "      <td>1</td>\n",
              "      <td>1959-01-01</td>\n",
              "      <td>0.0351</td>\n",
              "      <td>134.009</td>\n",
              "      <td>0.70100</td>\n",
              "      <td>1959</td>\n",
              "      <td>2.0</td>\n",
              "    </tr>\n",
              "    <tr>\n",
              "      <th>12224</th>\n",
              "      <td>3351</td>\n",
              "      <td>0.3280</td>\n",
              "      <td>0.5510</td>\n",
              "      <td>0.5640</td>\n",
              "      <td>0</td>\n",
              "      <td>0.002950</td>\n",
              "      <td>2</td>\n",
              "      <td>0.352</td>\n",
              "      <td>9.298</td>\n",
              "      <td>0</td>\n",
              "      <td>1984-01-01</td>\n",
              "      <td>0.0338</td>\n",
              "      <td>124.883</td>\n",
              "      <td>0.89000</td>\n",
              "      <td>1984</td>\n",
              "      <td>2.5</td>\n",
              "    </tr>\n",
              "    <tr>\n",
              "      <th>12225</th>\n",
              "      <td>8879</td>\n",
              "      <td>0.1220</td>\n",
              "      <td>0.0608</td>\n",
              "      <td>0.9390</td>\n",
              "      <td>0</td>\n",
              "      <td>0.991000</td>\n",
              "      <td>1</td>\n",
              "      <td>0.912</td>\n",
              "      <td>26.324</td>\n",
              "      <td>1</td>\n",
              "      <td>2017-09-01</td>\n",
              "      <td>0.1180</td>\n",
              "      <td>73.234</td>\n",
              "      <td>0.00558</td>\n",
              "      <td>2017</td>\n",
              "      <td>3.1</td>\n",
              "    </tr>\n",
              "    <tr>\n",
              "      <th>12226</th>\n",
              "      <td>9711</td>\n",
              "      <td>0.0380</td>\n",
              "      <td>0.3890</td>\n",
              "      <td>0.7680</td>\n",
              "      <td>1</td>\n",
              "      <td>0.000000</td>\n",
              "      <td>1</td>\n",
              "      <td>0.119</td>\n",
              "      <td>4.765</td>\n",
              "      <td>1</td>\n",
              "      <td>2020-07-24</td>\n",
              "      <td>0.2560</td>\n",
              "      <td>90.146</td>\n",
              "      <td>0.33400</td>\n",
              "      <td>2020</td>\n",
              "      <td>3.1</td>\n",
              "    </tr>\n",
              "  </tbody>\n",
              "</table>\n",
              "<p>12227 rows × 16 columns</p>\n",
              "</div>"
            ],
            "text/plain": [
              "          id  acousticness  danceability  ...  valence  year  duration-min\n",
              "0       2015        0.9490        0.2350  ...  0.03980  1947           3.0\n",
              "1      15901        0.8550        0.4560  ...  0.85900  2020           2.4\n",
              "2       9002        0.8270        0.4950  ...  0.70900  1950           2.6\n",
              "3       6734        0.6540        0.6430  ...  0.96400  1974           2.4\n",
              "4      15563        0.7380        0.7050  ...  0.78500  1973           3.4\n",
              "...      ...           ...           ...  ...      ...   ...           ...\n",
              "12222  15343        0.0408        0.8090  ...  0.74400  2014           3.4\n",
              "12223   1701        0.9120        0.4510  ...  0.70100  1959           2.0\n",
              "12224   3351        0.3280        0.5510  ...  0.89000  1984           2.5\n",
              "12225   8879        0.1220        0.0608  ...  0.00558  2017           3.1\n",
              "12226   9711        0.0380        0.3890  ...  0.33400  2020           3.1\n",
              "\n",
              "[12227 rows x 16 columns]"
            ]
          },
          "metadata": {
            "tags": []
          },
          "execution_count": 12
        }
      ]
    },
    {
      "cell_type": "code",
      "metadata": {
        "colab": {
          "base_uri": "https://localhost:8080/"
        },
        "id": "dcrySk-gO7Y4",
        "outputId": "7eaad4bd-fce6-4d1c-9ffc-6ddbeae72de0"
      },
      "source": [
        "X = scale(X[X.columns[~X.columns.isin(['release_date'])]])\n",
        "X"
      ],
      "execution_count": 13,
      "outputs": [
        {
          "output_type": "execute_result",
          "data": {
            "text/plain": [
              "array([[-1.29596545,  1.41306319, -1.83247495, ..., -1.88036829,\n",
              "        -1.44793282, -0.37268969],\n",
              "       [ 1.66433633,  1.15684715, -0.57224897, ...,  1.29243804,\n",
              "         1.36941017, -0.62446939],\n",
              "       [ 0.19356563,  1.08052748, -0.34985615, ...,  0.71147985,\n",
              "        -1.3321516 , -0.54054282],\n",
              "       ...,\n",
              "       [-1.01114886, -0.2795981 , -0.03052287, ...,  1.41250273,\n",
              "        -0.01996446, -0.58250611],\n",
              "       [ 0.16734374, -0.84109283, -2.82582955, ..., -2.01290422,\n",
              "         1.25362895, -0.33072641],\n",
              "       [ 0.34471455, -1.07005184, -0.95430843, ..., -0.74091563,\n",
              "         1.36941017, -0.33072641]])"
            ]
          },
          "metadata": {
            "tags": []
          },
          "execution_count": 13
        }
      ]
    },
    {
      "cell_type": "code",
      "metadata": {
        "colab": {
          "base_uri": "https://localhost:8080/"
        },
        "id": "Yjk9XfWmNZ4c",
        "outputId": "42f4b30f-5b8e-4656-dab9-d63b70610952"
      },
      "source": [
        "hopkins(X, X.shape[0])"
      ],
      "execution_count": 14,
      "outputs": [
        {
          "output_type": "execute_result",
          "data": {
            "text/plain": [
              "0.18233119290404054"
            ]
          },
          "metadata": {
            "tags": []
          },
          "execution_count": 14
        }
      ]
    },
    {
      "cell_type": "code",
      "metadata": {
        "colab": {
          "base_uri": "https://localhost:8080/",
          "height": 430
        },
        "id": "eMxn0dgEN35D",
        "outputId": "b70d3cd1-ee77-4ac8-8338-052ad58e0bba"
      },
      "source": [
        "from yellowbrick.cluster import KElbowVisualizer     ## Fuction used to find distortion score with different k-values\n",
        "\n",
        "model = KMeans()\n",
        "visualizer = KElbowVisualizer(model,k = (1,10))\n",
        "\n",
        "visualizer.fit(X)\n",
        "visualizer.poof();"
      ],
      "execution_count": 15,
      "outputs": [
        {
          "output_type": "stream",
          "text": [
            "/usr/local/lib/python3.7/dist-packages/sklearn/utils/deprecation.py:144: FutureWarning: The sklearn.metrics.classification module is  deprecated in version 0.22 and will be removed in version 0.24. The corresponding classes / functions should instead be imported from sklearn.metrics. Anything that cannot be imported from sklearn.metrics is now part of the private API.\n",
            "  warnings.warn(message, FutureWarning)\n"
          ],
          "name": "stderr"
        },
        {
          "output_type": "display_data",
          "data": {
            "image/png": "[encoded data removed]",
            "text/plain": [
              "<Figure size 576x396 with 2 Axes>"
            ]
          },
          "metadata": {
            "tags": []
          }
        }
      ]
    },
    {
      "cell_type": "code",
      "metadata": {
        "colab": {
          "base_uri": "https://localhost:8080/",
          "height": 448
        },
        "id": "VZSXpo7DQTYA",
        "outputId": "fc351402-eb99-474f-a786-7f3673e84dbd"
      },
      "source": [
        "import matplotlib.pyplot as plt\n",
        "import scipy.cluster.hierarchy as shc\n",
        "\n",
        "plt.figure(figsize=(10,7))\n",
        "plt.title(\"Dendrograms\")\n",
        "dend = shc.dendrogram(shc.linkage(X, method='ward'))\n",
        "plt.axhline(y=2, color='k', linestyle=':')\n",
        "plt.show()"
      ],
      "execution_count": 17,
      "outputs": [
        {
          "output_type": "display_data",
          "data": {
            "image/png": "[encoded data removed]",
            "text/plain": [
              "<Figure size 720x504 with 1 Axes>"
            ]
          },
          "metadata": {
            "tags": []
          }
        }
      ]
    },
    {
      "cell_type": "code",
      "metadata": {
        "id": "gR42r2KsQiSU"
      },
      "source": [
        ""
      ],
      "execution_count": null,
      "outputs": []
    }
  ]
}