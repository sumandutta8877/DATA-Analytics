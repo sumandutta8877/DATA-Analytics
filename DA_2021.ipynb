{
  "nbformat": 4,
  "nbformat_minor": 0,
  "metadata": {
    "accelerator": "GPU",
    "colab": {
      "name": "DA_2021.ipynb",
      "provenance": [],
      "toc_visible": true,
      "include_colab_link": true
    },
    "kernelspec": {
      "display_name": "Python 3",
      "language": "python",
      "name": "python3"
    },
    "language_info": {
      "codemirror_mode": {
        "name": "ipython",
        "version": 3
      },
      "file_extension": ".py",
      "mimetype": "text/x-python",
      "name": "python",
      "nbconvert_exporter": "python",
      "pygments_lexer": "ipython3",
      "version": "3.9.1"
    }
  },
  "cells": [
    {
      "cell_type": "markdown",
      "metadata": {
        "id": "view-in-github",
        "colab_type": "text"
      },
      "source": [
        "<a href=\"https://colab.research.google.com/github/sumandutta8877/DATA-Analytics/blob/suman/DA_2021.ipynb\" target=\"_parent\"><img src=\"https://colab.research.google.com/assets/colab-badge.svg\" alt=\"Open In Colab\"/></a>"
      ]
    },
    {
      "cell_type": "markdown",
      "metadata": {
        "id": "qLn3Az1zbj0-"
      },
      "source": [
        "# Import Data from GitHub"
      ]
    },
    {
      "cell_type": "code",
      "metadata": {
        "id": "Fq6CWy11WRco",
        "colab": {
          "base_uri": "https://localhost:8080/"
        },
        "outputId": "207e3895-f8b5-4dfc-bb1e-746b9fbf906a"
      },
      "source": [
        "!git clone 'https://github.com/sumandutta8877/Data_DA.git'    # Run this Line for only one time"
      ],
      "execution_count": 39,
      "outputs": [
        {
          "output_type": "stream",
          "text": [
            "fatal: destination path 'Data_DA' already exists and is not an empty directory.\n"
          ],
          "name": "stdout"
        }
      ]
    },
    {
      "cell_type": "code",
      "metadata": {
        "id": "4O_de6VwCV4O"
      },
      "source": [
        "import pandas as pd\r\n",
        "df_train = pd.read_csv('/content/Data_DA/Data/Train_data.csv')\r\n",
        "df_test = pd.read_csv('/content/Data_DA/Data/Test_data.csv')\r\n",
        "df_sample = pd.read_csv('/content/Data_DA/Data/Sample_submission.csv')\r\n",
        "#print(df_train.head)\r\n",
        "#print(df_test.head)\r\n",
        "#print(df_sample.head)\r\n",
        "df1 = df_train            # df1 is the training dataframe\r\n",
        "df2 = df_test             # df2 is the test dataframe"
      ],
      "execution_count": 65,
      "outputs": []
    },
    {
      "cell_type": "markdown",
      "metadata": {
        "id": "piFJy64ybm26"
      },
      "source": [
        "# Start Processing"
      ]
    },
    {
      "cell_type": "code",
      "metadata": {
        "colab": {
          "base_uri": "https://localhost:8080/"
        },
        "id": "uKKWFwDYdcAh",
        "outputId": "9341a680-3db1-49d1-83db-4fc884673648"
      },
      "source": [
        "df1['mode'] = df1['mode'].apply(lambda x: 2 if x == 'Major' else 1)\r\n",
        "df1['explicit'] = df1['explicit'].apply(lambda x: 0.2 if x == 'No' else 1.2)\r\n",
        "df1['id'] = 1\r\n",
        "df2['mode'] = df2['mode'].apply(lambda x: 2 if x == 'Major' else 1)\r\n",
        "df2['explicit'] = df2['explicit'].apply(lambda x: 0.2 if x == 'No' else 1.2)\r\n",
        "df2['id'] = 1\r\n",
        "df1.loc[(df1['popularity'] == 'very low'),'ratings'] = 1\r\n",
        "df1.loc[(df1['popularity'] == 'low'),'ratings'] = 2\r\n",
        "df1.loc[(df1['popularity'] == 'average'),'ratings'] = 3\r\n",
        "df1.loc[(df1['popularity'] == 'high'),'ratings'] = 4\r\n",
        "df1.loc[(df1['popularity'] == 'very high'),'ratings'] = 5\r\n",
        "M_vt = df1['ratings'].to_numpy()\r\n",
        "del df1['ratings']\r\n",
        "del df1['popularity']\r\n",
        "del df1['year']\r\n",
        "del df2['year']\r\n",
        "df = df1['id']\r\n",
        "df['temp1'] = df1['release_date'].str[0:2].astype(int)\r\n",
        "df['temp2'] = df1['release_date'].str[3:5].astype(int)\r\n",
        "df['temp3'] = df1['release_date'].str[6:10].astype(int)\r\n",
        "df1['loudness'] = -1.0*df1['loudness']\r\n",
        "df1['release_date'] = 737300 - (df['temp1']+30.45*df['temp2']+365*df['temp3'])  # number of days old from today\r\n",
        "df = df2['id']\r\n",
        "df['temp1'] = df2['release_date'].str[0:2].astype(int)\r\n",
        "df['temp2'] = df2['release_date'].str[3:5].astype(int)\r\n",
        "df['temp3'] = df2['release_date'].str[6:10].astype(int)\r\n",
        "df2['loudness'] = -1.0*df2['loudness']\r\n",
        "df2['release_date'] = 737300 - (df['temp1']+30.45*df['temp2']+365*df['temp3'])  # number of days old from today"
      ],
      "execution_count": 66,
      "outputs": [
        {
          "output_type": "stream",
          "text": [
            "/usr/local/lib/python3.7/dist-packages/ipykernel_launcher.py:18: SettingWithCopyWarning: \n",
            "A value is trying to be set on a copy of a slice from a DataFrame\n",
            "\n",
            "See the caveats in the documentation: https://pandas.pydata.org/pandas-docs/stable/user_guide/indexing.html#returning-a-view-versus-a-copy\n",
            "/usr/local/lib/python3.7/dist-packages/ipykernel_launcher.py:24: SettingWithCopyWarning: \n",
            "A value is trying to be set on a copy of a slice from a DataFrame\n",
            "\n",
            "See the caveats in the documentation: https://pandas.pydata.org/pandas-docs/stable/user_guide/indexing.html#returning-a-view-versus-a-copy\n"
          ],
          "name": "stderr"
        }
      ]
    },
    {
      "cell_type": "code",
      "metadata": {
        "colab": {
          "base_uri": "https://localhost:8080/"
        },
        "id": "tokPZK8ee2W4",
        "outputId": "3114543a-6afb-483f-a318-7760ed9a82cd"
      },
      "source": [
        "import numpy as np\r\n",
        "M_tr = df1.to_numpy()\r\n",
        "M_ts = df2.to_numpy()\r\n",
        "W = numpy.matmul((numpy.matmul(np.linalg.inv(numpy.matmul(np.transpose(M_tr),M_tr)),np.transpose(M_tr))),M_vt)\r\n",
        "Y_output = numpy.matmul(M_ts,W)\r\n",
        "print(Y_output)\r\n",
        "df = pd.DataFrame(Y_output, columns = ['ratings'])\r\n",
        "df.loc[(df['ratings'] <=1),'popularity'] = 'very low'\r\n",
        "df.loc[(df['ratings'] <=2),'popularity'] = 'low'\r\n",
        "df.loc[(df['ratings'] <=3),'popularity'] = 'average'\r\n",
        "df.loc[(df['ratings'] <=4),'popularity'] = 'high'\r\n",
        "df.loc[(df['ratings'] >4),'popularity'] = 'very high'\r\n",
        "df_test['ratings'] = df['ratings']\r\n",
        "df_test.to_csv(r'/content/Data_DA/Data/Sample_Output.csv')"
      ],
      "execution_count": 67,
      "outputs": [
        {
          "output_type": "stream",
          "text": [
            "[3.34389182 2.30032112 2.98498536 ... 2.81188355 0.99613338 3.76444383]\n"
          ],
          "name": "stdout"
        }
      ]
    }
  ]
}