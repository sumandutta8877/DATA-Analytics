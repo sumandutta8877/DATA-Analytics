{
  "nbformat": 4,
  "nbformat_minor": 0,
  "metadata": {
    "colab": {
      "name": "DA_2021.ipynb",
      "provenance": [],
      "include_colab_link": true
    },
    "kernelspec": {
      "display_name": "Python 3",
      "language": "python",
      "name": "python3"
    },
    "language_info": {
      "codemirror_mode": {
        "name": "ipython",
        "version": 3
      },
      "file_extension": ".py",
      "mimetype": "text/x-python",
      "name": "python",
      "nbconvert_exporter": "python",
      "pygments_lexer": "ipython3",
      "version": "3.9.1"
    }
  },
  "cells": [
    {
      "cell_type": "markdown",
      "metadata": {
        "id": "view-in-github",
        "colab_type": "text"
      },
      "source": [
        "<a href=\"https://colab.research.google.com/github/sumandutta8877/DATA-Analytics/blob/suman/DA_2021.ipynb\" target=\"_parent\"><img src=\"https://colab.research.google.com/assets/colab-badge.svg\" alt=\"Open In Colab\"/></a>"
      ]
    },
    {
      "cell_type": "markdown",
      "metadata": {
        "id": "qLn3Az1zbj0-"
      },
      "source": [
        "# Import Data from GitHub"
      ]
    },
    {
      "cell_type": "code",
      "metadata": {
        "id": "Fq6CWy11WRco",
        "colab": {
          "base_uri": "https://localhost:8080/"
        },
        "outputId": "43777e12-4c18-4659-9664-8d783d12d648"
      },
      "source": [
        "!git clone 'https://github.com/sumandutta8877/Data_DA.git'    # Run this Line for only one time"
      ],
      "execution_count": 1,
      "outputs": [
        {
          "output_type": "stream",
          "text": [
            "Cloning into 'Data_DA'...\n",
            "remote: Enumerating objects: 8, done.\u001b[K\n",
            "remote: Counting objects: 100% (8/8), done.\u001b[K\n",
            "remote: Compressing objects: 100% (7/7), done.\u001b[K\n",
            "remote: Total 8 (delta 0), reused 0 (delta 0), pack-reused 0\u001b[K\n",
            "Unpacking objects: 100% (8/8), done.\n"
          ],
          "name": "stdout"
        }
      ]
    },
    {
      "cell_type": "code",
      "metadata": {
        "id": "4O_de6VwCV4O"
      },
      "source": [
        "import pandas as pd\r\n",
        "import numpy as np\r\n",
        "import math\r\n",
        "df_train = pd.read_csv('/content/Data_DA/Data/Train_data.csv')\r\n",
        "df_test = pd.read_csv('/content/Data_DA/Data/Test_data.csv')\r\n",
        "df_sample = pd.read_csv('/content/Data_DA/Data/Sample_submission.csv')\r\n",
        "#print(df_train.head)\r\n",
        "#print(df_test.head)\r\n",
        "#print(df_sample.head)\r\n",
        "df1 = df_train            # df1 is the training dataframe\r\n",
        "df2 = df_test             # df2 is the test dataframe"
      ],
      "execution_count": 607,
      "outputs": []
    },
    {
      "cell_type": "markdown",
      "metadata": {
        "id": "piFJy64ybm26"
      },
      "source": [
        "#Pre-Processing"
      ]
    },
    {
      "cell_type": "code",
      "metadata": {
        "colab": {
          "base_uri": "https://localhost:8080/"
        },
        "id": "uKKWFwDYdcAh",
        "outputId": "70b92299-82a8-474a-a892-92a32df60c15"
      },
      "source": [
        "df1['mode'] = df1['mode'].apply(lambda x: 2 if x == 'Major' else 1)\r\n",
        "df1['explicit'] = df1['explicit'].apply(lambda x: 0.5 if x == 'No' else 1.2)\r\n",
        "df1['id'] = 1\r\n",
        "df2['mode'] = df2['mode'].apply(lambda x: 2 if x == 'Major' else 1)\r\n",
        "df2['explicit'] = df2['explicit'].apply(lambda x: 0.5 if x == 'No' else 1.2)\r\n",
        "df2['id'] = 1\r\n",
        "df1.loc[(df1['popularity'] == 'very low'),'ratings'] = 1\r\n",
        "df1.loc[(df1['popularity'] == 'low'),'ratings'] = 2\r\n",
        "df1.loc[(df1['popularity'] == 'average'),'ratings'] = 3\r\n",
        "df1.loc[(df1['popularity'] == 'high'),'ratings'] = 4\r\n",
        "df1.loc[(df1['popularity'] == 'very high'),'ratings'] = 5\r\n",
        "M_vt = df1['ratings'].to_numpy()\r\n",
        "del df1['ratings']\r\n",
        "del df1['popularity']\r\n",
        "del df1['year']\r\n",
        "del df2['year']\r\n",
        "df = df1['id']\r\n",
        "df['temp1'] = df1['release_date'].str[0:2].astype(int)\r\n",
        "df['temp2'] = df1['release_date'].str[3:5].astype(int)\r\n",
        "df['temp3'] = df1['release_date'].str[6:10].astype(int)\r\n",
        "df1['loudness'] = -1.0*df1['loudness']\r\n",
        "df1['release_date'] = 737900 - (df['temp1']+30.45*df['temp2']+365*df['temp3'])  # number of days old from today\r\n",
        "df = df2['id']\r\n",
        "df['temp1'] = df2['release_date'].str[0:2].astype(int)\r\n",
        "df['temp2'] = df2['release_date'].str[3:5].astype(int)\r\n",
        "df['temp3'] = df2['release_date'].str[6:10].astype(int)\r\n",
        "df2['loudness'] = -1.0*df2['loudness']\r\n",
        "df2['release_date'] = 737900 - (df['temp1']+30.45*df['temp2']+365*df['temp3'])  # number of days old from today"
      ],
      "execution_count": 608,
      "outputs": [
        {
          "output_type": "stream",
          "text": [
            "/usr/local/lib/python3.7/dist-packages/ipykernel_launcher.py:18: SettingWithCopyWarning: \n",
            "A value is trying to be set on a copy of a slice from a DataFrame\n",
            "\n",
            "See the caveats in the documentation: https://pandas.pydata.org/pandas-docs/stable/user_guide/indexing.html#returning-a-view-versus-a-copy\n",
            "/usr/local/lib/python3.7/dist-packages/ipykernel_launcher.py:24: SettingWithCopyWarning: \n",
            "A value is trying to be set on a copy of a slice from a DataFrame\n",
            "\n",
            "See the caveats in the documentation: https://pandas.pydata.org/pandas-docs/stable/user_guide/indexing.html#returning-a-view-versus-a-copy\n"
          ],
          "name": "stderr"
        }
      ]
    },
    {
      "cell_type": "markdown",
      "metadata": {
        "id": "IOPeCXuv6gwu"
      },
      "source": [
        "#Tuning Parameters"
      ]
    },
    {
      "cell_type": "code",
      "metadata": {
        "id": "KhHhKYLL6etj",
        "outputId": "ff46bec3-d443-4f4b-acba-4ea8c918c604",
        "colab": {
          "base_uri": "https://localhost:8080/"
        }
      },
      "source": [
        "del df1['instrumentalness']\r\n",
        "del df2['instrumentalness']\r\n",
        "del df1['key']\r\n",
        "del df2['key']\r\n",
        "del df1['valence']\r\n",
        "del df2['valence']\r\n",
        "del df1['liveness']\r\n",
        "del df2['liveness']\r\n",
        "del df1['tempo']\r\n",
        "del df2['tempo']\r\n",
        "#del df1['explicit']\r\n",
        "#del df2['explicit']\r\n",
        "#del df1['release_date']\r\n",
        "#del df2['release_date']\r\n",
        "#del df1['mode']\r\n",
        "#del df2['mode']\r\n",
        "#del df1['acousticness']\r\n",
        "#del df2['acousticness']\r\n",
        "#df1['speechinesss0.5'] = np.sqrt(df1['speechiness'])\r\n",
        "#df2['speechiness0.5'] = np.sqrt(df2['speechiness'])\r\n",
        "#df1['speechiness2'] = df1['speechiness']*df1['speechiness']\r\n",
        "#df2['speechiness2'] = df2['speechiness']*df2['speechiness']\r\n",
        "#df1['acousticness3'] = df1['acousticness']*df1['acousticness']*df1['acousticness']\r\n",
        "#df2['acousticness3'] = df2['acousticness']*df2['acousticness']*df2['acousticness']\r\n",
        "df1['acousticness0.5'] = np.sqrt(df1['acousticness'])\r\n",
        "df2['acousticness0.5'] = np.sqrt(df2['acousticness'])\r\n",
        "df1['loudness'][4260] = -1.0*df1['loudness'][4260]\r\n",
        "df1['loudness0.5'] = np.sqrt(df1['loudness'])\r\n",
        "df2['loudness0.5'] = np.sqrt(df2['loudness'])\r\n",
        "df1['loudness2'] = df1['loudness']*df1['loudness']\r\n",
        "df2['loudness2'] = df2['loudness']*df2['loudness']\r\n",
        "df1['loudness3'] = df1['loudness']*df1['loudness']*df1['loudness']\r\n",
        "df2['loudness3'] = df2['loudness']*df2['loudness']*df2['loudness']\r\n",
        "df1['duration-min0.5'] = np.sqrt(df1['duration-min'])\r\n",
        "df2['duration-min0.5'] = np.sqrt(df2['duration-min'])\r\n",
        "df1['duration-min2'] = df1['duration-min']*df1['duration-min']\r\n",
        "df2['duration-min2'] = df2['duration-min']*df2['duration-min']\r\n",
        "df1['duration-min3'] = df1['duration-min']*df1['duration-min']*df1['duration-min']\r\n",
        "df2['duration-min3'] = df2['duration-min']*df2['duration-min']*df2['duration-min']\r\n",
        "df1['danceability2'] = df1['danceability']*df1['danceability']\r\n",
        "df2['danceability2'] = df2['danceability']*df2['danceability']\r\n",
        "df1['danceability3'] = df1['danceability']*df1['danceability']*df1['danceability']\r\n",
        "df2['danceability3'] = df2['danceability']*df2['danceability']*df2['danceability']\r\n",
        "df1['energy2'] = df1['energy']*df1['energy']\r\n",
        "df2['energy2'] = df2['energy']*df2['energy']\r\n",
        "df1['energy3'] = df1['energy']*df1['energy']*df1['energy']\r\n",
        "df2['energy3'] = df2['energy']*df2['energy']*df2['energy']"
      ],
      "execution_count": 609,
      "outputs": [
        {
          "output_type": "stream",
          "text": [
            "/usr/local/lib/python3.7/dist-packages/ipykernel_launcher.py:27: SettingWithCopyWarning: \n",
            "A value is trying to be set on a copy of a slice from a DataFrame\n",
            "\n",
            "See the caveats in the documentation: https://pandas.pydata.org/pandas-docs/stable/user_guide/indexing.html#returning-a-view-versus-a-copy\n"
          ],
          "name": "stderr"
        }
      ]
    },
    {
      "cell_type": "markdown",
      "metadata": {
        "id": "YtL6qmdK7bNC"
      },
      "source": [
        "#Calculations"
      ]
    },
    {
      "cell_type": "code",
      "metadata": {
        "id": "tokPZK8ee2W4"
      },
      "source": [
        "M_tr = df1.to_numpy()\r\n",
        "M_ts = df2.to_numpy()\r\n",
        "W = np.matmul((np.matmul(np.linalg.inv(np.matmul(np.transpose(M_tr),M_tr)),np.transpose(M_tr))),M_vt)\r\n",
        "Y_output = np.matmul(M_ts,W)\r\n",
        "A_test = np.matmul(M_tr,W)\r\n",
        "\r\n",
        "Error = 0.0\r\n",
        "mean = 0.0\r\n",
        "mean_t = 0.0\r\n",
        "x = 0.56275\r\n",
        "mis_match = 0\r\n",
        "a = 1.15\r\n",
        "b = 0.97\r\n",
        "c = 1.1\r\n",
        "d = 0.75\r\n",
        "\r\n",
        "for i in range(len(A_test)):\r\n",
        "  if A_test[i]<=1.0+x*a:\r\n",
        "    A_test[i]=1.0\r\n",
        "  elif A_test[i]<=2.0+x*b:\r\n",
        "    A_test[i]=2.0\r\n",
        "  elif A_test[i]<=3.0+x*c:\r\n",
        "    A_test[i]=3.0\r\n",
        "  elif A_test[i]<=4.0+x*d:\r\n",
        "    A_test[i]=4.0\r\n",
        "  else:\r\n",
        "    A_test[i]=5.0\r\n",
        "  mean_t = mean_t + A_test[i]\r\n",
        "mean_t = mean_t/(1.0*len(A_test))\r\n",
        "for i in range(len(M_vt)):\r\n",
        "  Error = Error + abs(M_vt[i]-math.ceil(A_test[i]))/5.0\r\n",
        "  mean = mean + M_vt[i]\r\n",
        "  if (M_vt[i]-math.ceil(A_test[i])) !=0:\r\n",
        "    mis_match = mis_match+1\r\n",
        "mis_match = mis_match/(1.0*len(M_vt))\r\n",
        "mean = mean/(1.0*len(M_vt))\r\n",
        "Error = Error/(1.0*len(M_vt))\r\n",
        "Accuracy = 100.0*(1.0 - Error)\r\n",
        "for i in range(len(Y_output)):\r\n",
        "  if Y_output[i]<=1.0+x*a:\r\n",
        "    Y_output[i]=1.0\r\n",
        "  elif Y_output[i]<=2.0+x*b:\r\n",
        "    Y_output[i]=2.0\r\n",
        "  elif Y_output[i]<=3.0+x*c:\r\n",
        "    Y_output[i]=3.0\r\n",
        "  elif Y_output[i]<=4.0+x*d:\r\n",
        "    Y_output[i]=4.0\r\n",
        "  else:\r\n",
        "    Y_output[i]=5.0\r\n",
        "df = pd.DataFrame(Y_output, columns = ['ratings'])\r\n",
        "df.loc[(df['ratings'] == 1.0),'popularity'] = 'very low'\r\n",
        "df.loc[(df['ratings'] == 2.0),'popularity'] = 'low'\r\n",
        "df.loc[(df['ratings'] == 3.0),'popularity'] = 'average'\r\n",
        "df.loc[(df['ratings'] == 4.0),'popularity'] = 'high'\r\n",
        "df.loc[(df['ratings'] == 5.0),'popularity'] = 'very high'\r\n",
        "del df['ratings']"
      ],
      "execution_count": 610,
      "outputs": []
    },
    {
      "cell_type": "markdown",
      "metadata": {
        "id": "te3T0Kzh7q2N"
      },
      "source": [
        "#Print Output"
      ]
    },
    {
      "cell_type": "code",
      "metadata": {
        "id": "BhLBbPxeRsUu",
        "colab": {
          "base_uri": "https://localhost:8080/"
        },
        "outputId": "85cc6ebf-cd54-464c-d2b0-2d7ab8278c3a"
      },
      "source": [
        "df_id=pd.read_csv(r'/content/Data_DA/Data/Test_data.csv')\r\n",
        "data = [df_id['id'],df['popularity']]\r\n",
        "headers = ['id','popularity']\r\n",
        "df_output = pd.concat(data, axis=1, keys=headers)\r\n",
        "df_output.to_csv(r'/content/Data_DA/Data/Sample_output.csv',index=False)\r\n",
        "print('Accuracy on train data =',Accuracy,'%')\r\n",
        "print('Match percentage on train data =',100.0*(1-mis_match),'%')"
      ],
      "execution_count": 611,
      "outputs": [
        {
          "output_type": "stream",
          "text": [
            "Accuracy on train data = 88.28494315858234 %\n",
            "Match percentage on train data = 51.917886644311764 %\n"
          ],
          "name": "stdout"
        }
      ]
    },
    {
      "cell_type": "code",
      "metadata": {
        "id": "UbgPizfx9HO-",
        "outputId": "b455ee9b-a4f9-4f05-c801-911a249c69bf",
        "colab": {
          "base_uri": "https://localhost:8080/"
        }
      },
      "source": [
        "print(W)\r\n",
        "print(mean,mean_t)"
      ],
      "execution_count": 612,
      "outputs": [
        {
          "output_type": "stream",
          "text": [
            "[ 1.91153030e+00 -1.81638276e+00 -9.26501243e-01 -1.10167195e+00\n",
            "  5.09347120e-01 -2.40929773e-01  8.36576892e-03 -5.94771859e-05\n",
            " -5.66741234e-01 -6.76519709e-01  1.65585840e+00  3.50784965e-01\n",
            "  7.94671468e-03 -9.58061053e-05  2.23159635e+00  1.42278734e-02\n",
            " -1.20588799e-04  2.09381285e+00 -1.26829795e+00  2.28901480e+00\n",
            " -2.12588152e+00]\n",
            "2.491453340966713 2.391019874049235\n"
          ],
          "name": "stdout"
        }
      ]
    }
  ]
}