{
  "nbformat": 4,
  "nbformat_minor": 0,
  "metadata": {
    "colab": {
      "name": "DA_2021.ipynb",
      "provenance": [],
      "include_colab_link": true
    },
    "kernelspec": {
      "display_name": "Python 3",
      "language": "python",
      "name": "python3"
    },
    "language_info": {
      "codemirror_mode": {
        "name": "ipython",
        "version": 3
      },
      "file_extension": ".py",
      "mimetype": "text/x-python",
      "name": "python",
      "nbconvert_exporter": "python",
      "pygments_lexer": "ipython3",
      "version": "3.9.1"
    },
    "accelerator": "GPU"
  },
  "cells": [
    {
      "cell_type": "markdown",
      "metadata": {
        "id": "view-in-github",
        "colab_type": "text"
      },
      "source": [
        "<a href=\"https://colab.research.google.com/github/sumandutta8877/DATA-Analytics/blob/Jeel/DA_2021.ipynb\" target=\"_parent\"><img src=\"https://colab.research.google.com/assets/colab-badge.svg\" alt=\"Open In Colab\"/></a>"
      ]
    },
    {
      "cell_type": "markdown",
      "metadata": {
        "id": "qLn3Az1zbj0-"
      },
      "source": [
        "# Import Data from GitHub"
      ]
    },
    {
      "cell_type": "code",
      "metadata": {
        "id": "Fq6CWy11WRco",
        "colab": {
          "base_uri": "https://localhost:8080/"
        },
        "outputId": "a1de9b2d-527a-440c-87f8-2cbc57b15292"
      },
      "source": [
        "!git clone 'https://github.com/sumandutta8877/Data_DA.git'    # Run this Line for only one time"
      ],
      "execution_count": 1,
      "outputs": [
        {
          "output_type": "stream",
          "text": [
            "Cloning into 'Data_DA'...\n",
            "remote: Enumerating objects: 8, done.\u001b[K\n",
            "remote: Counting objects: 100% (8/8), done.\u001b[K\n",
            "remote: Compressing objects: 100% (7/7), done.\u001b[K\n",
            "remote: Total 8 (delta 0), reused 0 (delta 0), pack-reused 0\u001b[K\n",
            "Unpacking objects: 100% (8/8), done.\n"
          ],
          "name": "stdout"
        }
      ]
    },
    {
      "cell_type": "code",
      "metadata": {
        "id": "4O_de6VwCV4O"
      },
      "source": [
        "import pandas as pd\r\n",
        "df_train = pd.read_csv('/content/Data_DA/Data/Train_data.csv')\r\n",
        "df_test = pd.read_csv('/content/Data_DA/Data/Test_data.csv')\r\n",
        "df_sample = pd.read_csv('/content/Data_DA/Data/Sample_submission.csv')\r\n",
        "\r\n",
        "df1 = df_train            # df1 is the training dataframe\r\n",
        "df2 = df_test             # df2 is the test dataframe"
      ],
      "execution_count": 1,
      "outputs": []
    },
    {
      "cell_type": "markdown",
      "metadata": {
        "id": "piFJy64ybm26"
      },
      "source": [
        "# Start Processing"
      ]
    },
    {
      "cell_type": "code",
      "metadata": {
        "id": "PdtmJPaCEFlr"
      },
      "source": [
        "import matplotlib.pyplot as plt\r\n",
        "import numpy as np\r\n",
        "from sklearn.model_selection import train_test_split\r\n",
        "from matplotlib import cm\r\n",
        "from mpl_toolkits.mplot3d import Axes3D\r\n",
        "from sklearn.svm import LinearSVC\r\n",
        "from sklearn.metrics import accuracy_score\r\n",
        "from sklearn.metrics import f1_score"
      ],
      "execution_count": 2,
      "outputs": []
    },
    {
      "cell_type": "code",
      "metadata": {
        "id": "qRjW6THYGUIA"
      },
      "source": [
        "labels = dict(zip([1,2,3,4,5],df1['popularity'].unique()))\r\n",
        "df1.loc[(df1['popularity']=='very low'), 'popularity level'] = 1\r\n",
        "df1.loc[(df1['popularity']=='low'), 'popularity level'] = 2\r\n",
        "df1.loc[(df1['popularity']=='average'), 'popularity level'] = 3\r\n",
        "df1.loc[(df1['popularity']=='high'), 'popularity level'] = 4\r\n",
        "df1.loc[(df1['popularity']=='very high'), 'popularity level'] = 5"
      ],
      "execution_count": 3,
      "outputs": []
    },
    {
      "cell_type": "markdown",
      "metadata": {
        "id": "ukUjeKmhKGVH"
      },
      "source": [
        "**Pre Processing required**"
      ]
    },
    {
      "cell_type": "code",
      "metadata": {
        "id": "loWT5pyEKQfl"
      },
      "source": [
        "import datetime as dt\r\n",
        "import time as tm\r\n",
        "today = dt.date.today()\r\n",
        "\r\n",
        "# On train data set\r\n",
        "df1['loudness'] = (-1)*df1['loudness']\r\n",
        "\r\n",
        "df1['mode'] = df1['mode'].apply(lambda x: 1 if x == 'Major' else 0)\r\n",
        "df1['explicit'] = df1['explicit'].apply(lambda x: 1 if x == 'Yes' else 0)\r\n",
        "\r\n",
        "df1['release_date'] = pd.to_datetime(df1['release_date'])\r\n",
        "df1['Today']=today\r\n",
        "df1['Today']=pd.to_datetime(df1['Today'])\r\n",
        "df1['days older']= (df1['Today']-df1['release_date']).dt.days\r\n",
        "\r\n",
        "\r\n",
        "\r\n",
        "# On test data set\r\n",
        "df2['loudness'] = (-1)*df2['loudness']\r\n",
        "\r\n",
        "df2['mode'] = df2['mode'].apply(lambda x: 1 if x == 'Major' else 0)\r\n",
        "df2['explicit'] = df2['explicit'].apply(lambda x: 1 if x == 'Yes' else 0)\r\n",
        "\r\n",
        "df2['release_date'] = pd.to_datetime(df2['release_date'])\r\n",
        "df2['Today']=today\r\n",
        "df2['Today']=pd.to_datetime(df2['Today'])\r\n",
        "df2['days older']= (df2['Today']-df2['release_date']).dt.days\r\n"
      ],
      "execution_count": 4,
      "outputs": []
    },
    {
      "cell_type": "code",
      "metadata": {
        "id": "O9srOGdBpS6c"
      },
      "source": [
        "#del df1['popularity']\r\n",
        "#del df2['popularity']\r\n",
        "#del df1['release_date']\r\n",
        "#del df2['release_date']"
      ],
      "execution_count": 5,
      "outputs": []
    },
    {
      "cell_type": "code",
      "metadata": {
        "colab": {
          "base_uri": "https://localhost:8080/",
          "height": 326
        },
        "id": "oQJoIj8smj1Y",
        "outputId": "8cfcbc6b-b90c-4f04-c077-131d22b371c9"
      },
      "source": [
        "df1.head()"
      ],
      "execution_count": 6,
      "outputs": [
        {
          "output_type": "execute_result",
          "data": {
            "text/html": [
              "<div>\n",
              "<style scoped>\n",
              "    .dataframe tbody tr th:only-of-type {\n",
              "        vertical-align: middle;\n",
              "    }\n",
              "\n",
              "    .dataframe tbody tr th {\n",
              "        vertical-align: top;\n",
              "    }\n",
              "\n",
              "    .dataframe thead th {\n",
              "        text-align: right;\n",
              "    }\n",
              "</style>\n",
              "<table border=\"1\" class=\"dataframe\">\n",
              "  <thead>\n",
              "    <tr style=\"text-align: right;\">\n",
              "      <th></th>\n",
              "      <th>id</th>\n",
              "      <th>acousticness</th>\n",
              "      <th>danceability</th>\n",
              "      <th>energy</th>\n",
              "      <th>explicit</th>\n",
              "      <th>instrumentalness</th>\n",
              "      <th>key</th>\n",
              "      <th>liveness</th>\n",
              "      <th>loudness</th>\n",
              "      <th>mode</th>\n",
              "      <th>release_date</th>\n",
              "      <th>speechiness</th>\n",
              "      <th>tempo</th>\n",
              "      <th>valence</th>\n",
              "      <th>year</th>\n",
              "      <th>duration-min</th>\n",
              "      <th>popularity</th>\n",
              "      <th>popularity level</th>\n",
              "      <th>Today</th>\n",
              "      <th>days older</th>\n",
              "    </tr>\n",
              "  </thead>\n",
              "  <tbody>\n",
              "    <tr>\n",
              "      <th>0</th>\n",
              "      <td>2015</td>\n",
              "      <td>0.949</td>\n",
              "      <td>0.235</td>\n",
              "      <td>0.0276</td>\n",
              "      <td>0</td>\n",
              "      <td>0.9270</td>\n",
              "      <td>5</td>\n",
              "      <td>0.513</td>\n",
              "      <td>27.398</td>\n",
              "      <td>1</td>\n",
              "      <td>1947-01-01</td>\n",
              "      <td>0.0381</td>\n",
              "      <td>110.838</td>\n",
              "      <td>0.0398</td>\n",
              "      <td>1947</td>\n",
              "      <td>3.0</td>\n",
              "      <td>very low</td>\n",
              "      <td>1.0</td>\n",
              "      <td>2021-03-11</td>\n",
              "      <td>27098</td>\n",
              "    </tr>\n",
              "    <tr>\n",
              "      <th>1</th>\n",
              "      <td>15901</td>\n",
              "      <td>0.855</td>\n",
              "      <td>0.456</td>\n",
              "      <td>0.4850</td>\n",
              "      <td>0</td>\n",
              "      <td>0.0884</td>\n",
              "      <td>4</td>\n",
              "      <td>0.151</td>\n",
              "      <td>10.046</td>\n",
              "      <td>1</td>\n",
              "      <td>2020-11-13</td>\n",
              "      <td>0.0437</td>\n",
              "      <td>152.066</td>\n",
              "      <td>0.8590</td>\n",
              "      <td>2020</td>\n",
              "      <td>2.4</td>\n",
              "      <td>low</td>\n",
              "      <td>2.0</td>\n",
              "      <td>2021-03-11</td>\n",
              "      <td>118</td>\n",
              "    </tr>\n",
              "    <tr>\n",
              "      <th>2</th>\n",
              "      <td>9002</td>\n",
              "      <td>0.827</td>\n",
              "      <td>0.495</td>\n",
              "      <td>0.4990</td>\n",
              "      <td>0</td>\n",
              "      <td>0.0000</td>\n",
              "      <td>0</td>\n",
              "      <td>0.401</td>\n",
              "      <td>8.009</td>\n",
              "      <td>0</td>\n",
              "      <td>1950-01-01</td>\n",
              "      <td>0.0474</td>\n",
              "      <td>108.004</td>\n",
              "      <td>0.7090</td>\n",
              "      <td>1950</td>\n",
              "      <td>2.6</td>\n",
              "      <td>very low</td>\n",
              "      <td>1.0</td>\n",
              "      <td>2021-03-11</td>\n",
              "      <td>26002</td>\n",
              "    </tr>\n",
              "    <tr>\n",
              "      <th>3</th>\n",
              "      <td>6734</td>\n",
              "      <td>0.654</td>\n",
              "      <td>0.643</td>\n",
              "      <td>0.4690</td>\n",
              "      <td>0</td>\n",
              "      <td>0.1080</td>\n",
              "      <td>7</td>\n",
              "      <td>0.218</td>\n",
              "      <td>15.917</td>\n",
              "      <td>1</td>\n",
              "      <td>1974-04-30</td>\n",
              "      <td>0.0368</td>\n",
              "      <td>83.636</td>\n",
              "      <td>0.9640</td>\n",
              "      <td>1974</td>\n",
              "      <td>2.4</td>\n",
              "      <td>low</td>\n",
              "      <td>2.0</td>\n",
              "      <td>2021-03-11</td>\n",
              "      <td>17117</td>\n",
              "    </tr>\n",
              "    <tr>\n",
              "      <th>4</th>\n",
              "      <td>15563</td>\n",
              "      <td>0.738</td>\n",
              "      <td>0.705</td>\n",
              "      <td>0.3110</td>\n",
              "      <td>0</td>\n",
              "      <td>0.0000</td>\n",
              "      <td>5</td>\n",
              "      <td>0.322</td>\n",
              "      <td>12.344</td>\n",
              "      <td>1</td>\n",
              "      <td>1973-01-01</td>\n",
              "      <td>0.0488</td>\n",
              "      <td>117.260</td>\n",
              "      <td>0.7850</td>\n",
              "      <td>1973</td>\n",
              "      <td>3.4</td>\n",
              "      <td>average</td>\n",
              "      <td>3.0</td>\n",
              "      <td>2021-03-11</td>\n",
              "      <td>17601</td>\n",
              "    </tr>\n",
              "  </tbody>\n",
              "</table>\n",
              "</div>"
            ],
            "text/plain": [
              "      id  acousticness  danceability  ...  popularity level      Today  days older\n",
              "0   2015         0.949         0.235  ...               1.0 2021-03-11       27098\n",
              "1  15901         0.855         0.456  ...               2.0 2021-03-11         118\n",
              "2   9002         0.827         0.495  ...               1.0 2021-03-11       26002\n",
              "3   6734         0.654         0.643  ...               2.0 2021-03-11       17117\n",
              "4  15563         0.738         0.705  ...               3.0 2021-03-11       17601\n",
              "\n",
              "[5 rows x 20 columns]"
            ]
          },
          "metadata": {
            "tags": []
          },
          "execution_count": 6
        }
      ]
    },
    {
      "cell_type": "code",
      "metadata": {
        "colab": {
          "base_uri": "https://localhost:8080/",
          "height": 326
        },
        "id": "N38ieqAbo7Xd",
        "outputId": "10a7be9a-dcd6-4c99-ca49-bfb73f0dea0b"
      },
      "source": [
        "df2.head()"
      ],
      "execution_count": 7,
      "outputs": [
        {
          "output_type": "execute_result",
          "data": {
            "text/html": [
              "<div>\n",
              "<style scoped>\n",
              "    .dataframe tbody tr th:only-of-type {\n",
              "        vertical-align: middle;\n",
              "    }\n",
              "\n",
              "    .dataframe tbody tr th {\n",
              "        vertical-align: top;\n",
              "    }\n",
              "\n",
              "    .dataframe thead th {\n",
              "        text-align: right;\n",
              "    }\n",
              "</style>\n",
              "<table border=\"1\" class=\"dataframe\">\n",
              "  <thead>\n",
              "    <tr style=\"text-align: right;\">\n",
              "      <th></th>\n",
              "      <th>id</th>\n",
              "      <th>acousticness</th>\n",
              "      <th>danceability</th>\n",
              "      <th>energy</th>\n",
              "      <th>explicit</th>\n",
              "      <th>instrumentalness</th>\n",
              "      <th>key</th>\n",
              "      <th>liveness</th>\n",
              "      <th>loudness</th>\n",
              "      <th>mode</th>\n",
              "      <th>release_date</th>\n",
              "      <th>speechiness</th>\n",
              "      <th>tempo</th>\n",
              "      <th>valence</th>\n",
              "      <th>year</th>\n",
              "      <th>duration-min</th>\n",
              "      <th>Today</th>\n",
              "      <th>days older</th>\n",
              "    </tr>\n",
              "  </thead>\n",
              "  <tbody>\n",
              "    <tr>\n",
              "      <th>0</th>\n",
              "      <td>4943</td>\n",
              "      <td>0.03360</td>\n",
              "      <td>0.523</td>\n",
              "      <td>0.861</td>\n",
              "      <td>0</td>\n",
              "      <td>0.000000</td>\n",
              "      <td>0</td>\n",
              "      <td>0.1440</td>\n",
              "      <td>3.447</td>\n",
              "      <td>1</td>\n",
              "      <td>2014-01-01</td>\n",
              "      <td>0.0644</td>\n",
              "      <td>127.049</td>\n",
              "      <td>0.346</td>\n",
              "      <td>2014</td>\n",
              "      <td>3.8</td>\n",
              "      <td>2021-03-11</td>\n",
              "      <td>2626</td>\n",
              "    </tr>\n",
              "    <tr>\n",
              "      <th>1</th>\n",
              "      <td>16165</td>\n",
              "      <td>0.76500</td>\n",
              "      <td>0.687</td>\n",
              "      <td>0.453</td>\n",
              "      <td>0</td>\n",
              "      <td>0.000008</td>\n",
              "      <td>7</td>\n",
              "      <td>0.0897</td>\n",
              "      <td>11.649</td>\n",
              "      <td>1</td>\n",
              "      <td>1972-01-04</td>\n",
              "      <td>0.0335</td>\n",
              "      <td>129.987</td>\n",
              "      <td>0.830</td>\n",
              "      <td>1972</td>\n",
              "      <td>3.8</td>\n",
              "      <td>2021-03-11</td>\n",
              "      <td>17964</td>\n",
              "    </tr>\n",
              "    <tr>\n",
              "      <th>2</th>\n",
              "      <td>6774</td>\n",
              "      <td>0.36300</td>\n",
              "      <td>0.536</td>\n",
              "      <td>0.640</td>\n",
              "      <td>0</td>\n",
              "      <td>0.000000</td>\n",
              "      <td>0</td>\n",
              "      <td>0.0948</td>\n",
              "      <td>5.862</td>\n",
              "      <td>1</td>\n",
              "      <td>1998-02-06</td>\n",
              "      <td>0.0368</td>\n",
              "      <td>142.483</td>\n",
              "      <td>0.289</td>\n",
              "      <td>1998</td>\n",
              "      <td>4.4</td>\n",
              "      <td>2021-03-11</td>\n",
              "      <td>8434</td>\n",
              "    </tr>\n",
              "    <tr>\n",
              "      <th>3</th>\n",
              "      <td>9959</td>\n",
              "      <td>0.00463</td>\n",
              "      <td>0.890</td>\n",
              "      <td>0.617</td>\n",
              "      <td>0</td>\n",
              "      <td>0.003850</td>\n",
              "      <td>2</td>\n",
              "      <td>0.0291</td>\n",
              "      <td>12.096</td>\n",
              "      <td>0</td>\n",
              "      <td>1980-08-09</td>\n",
              "      <td>0.0418</td>\n",
              "      <td>121.126</td>\n",
              "      <td>0.970</td>\n",
              "      <td>1980</td>\n",
              "      <td>3.9</td>\n",
              "      <td>2021-03-11</td>\n",
              "      <td>14824</td>\n",
              "    </tr>\n",
              "    <tr>\n",
              "      <th>4</th>\n",
              "      <td>13818</td>\n",
              "      <td>0.00187</td>\n",
              "      <td>0.555</td>\n",
              "      <td>0.943</td>\n",
              "      <td>0</td>\n",
              "      <td>0.000042</td>\n",
              "      <td>2</td>\n",
              "      <td>0.1510</td>\n",
              "      <td>2.492</td>\n",
              "      <td>1</td>\n",
              "      <td>2007-04-17</td>\n",
              "      <td>0.0891</td>\n",
              "      <td>165.026</td>\n",
              "      <td>0.882</td>\n",
              "      <td>2007</td>\n",
              "      <td>3.2</td>\n",
              "      <td>2021-03-11</td>\n",
              "      <td>5077</td>\n",
              "    </tr>\n",
              "  </tbody>\n",
              "</table>\n",
              "</div>"
            ],
            "text/plain": [
              "      id  acousticness  danceability  ...  duration-min      Today  days older\n",
              "0   4943       0.03360         0.523  ...           3.8 2021-03-11        2626\n",
              "1  16165       0.76500         0.687  ...           3.8 2021-03-11       17964\n",
              "2   6774       0.36300         0.536  ...           4.4 2021-03-11        8434\n",
              "3   9959       0.00463         0.890  ...           3.9 2021-03-11       14824\n",
              "4  13818       0.00187         0.555  ...           3.2 2021-03-11        5077\n",
              "\n",
              "[5 rows x 18 columns]"
            ]
          },
          "metadata": {
            "tags": []
          },
          "execution_count": 7
        }
      ]
    },
    {
      "cell_type": "code",
      "metadata": {
        "colab": {
          "base_uri": "https://localhost:8080/"
        },
        "id": "MKPEkj-1q4RC",
        "outputId": "7ad453b3-c708-48e4-9644-716ac74ae71b"
      },
      "source": [
        "df1.columns"
      ],
      "execution_count": 8,
      "outputs": [
        {
          "output_type": "execute_result",
          "data": {
            "text/plain": [
              "Index(['id', 'acousticness', 'danceability', 'energy', 'explicit',\n",
              "       'instrumentalness', 'key', 'liveness', 'loudness', 'mode',\n",
              "       'release_date', 'speechiness', 'tempo', 'valence', 'year',\n",
              "       'duration-min', 'popularity', 'popularity level', 'Today',\n",
              "       'days older'],\n",
              "      dtype='object')"
            ]
          },
          "metadata": {
            "tags": []
          },
          "execution_count": 8
        }
      ]
    },
    {
      "cell_type": "code",
      "metadata": {
        "id": "uSOFG__qZH1D"
      },
      "source": [
        "features1 = ['days older', 'danceability', 'valence','acousticness','energy','key', 'liveness', 'loudness', 'speechiness','year']\r\n",
        "# list_extra = ['acousticness','energy','key', 'liveness', 'loudness', 'speechiness']\r\n",
        "\r\n",
        "X = df1.loc[:,features1].values\r\n",
        "y = df1.loc[:,['popularity level']].values\r\n",
        "X_train,X_test,y_train,y_test = train_test_split(X,y,train_size=0.80, test_size=0.20,random_state=0)"
      ],
      "execution_count": 9,
      "outputs": []
    },
    {
      "cell_type": "code",
      "metadata": {
        "id": "tokPZK8ee2W4"
      },
      "source": [
        "#cmap = cm.get_cmap('gnuplot')\r\n",
        "#scatter = pd.plotting.scatter_matrix(X_train,c=y_train,s=40,hist_kwds={'bins':15},figsize=(12,12),cmap=cmap)"
      ],
      "execution_count": 10,
      "outputs": []
    },
    {
      "cell_type": "code",
      "metadata": {
        "id": "MFWJoF7JOpNa"
      },
      "source": [
        "#fig = plt.figure(figsize=(10,10))\r\n",
        "#ax = fig.add_subplot(111,projection = '3d')\r\n",
        "#ax.scatter(X_train['days older'],X_train['danceability'],X_train['valence'], c=y_train,s=3)\r\n",
        "#ax.set_xlabel('days older')\r\n",
        "#ax.set_ylabel('danceability')\r\n",
        "#ax.set_zlabel('valence')\r\n",
        "#plt.show()\r\n"
      ],
      "execution_count": 11,
      "outputs": []
    },
    {
      "cell_type": "markdown",
      "metadata": {
        "id": "9neyYsh59Z5O"
      },
      "source": [
        "# **LSVM with different regularization parameter**"
      ]
    },
    {
      "cell_type": "code",
      "metadata": {
        "id": "zH1-nOnPzJvv"
      },
      "source": [
        "from sklearn.svm import LinearSVC\r\n",
        "from sklearn.preprocessing import MinMaxScaler\r\n",
        "\r\n",
        "#to normalize the data\r\n",
        "scaler = MinMaxScaler()\r\n",
        "X_train_scaled = scaler.fit_transform(X_train)\r\n",
        "X_test_scaled = scaler.transform(X_test)\r\n"
      ],
      "execution_count": 12,
      "outputs": []
    },
    {
      "cell_type": "markdown",
      "metadata": {
        "id": "pR_1zVyV93ON"
      },
      "source": [
        "# **Kernelized SVM  with diff kernels,gamma parameters**"
      ]
    },
    {
      "cell_type": "code",
      "metadata": {
        "id": "_kJ4uxyT90Dc",
        "outputId": "ca6d8ba6-bbbe-47d4-f7d3-ea9159090617",
        "colab": {
          "base_uri": "https://localhost:8080/"
        }
      },
      "source": [
        "# Build an SVC (Support Vector Classification) model using linear regression\r\n",
        "from sklearn import svm\r\n",
        "linear = svm.SVC(kernel='linear', C=15).fit(X_train_scaled, y_train)\r\n",
        "poly = svm.SVC(kernel='poly', degree=4, C=15).fit(X_train_scaled, y_train)\r\n",
        "rbf = svm.SVC(kernel='rbf', gamma=1, C=15).fit(X_train_scaled, y_train)\r\n",
        "\r\n",
        "print('Accuracy (linear Kernel) on test dataset: ', \"%.2f\" % (linear.score(X_test_scaled,y_test)*100))\r\n",
        "print('Accuracy (linear Kernel) on train dataset: ', \"%.2f\" % (linear.score(X_train_scaled,y_train)*100))\r\n",
        "\r\n",
        "print('\\nAccuracy (Polynomial Kernel) on test dataset: ', \"%.2f\" % (poly.score(X_test_scaled,y_test)*100))\r\n",
        "print('Accuracy (Polynomial Kernel) on train dataset: ', \"%.2f\" % (poly.score(X_train_scaled,y_train)*100))\r\n",
        "\r\n",
        "print('\\nAccuracy (RBF Kernel) on test dataset: ', \"%.2f\" % (rbf.score(X_test_scaled,y_test)*100))\r\n",
        "print('Accuracy (RBF Kernel) on train dataset: ', \"%.2f\" % (rbf.score(X_train_scaled,y_train)*100))\r\n"
      ],
      "execution_count": 14,
      "outputs": [
        {
          "output_type": "stream",
          "text": [
            "/usr/local/lib/python3.7/dist-packages/sklearn/utils/validation.py:760: DataConversionWarning: A column-vector y was passed when a 1d array was expected. Please change the shape of y to (n_samples, ), for example using ravel().\n",
            "  y = column_or_1d(y, warn=True)\n",
            "/usr/local/lib/python3.7/dist-packages/sklearn/utils/validation.py:760: DataConversionWarning: A column-vector y was passed when a 1d array was expected. Please change the shape of y to (n_samples, ), for example using ravel().\n",
            "  y = column_or_1d(y, warn=True)\n",
            "/usr/local/lib/python3.7/dist-packages/sklearn/utils/validation.py:760: DataConversionWarning: A column-vector y was passed when a 1d array was expected. Please change the shape of y to (n_samples, ), for example using ravel().\n",
            "  y = column_or_1d(y, warn=True)\n"
          ],
          "name": "stderr"
        },
        {
          "output_type": "stream",
          "text": [
            "Accuracy (linear Kernel) on test dataset:  54.74\n",
            "Accuracy (linear Kernel) on train dataset:  54.66\n",
            "\n",
            "Accuracy (Polynomial Kernel) on test dataset:  61.20\n",
            "Accuracy (Polynomial Kernel) on train dataset:  65.88\n",
            "\n",
            "Accuracy (RBF Kernel) on test dataset:  61.98\n",
            "Accuracy (RBF Kernel) on train dataset:  64.19\n"
          ],
          "name": "stdout"
        }
      ]
    },
    {
      "cell_type": "code",
      "metadata": {
        "id": "x810QdPsbiiM"
      },
      "source": [
        ""
      ],
      "execution_count": null,
      "outputs": []
    },
    {
      "cell_type": "code",
      "metadata": {
        "id": "DVxgPnseewUJ"
      },
      "source": [
        ""
      ],
      "execution_count": null,
      "outputs": []
    },
    {
      "cell_type": "code",
      "metadata": {
        "id": "TL90nB-ibpYa"
      },
      "source": [
        ""
      ],
      "execution_count": null,
      "outputs": []
    },
    {
      "cell_type": "code",
      "metadata": {
        "id": "5Dla-fjybx7T"
      },
      "source": [
        ""
      ],
      "execution_count": null,
      "outputs": []
    },
    {
      "cell_type": "code",
      "metadata": {
        "id": "B5v6jBVgarOf"
      },
      "source": [
        ""
      ],
      "execution_count": null,
      "outputs": []
    }
  ]
}