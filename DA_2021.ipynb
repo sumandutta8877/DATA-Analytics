{
  "nbformat": 4,
  "nbformat_minor": 0,
  "metadata": {
    "accelerator": "GPU",
    "colab": {
      "name": "DA_2021.ipynb",
      "provenance": [],
      "toc_visible": true,
      "include_colab_link": true
    },
    "kernelspec": {
      "display_name": "Python 3",
      "language": "python",
      "name": "python3"
    },
    "language_info": {
      "codemirror_mode": {
        "name": "ipython",
        "version": 3
      },
      "file_extension": ".py",
      "mimetype": "text/x-python",
      "name": "python",
      "nbconvert_exporter": "python",
      "pygments_lexer": "ipython3",
      "version": "3.9.1"
    }
  },
  "cells": [
    {
      "cell_type": "markdown",
      "metadata": {
        "id": "view-in-github",
        "colab_type": "text"
      },
      "source": [
        "<a href=\"https://colab.research.google.com/github/sumandutta8877/DATA-Analytics/blob/suman/DA_2021.ipynb\" target=\"_parent\"><img src=\"https://colab.research.google.com/assets/colab-badge.svg\" alt=\"Open In Colab\"/></a>"
      ]
    },
    {
      "cell_type": "markdown",
      "metadata": {
        "id": "qLn3Az1zbj0-"
      },
      "source": [
        "# Import Data from GitHub"
      ]
    },
    {
      "cell_type": "code",
      "metadata": {
        "id": "Fq6CWy11WRco",
        "colab": {
          "base_uri": "https://localhost:8080/"
        },
        "outputId": "8ebb4be1-3b41-4503-d53a-f99547d8f50d"
      },
      "source": [
        "!git clone 'https://github.com/sumandutta8877/Data_DA.git'    # Run this Line for only one time"
      ],
      "execution_count": 131,
      "outputs": [
        {
          "output_type": "stream",
          "text": [
            "fatal: destination path 'Data_DA' already exists and is not an empty directory.\n"
          ],
          "name": "stdout"
        }
      ]
    },
    {
      "cell_type": "code",
      "metadata": {
        "id": "4O_de6VwCV4O"
      },
      "source": [
        "import pandas as pd\r\n",
        "import numpy as np\r\n",
        "df_train = pd.read_csv('/content/Data_DA/Data/Train_data.csv')\r\n",
        "df_test = pd.read_csv('/content/Data_DA/Data/Test_data.csv')\r\n",
        "df_sample = pd.read_csv('/content/Data_DA/Data/Sample_submission.csv')\r\n",
        "#print(df_train.head)\r\n",
        "#print(df_test.head)\r\n",
        "#print(df_sample.head)\r\n",
        "df1 = df_train            # df1 is the training dataframe\r\n",
        "df2 = df_test             # df2 is the test dataframe\r\n",
        "ID = df_test['id'].to_numpy()\r\n",
        "df_id = pd.DataFrame(ID, columns = ['id'])\r\n",
        "df_id.to_csv(r'/content/Data_DA/Data/Sample_output.csv',index=False)"
      ],
      "execution_count": 141,
      "outputs": []
    },
    {
      "cell_type": "markdown",
      "metadata": {
        "id": "piFJy64ybm26"
      },
      "source": [
        "# Start Processing"
      ]
    },
    {
      "cell_type": "code",
      "metadata": {
        "colab": {
          "base_uri": "https://localhost:8080/"
        },
        "id": "uKKWFwDYdcAh",
        "outputId": "6b9cfab0-ccdf-4b66-d4a2-e4d7d31a2aaf"
      },
      "source": [
        "df1['mode'] = df1['mode'].apply(lambda x: 2 if x == 'Major' else 1)\r\n",
        "df1['explicit'] = df1['explicit'].apply(lambda x: 0.2 if x == 'No' else 1.2)\r\n",
        "df1['id'] = 1\r\n",
        "df2['mode'] = df2['mode'].apply(lambda x: 2 if x == 'Major' else 1)\r\n",
        "df2['explicit'] = df2['explicit'].apply(lambda x: 0.2 if x == 'No' else 1.2)\r\n",
        "df2['id'] = 1\r\n",
        "df1.loc[(df1['popularity'] == 'very low'),'ratings'] = 1\r\n",
        "df1.loc[(df1['popularity'] == 'low'),'ratings'] = 2\r\n",
        "df1.loc[(df1['popularity'] == 'average'),'ratings'] = 3\r\n",
        "df1.loc[(df1['popularity'] == 'high'),'ratings'] = 4\r\n",
        "df1.loc[(df1['popularity'] == 'very high'),'ratings'] = 5\r\n",
        "M_vt = df1['ratings'].to_numpy()\r\n",
        "del df1['ratings']\r\n",
        "del df1['popularity']\r\n",
        "del df1['year']\r\n",
        "del df2['year']\r\n",
        "df = df1['id']\r\n",
        "df['temp1'] = df1['release_date'].str[0:2].astype(int)\r\n",
        "df['temp2'] = df1['release_date'].str[3:5].astype(int)\r\n",
        "df['temp3'] = df1['release_date'].str[6:10].astype(int)\r\n",
        "df1['loudness'] = -1.0*df1['loudness']\r\n",
        "df1['release_date'] = 737300 - (df['temp1']+30.45*df['temp2']+365*df['temp3'])  # number of days old from today\r\n",
        "df = df2['id']\r\n",
        "df['temp1'] = df2['release_date'].str[0:2].astype(int)\r\n",
        "df['temp2'] = df2['release_date'].str[3:5].astype(int)\r\n",
        "df['temp3'] = df2['release_date'].str[6:10].astype(int)\r\n",
        "df2['loudness'] = -1.0*df2['loudness']\r\n",
        "df2['release_date'] = 737300 - (df['temp1']+30.45*df['temp2']+365*df['temp3'])  # number of days old from today"
      ],
      "execution_count": 142,
      "outputs": [
        {
          "output_type": "stream",
          "text": [
            "/usr/local/lib/python3.7/dist-packages/ipykernel_launcher.py:18: SettingWithCopyWarning: \n",
            "A value is trying to be set on a copy of a slice from a DataFrame\n",
            "\n",
            "See the caveats in the documentation: https://pandas.pydata.org/pandas-docs/stable/user_guide/indexing.html#returning-a-view-versus-a-copy\n",
            "/usr/local/lib/python3.7/dist-packages/ipykernel_launcher.py:24: SettingWithCopyWarning: \n",
            "A value is trying to be set on a copy of a slice from a DataFrame\n",
            "\n",
            "See the caveats in the documentation: https://pandas.pydata.org/pandas-docs/stable/user_guide/indexing.html#returning-a-view-versus-a-copy\n"
          ],
          "name": "stderr"
        }
      ]
    },
    {
      "cell_type": "code",
      "metadata": {
        "colab": {
          "base_uri": "https://localhost:8080/"
        },
        "id": "tokPZK8ee2W4",
        "outputId": "56fe9ee3-f84f-4c27-c74a-ab3e39c532c8"
      },
      "source": [
        "M_tr = df1.to_numpy()\r\n",
        "M_ts = df2.to_numpy()\r\n",
        "W = numpy.matmul((numpy.matmul(np.linalg.inv(numpy.matmul(np.transpose(M_tr),M_tr)),np.transpose(M_tr))),M_vt)\r\n",
        "Y_output = numpy.matmul(M_ts,W)\r\n",
        "for i in range(len(Y_output)):\r\n",
        "  if Y_output[i]<=1.0:\r\n",
        "    Y_output[i]=1.0\r\n",
        "  elif Y_output[i]<=2.0:\r\n",
        "    Y_output[i]=2.0\r\n",
        "  elif Y_output[i]<=3.0:\r\n",
        "    Y_output[i]=3.0\r\n",
        "  elif Y_output[i]<=4.0:\r\n",
        "    Y_output[i]=4.0\r\n",
        "  else:\r\n",
        "    Y_output[i]=5.0\r\n",
        "print(Y_output)\r\n",
        "df = pd.DataFrame(Y_output, columns = ['ratings'])\r\n",
        "df.loc[(df['ratings'] == 1.0),'popularity'] = 'very low'\r\n",
        "df.loc[(df['ratings'] == 2.0),'popularity'] = 'low'\r\n",
        "df.loc[(df['ratings'] == 3.0),'popularity'] = 'average'\r\n",
        "df.loc[(df['ratings'] == 4.0),'popularity'] = 'high'\r\n",
        "df.loc[(df['ratings'] == 5.0),'popularity'] = 'very high'\r\n",
        "del df['ratings']"
      ],
      "execution_count": 143,
      "outputs": [
        {
          "output_type": "stream",
          "text": [
            "[4. 3. 3. ... 3. 1. 4.]\n"
          ],
          "name": "stdout"
        }
      ]
    },
    {
      "cell_type": "code",
      "metadata": {
        "id": "BhLBbPxeRsUu"
      },
      "source": [
        "df_id=pd.read_csv(r'/content/Data_DA/Data/Sample_output.csv')\r\n",
        "data = [df_id['id'],df['popularity']]\r\n",
        "headers = ['id','popularity']\r\n",
        "df_output = pd.concat(data, axis=1, keys=headers)\r\n",
        "df_output.to_csv(r'/content/Data_DA/Data/Sample_output.csv',index=False)"
      ],
      "execution_count": 144,
      "outputs": []
    }
  ]
}