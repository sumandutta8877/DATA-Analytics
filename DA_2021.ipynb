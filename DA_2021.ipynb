{
  "nbformat": 4,
  "nbformat_minor": 0,
  "metadata": {
    "colab": {
      "name": "DA_2021.ipynb",
      "provenance": [],
      "include_colab_link": true
    },
    "kernelspec": {
      "display_name": "Python 3",
      "language": "python",
      "name": "python3"
    },
    "language_info": {
      "codemirror_mode": {
        "name": "ipython",
        "version": 3
      },
      "file_extension": ".py",
      "mimetype": "text/x-python",
      "name": "python",
      "nbconvert_exporter": "python",
      "pygments_lexer": "ipython3",
      "version": "3.9.1"
    },
    "accelerator": "GPU"
  },
  "cells": [
    {
      "cell_type": "markdown",
      "metadata": {
        "id": "view-in-github",
        "colab_type": "text"
      },
      "source": [
        "<a href=\"https://colab.research.google.com/github/sumandutta8877/DATA-Analytics/blob/Jeel/DA_2021.ipynb\" target=\"_parent\"><img src=\"https://colab.research.google.com/assets/colab-badge.svg\" alt=\"Open In Colab\"/></a>"
      ]
    },
    {
      "cell_type": "markdown",
      "metadata": {
        "id": "qLn3Az1zbj0-"
      },
      "source": [
        "# Import Data from GitHub"
      ]
    },
    {
      "cell_type": "code",
      "metadata": {
        "id": "Fq6CWy11WRco",
        "colab": {
          "base_uri": "https://localhost:8080/"
        },
        "outputId": "a7de667f-bda6-4d63-e808-0eb68d601654"
      },
      "source": [
        "!git clone 'https://github.com/sumandutta8877/Data_DA.git'    # Run this Line for only one time"
      ],
      "execution_count": 1,
      "outputs": [
        {
          "output_type": "stream",
          "text": [
            "Cloning into 'Data_DA'...\n",
            "remote: Enumerating objects: 8, done.\u001b[K\n",
            "remote: Counting objects: 100% (8/8), done.\u001b[K\n",
            "remote: Compressing objects: 100% (7/7), done.\u001b[K\n",
            "remote: Total 8 (delta 0), reused 0 (delta 0), pack-reused 0\u001b[K\n",
            "Unpacking objects: 100% (8/8), done.\n"
          ],
          "name": "stdout"
        }
      ]
    },
    {
      "cell_type": "code",
      "metadata": {
        "id": "4O_de6VwCV4O"
      },
      "source": [
        "import pandas as pd\r\n",
        "df_train = pd.read_csv('/content/Data_DA/Data/Train_data.csv')\r\n",
        "df_test = pd.read_csv('/content/Data_DA/Data/Test_data.csv')\r\n",
        "df_sample = pd.read_csv('/content/Data_DA/Data/Sample_submission.csv')\r\n",
        "\r\n",
        "df1 = df_train            # df1 is the training dataframe\r\n",
        "df2 = df_test             # df2 is the test dataframe"
      ],
      "execution_count": 2,
      "outputs": []
    },
    {
      "cell_type": "markdown",
      "metadata": {
        "id": "piFJy64ybm26"
      },
      "source": [
        "# Start Processing"
      ]
    },
    {
      "cell_type": "code",
      "metadata": {
        "id": "PdtmJPaCEFlr"
      },
      "source": [
        "import matplotlib.pyplot as plt\r\n",
        "import numpy as np\r\n",
        "from sklearn.model_selection import train_test_split\r\n",
        "from matplotlib import cm\r\n",
        "from mpl_toolkits.mplot3d import Axes3D\r\n",
        "from sklearn.svm import LinearSVC\r\n",
        "from sklearn.metrics import accuracy_score\r\n",
        "from sklearn.metrics import f1_score\r\n",
        "from sklearn import svm\r\n",
        "from sklearn.preprocessing import MinMaxScaler\r\n",
        "from sklearn.model_selection import GridSearchCV"
      ],
      "execution_count": 3,
      "outputs": []
    },
    {
      "cell_type": "code",
      "metadata": {
        "id": "qRjW6THYGUIA"
      },
      "source": [
        "labels = dict(zip([1,2,3,4,5],df1['popularity'].unique()))\r\n",
        "df1.loc[(df1['popularity']=='very low'), 'popularity level'] = 1\r\n",
        "df1.loc[(df1['popularity']=='low'), 'popularity level'] = 2\r\n",
        "df1.loc[(df1['popularity']=='average'), 'popularity level'] = 3\r\n",
        "df1.loc[(df1['popularity']=='high'), 'popularity level'] = 4\r\n",
        "df1.loc[(df1['popularity']=='very high'), 'popularity level'] = 5"
      ],
      "execution_count": 4,
      "outputs": []
    },
    {
      "cell_type": "markdown",
      "metadata": {
        "id": "ukUjeKmhKGVH"
      },
      "source": [
        "**Pre Processing**"
      ]
    },
    {
      "cell_type": "code",
      "metadata": {
        "id": "loWT5pyEKQfl"
      },
      "source": [
        "import datetime as dt\r\n",
        "import time as tm\r\n",
        "today = dt.date.today()\r\n",
        "\r\n",
        "# On train data set\r\n",
        "df1['loudness'] = (-1)*df1['loudness']\r\n",
        "\r\n",
        "df1['mode'] = df1['mode'].apply(lambda x: 1 if x == 'Major' else 0)\r\n",
        "df1['explicit'] = df1['explicit'].apply(lambda x: 1 if x == 'Yes' else 0)\r\n",
        "\r\n",
        "df1['release_date'] = pd.to_datetime(df1['release_date'])\r\n",
        "df1['Today']=today\r\n",
        "df1['Today']=pd.to_datetime(df1['Today'])\r\n",
        "df1['days older']= (df1['Today']-df1['release_date']).dt.days\r\n",
        "\r\n",
        "\r\n",
        "\r\n",
        "# On test data set\r\n",
        "df2['loudness'] = (-1)*df2['loudness']\r\n",
        "\r\n",
        "df2['mode'] = df2['mode'].apply(lambda x: 1 if x == 'Major' else 0)\r\n",
        "df2['explicit'] = df2['explicit'].apply(lambda x: 1 if x == 'Yes' else 0)\r\n",
        "\r\n",
        "df2['release_date'] = pd.to_datetime(df2['release_date'])\r\n",
        "df2['Today']=today\r\n",
        "df2['Today']=pd.to_datetime(df2['Today'])\r\n",
        "df2['days older']= (df2['Today']-df2['release_date']).dt.days\r\n"
      ],
      "execution_count": 5,
      "outputs": []
    },
    {
      "cell_type": "code",
      "metadata": {
        "colab": {
          "base_uri": "https://localhost:8080/",
          "height": 326
        },
        "id": "oQJoIj8smj1Y",
        "outputId": "96aed405-896c-432f-9e3c-4ff45e2d9424"
      },
      "source": [
        "df1.head()"
      ],
      "execution_count": 6,
      "outputs": [
        {
          "output_type": "execute_result",
          "data": {
            "text/html": [
              "<div>\n",
              "<style scoped>\n",
              "    .dataframe tbody tr th:only-of-type {\n",
              "        vertical-align: middle;\n",
              "    }\n",
              "\n",
              "    .dataframe tbody tr th {\n",
              "        vertical-align: top;\n",
              "    }\n",
              "\n",
              "    .dataframe thead th {\n",
              "        text-align: right;\n",
              "    }\n",
              "</style>\n",
              "<table border=\"1\" class=\"dataframe\">\n",
              "  <thead>\n",
              "    <tr style=\"text-align: right;\">\n",
              "      <th></th>\n",
              "      <th>id</th>\n",
              "      <th>acousticness</th>\n",
              "      <th>danceability</th>\n",
              "      <th>energy</th>\n",
              "      <th>explicit</th>\n",
              "      <th>instrumentalness</th>\n",
              "      <th>key</th>\n",
              "      <th>liveness</th>\n",
              "      <th>loudness</th>\n",
              "      <th>mode</th>\n",
              "      <th>release_date</th>\n",
              "      <th>speechiness</th>\n",
              "      <th>tempo</th>\n",
              "      <th>valence</th>\n",
              "      <th>year</th>\n",
              "      <th>duration-min</th>\n",
              "      <th>popularity</th>\n",
              "      <th>popularity level</th>\n",
              "      <th>Today</th>\n",
              "      <th>days older</th>\n",
              "    </tr>\n",
              "  </thead>\n",
              "  <tbody>\n",
              "    <tr>\n",
              "      <th>0</th>\n",
              "      <td>2015</td>\n",
              "      <td>0.949</td>\n",
              "      <td>0.235</td>\n",
              "      <td>0.0276</td>\n",
              "      <td>0</td>\n",
              "      <td>0.9270</td>\n",
              "      <td>5</td>\n",
              "      <td>0.513</td>\n",
              "      <td>27.398</td>\n",
              "      <td>1</td>\n",
              "      <td>1947-01-01</td>\n",
              "      <td>0.0381</td>\n",
              "      <td>110.838</td>\n",
              "      <td>0.0398</td>\n",
              "      <td>1947</td>\n",
              "      <td>3.0</td>\n",
              "      <td>very low</td>\n",
              "      <td>1.0</td>\n",
              "      <td>2021-03-14</td>\n",
              "      <td>27101</td>\n",
              "    </tr>\n",
              "    <tr>\n",
              "      <th>1</th>\n",
              "      <td>15901</td>\n",
              "      <td>0.855</td>\n",
              "      <td>0.456</td>\n",
              "      <td>0.4850</td>\n",
              "      <td>0</td>\n",
              "      <td>0.0884</td>\n",
              "      <td>4</td>\n",
              "      <td>0.151</td>\n",
              "      <td>10.046</td>\n",
              "      <td>1</td>\n",
              "      <td>2020-11-13</td>\n",
              "      <td>0.0437</td>\n",
              "      <td>152.066</td>\n",
              "      <td>0.8590</td>\n",
              "      <td>2020</td>\n",
              "      <td>2.4</td>\n",
              "      <td>low</td>\n",
              "      <td>2.0</td>\n",
              "      <td>2021-03-14</td>\n",
              "      <td>121</td>\n",
              "    </tr>\n",
              "    <tr>\n",
              "      <th>2</th>\n",
              "      <td>9002</td>\n",
              "      <td>0.827</td>\n",
              "      <td>0.495</td>\n",
              "      <td>0.4990</td>\n",
              "      <td>0</td>\n",
              "      <td>0.0000</td>\n",
              "      <td>0</td>\n",
              "      <td>0.401</td>\n",
              "      <td>8.009</td>\n",
              "      <td>0</td>\n",
              "      <td>1950-01-01</td>\n",
              "      <td>0.0474</td>\n",
              "      <td>108.004</td>\n",
              "      <td>0.7090</td>\n",
              "      <td>1950</td>\n",
              "      <td>2.6</td>\n",
              "      <td>very low</td>\n",
              "      <td>1.0</td>\n",
              "      <td>2021-03-14</td>\n",
              "      <td>26005</td>\n",
              "    </tr>\n",
              "    <tr>\n",
              "      <th>3</th>\n",
              "      <td>6734</td>\n",
              "      <td>0.654</td>\n",
              "      <td>0.643</td>\n",
              "      <td>0.4690</td>\n",
              "      <td>0</td>\n",
              "      <td>0.1080</td>\n",
              "      <td>7</td>\n",
              "      <td>0.218</td>\n",
              "      <td>15.917</td>\n",
              "      <td>1</td>\n",
              "      <td>1974-04-30</td>\n",
              "      <td>0.0368</td>\n",
              "      <td>83.636</td>\n",
              "      <td>0.9640</td>\n",
              "      <td>1974</td>\n",
              "      <td>2.4</td>\n",
              "      <td>low</td>\n",
              "      <td>2.0</td>\n",
              "      <td>2021-03-14</td>\n",
              "      <td>17120</td>\n",
              "    </tr>\n",
              "    <tr>\n",
              "      <th>4</th>\n",
              "      <td>15563</td>\n",
              "      <td>0.738</td>\n",
              "      <td>0.705</td>\n",
              "      <td>0.3110</td>\n",
              "      <td>0</td>\n",
              "      <td>0.0000</td>\n",
              "      <td>5</td>\n",
              "      <td>0.322</td>\n",
              "      <td>12.344</td>\n",
              "      <td>1</td>\n",
              "      <td>1973-01-01</td>\n",
              "      <td>0.0488</td>\n",
              "      <td>117.260</td>\n",
              "      <td>0.7850</td>\n",
              "      <td>1973</td>\n",
              "      <td>3.4</td>\n",
              "      <td>average</td>\n",
              "      <td>3.0</td>\n",
              "      <td>2021-03-14</td>\n",
              "      <td>17604</td>\n",
              "    </tr>\n",
              "  </tbody>\n",
              "</table>\n",
              "</div>"
            ],
            "text/plain": [
              "      id  acousticness  danceability  ...  popularity level      Today  days older\n",
              "0   2015         0.949         0.235  ...               1.0 2021-03-14       27101\n",
              "1  15901         0.855         0.456  ...               2.0 2021-03-14         121\n",
              "2   9002         0.827         0.495  ...               1.0 2021-03-14       26005\n",
              "3   6734         0.654         0.643  ...               2.0 2021-03-14       17120\n",
              "4  15563         0.738         0.705  ...               3.0 2021-03-14       17604\n",
              "\n",
              "[5 rows x 20 columns]"
            ]
          },
          "metadata": {
            "tags": []
          },
          "execution_count": 6
        }
      ]
    },
    {
      "cell_type": "code",
      "metadata": {
        "id": "2ID8p5pT5ARi",
        "colab": {
          "base_uri": "https://localhost:8080/"
        },
        "outputId": "6bf64144-3495-496d-804f-55ca34cdc93a"
      },
      "source": [
        "df1.columns"
      ],
      "execution_count": 7,
      "outputs": [
        {
          "output_type": "execute_result",
          "data": {
            "text/plain": [
              "Index(['id', 'acousticness', 'danceability', 'energy', 'explicit',\n",
              "       'instrumentalness', 'key', 'liveness', 'loudness', 'mode',\n",
              "       'release_date', 'speechiness', 'tempo', 'valence', 'year',\n",
              "       'duration-min', 'popularity', 'popularity level', 'Today',\n",
              "       'days older'],\n",
              "      dtype='object')"
            ]
          },
          "metadata": {
            "tags": []
          },
          "execution_count": 7
        }
      ]
    },
    {
      "cell_type": "code",
      "metadata": {
        "id": "3qo_VLCB4v9y",
        "colab": {
          "base_uri": "https://localhost:8080/",
          "height": 219
        },
        "outputId": "8e805f4d-c0eb-4fa2-8009-a1fe704d8c52"
      },
      "source": [
        "dfx = df1.drop(['id','release_date','popularity','popularity level', 'Today'],axis=1)\r\n",
        "dfx.head()"
      ],
      "execution_count": 8,
      "outputs": [
        {
          "output_type": "execute_result",
          "data": {
            "text/html": [
              "<div>\n",
              "<style scoped>\n",
              "    .dataframe tbody tr th:only-of-type {\n",
              "        vertical-align: middle;\n",
              "    }\n",
              "\n",
              "    .dataframe tbody tr th {\n",
              "        vertical-align: top;\n",
              "    }\n",
              "\n",
              "    .dataframe thead th {\n",
              "        text-align: right;\n",
              "    }\n",
              "</style>\n",
              "<table border=\"1\" class=\"dataframe\">\n",
              "  <thead>\n",
              "    <tr style=\"text-align: right;\">\n",
              "      <th></th>\n",
              "      <th>acousticness</th>\n",
              "      <th>danceability</th>\n",
              "      <th>energy</th>\n",
              "      <th>explicit</th>\n",
              "      <th>instrumentalness</th>\n",
              "      <th>key</th>\n",
              "      <th>liveness</th>\n",
              "      <th>loudness</th>\n",
              "      <th>mode</th>\n",
              "      <th>speechiness</th>\n",
              "      <th>tempo</th>\n",
              "      <th>valence</th>\n",
              "      <th>year</th>\n",
              "      <th>duration-min</th>\n",
              "      <th>days older</th>\n",
              "    </tr>\n",
              "  </thead>\n",
              "  <tbody>\n",
              "    <tr>\n",
              "      <th>0</th>\n",
              "      <td>0.949</td>\n",
              "      <td>0.235</td>\n",
              "      <td>0.0276</td>\n",
              "      <td>0</td>\n",
              "      <td>0.9270</td>\n",
              "      <td>5</td>\n",
              "      <td>0.513</td>\n",
              "      <td>27.398</td>\n",
              "      <td>1</td>\n",
              "      <td>0.0381</td>\n",
              "      <td>110.838</td>\n",
              "      <td>0.0398</td>\n",
              "      <td>1947</td>\n",
              "      <td>3.0</td>\n",
              "      <td>27101</td>\n",
              "    </tr>\n",
              "    <tr>\n",
              "      <th>1</th>\n",
              "      <td>0.855</td>\n",
              "      <td>0.456</td>\n",
              "      <td>0.4850</td>\n",
              "      <td>0</td>\n",
              "      <td>0.0884</td>\n",
              "      <td>4</td>\n",
              "      <td>0.151</td>\n",
              "      <td>10.046</td>\n",
              "      <td>1</td>\n",
              "      <td>0.0437</td>\n",
              "      <td>152.066</td>\n",
              "      <td>0.8590</td>\n",
              "      <td>2020</td>\n",
              "      <td>2.4</td>\n",
              "      <td>121</td>\n",
              "    </tr>\n",
              "    <tr>\n",
              "      <th>2</th>\n",
              "      <td>0.827</td>\n",
              "      <td>0.495</td>\n",
              "      <td>0.4990</td>\n",
              "      <td>0</td>\n",
              "      <td>0.0000</td>\n",
              "      <td>0</td>\n",
              "      <td>0.401</td>\n",
              "      <td>8.009</td>\n",
              "      <td>0</td>\n",
              "      <td>0.0474</td>\n",
              "      <td>108.004</td>\n",
              "      <td>0.7090</td>\n",
              "      <td>1950</td>\n",
              "      <td>2.6</td>\n",
              "      <td>26005</td>\n",
              "    </tr>\n",
              "    <tr>\n",
              "      <th>3</th>\n",
              "      <td>0.654</td>\n",
              "      <td>0.643</td>\n",
              "      <td>0.4690</td>\n",
              "      <td>0</td>\n",
              "      <td>0.1080</td>\n",
              "      <td>7</td>\n",
              "      <td>0.218</td>\n",
              "      <td>15.917</td>\n",
              "      <td>1</td>\n",
              "      <td>0.0368</td>\n",
              "      <td>83.636</td>\n",
              "      <td>0.9640</td>\n",
              "      <td>1974</td>\n",
              "      <td>2.4</td>\n",
              "      <td>17120</td>\n",
              "    </tr>\n",
              "    <tr>\n",
              "      <th>4</th>\n",
              "      <td>0.738</td>\n",
              "      <td>0.705</td>\n",
              "      <td>0.3110</td>\n",
              "      <td>0</td>\n",
              "      <td>0.0000</td>\n",
              "      <td>5</td>\n",
              "      <td>0.322</td>\n",
              "      <td>12.344</td>\n",
              "      <td>1</td>\n",
              "      <td>0.0488</td>\n",
              "      <td>117.260</td>\n",
              "      <td>0.7850</td>\n",
              "      <td>1973</td>\n",
              "      <td>3.4</td>\n",
              "      <td>17604</td>\n",
              "    </tr>\n",
              "  </tbody>\n",
              "</table>\n",
              "</div>"
            ],
            "text/plain": [
              "   acousticness  danceability  energy  ...  year  duration-min  days older\n",
              "0         0.949         0.235  0.0276  ...  1947           3.0       27101\n",
              "1         0.855         0.456  0.4850  ...  2020           2.4         121\n",
              "2         0.827         0.495  0.4990  ...  1950           2.6       26005\n",
              "3         0.654         0.643  0.4690  ...  1974           2.4       17120\n",
              "4         0.738         0.705  0.3110  ...  1973           3.4       17604\n",
              "\n",
              "[5 rows x 15 columns]"
            ]
          },
          "metadata": {
            "tags": []
          },
          "execution_count": 8
        }
      ]
    },
    {
      "cell_type": "code",
      "metadata": {
        "id": "uSOFG__qZH1D"
      },
      "source": [
        "#features1 = ['days older', 'danceability', 'valence','acousticness','energy','key', 'liveness', 'loudness', 'speechiness','year']\r\n",
        "# list_extra = ['acousticness','energy','key', 'liveness', 'loudness', 'speechiness']\r\n",
        "\r\n",
        "X = dfx.values\r\n",
        "y = df1['popularity level'].values\r\n",
        "\r\n",
        "#to normalize the data\r\n",
        "scaler = MinMaxScaler()\r\n",
        "X1 = scaler.fit_transform(X)"
      ],
      "execution_count": 9,
      "outputs": []
    },
    {
      "cell_type": "code",
      "metadata": {
        "id": "djUJe3TDC-bv",
        "colab": {
          "base_uri": "https://localhost:8080/"
        },
        "outputId": "7cfaea64-fb8e-4257-dcbb-fe61c0188f31"
      },
      "source": [
        "type(X),type(y),X.shape,y.shape"
      ],
      "execution_count": 10,
      "outputs": [
        {
          "output_type": "execute_result",
          "data": {
            "text/plain": [
              "(numpy.ndarray, numpy.ndarray, (12227, 15), (12227,))"
            ]
          },
          "metadata": {
            "tags": []
          },
          "execution_count": 10
        }
      ]
    },
    {
      "cell_type": "code",
      "metadata": {
        "id": "9zbcS9M4Cybt",
        "colab": {
          "base_uri": "https://localhost:8080/"
        },
        "outputId": "bcf4e6e7-7b97-48f0-abfa-7c0986ee5f1a"
      },
      "source": [
        "X1"
      ],
      "execution_count": 11,
      "outputs": [
        {
          "output_type": "execute_result",
          "data": {
            "text/plain": [
              "array([[0.9528112 , 0.23979592, 0.02758026, ..., 0.26732673, 0.03856749,\n",
              "        0.73485684],\n",
              "       [0.85843359, 0.46530612, 0.48498955, ..., 0.99009901, 0.03030303,\n",
              "        0.00949052],\n",
              "       [0.83032111, 0.50510204, 0.49898983, ..., 0.2970297 , 0.03305785,\n",
              "        0.70539051],\n",
              "       ...,\n",
              "       [0.32931657, 0.5622449 , 0.56399115, ..., 0.63366337, 0.03168044,\n",
              "        0.37152843],\n",
              "       [0.12248904, 0.06204082, 0.93899876, ..., 0.96039604, 0.0399449 ,\n",
              "        0.04091948],\n",
              "       [0.03815161, 0.39693878, 0.76799529, ..., 0.99009901, 0.0399449 ,\n",
              "        0.01250168]])"
            ]
          },
          "metadata": {
            "tags": []
          },
          "execution_count": 11
        }
      ]
    },
    {
      "cell_type": "code",
      "metadata": {
        "id": "tokPZK8ee2W4"
      },
      "source": [
        "#cmap = cm.get_cmap('gnuplot')\r\n",
        "#scatter = pd.plotting.scatter_matrix(X_train,c=y_train,s=40,hist_kwds={'bins':15},figsize=(12,12),cmap=cmap)"
      ],
      "execution_count": null,
      "outputs": []
    },
    {
      "cell_type": "code",
      "metadata": {
        "id": "MFWJoF7JOpNa"
      },
      "source": [
        "#fig = plt.figure(figsize=(10,10))\r\n",
        "#ax = fig.add_subplot(111,projection = '3d')\r\n",
        "#ax.scatter(X_train['days older'],X_train['danceability'],X_train['valence'], c=y_train,s=3)\r\n",
        "#ax.set_xlabel('days older')\r\n",
        "#ax.set_ylabel('danceability')\r\n",
        "#ax.set_zlabel('valence')\r\n",
        "#plt.show()\r\n"
      ],
      "execution_count": null,
      "outputs": []
    },
    {
      "cell_type": "markdown",
      "metadata": {
        "id": "LXFmTgjCXIWd"
      },
      "source": [
        "# **RandomForest classifier**"
      ]
    },
    {
      "cell_type": "code",
      "metadata": {
        "id": "FgjD4XmlXGkY",
        "outputId": "9fb96e6d-3751-4de3-a268-2090a9d53433",
        "colab": {
          "base_uri": "https://localhost:8080/"
        }
      },
      "source": [
        "from sklearn import ensemble\r\n",
        "from sklearn import metrics\r\n",
        "from sklearn import model_selection\r\n",
        "\r\n",
        "classifier = ensemble.RandomForestClassifier(n_jobs=-1)\r\n",
        "param_grid = {\r\n",
        "    \"n_estimators\": [100, 200, 300, 400],\r\n",
        "    \"max_depth\": [1, 3, 5, 7],\r\n",
        "    \"criterion\":['gini','entropy'],\r\n",
        "}\r\n",
        "model = model_selection.GridSearchCV(\r\n",
        "    estimator = classifier,\r\n",
        "    param_grid=param_grid,\r\n",
        "    scoring=\"accuracy\",\r\n",
        "    verbose=10,\r\n",
        "    n_jobs=1,\r\n",
        "    cv=5,\r\n",
        ")\r\n",
        "model.fit(X1,y)"
      ],
      "execution_count": 12,
      "outputs": [
        {
          "output_type": "stream",
          "text": [
            "Fitting 5 folds for each of 32 candidates, totalling 160 fits\n",
            "[CV] criterion=gini, max_depth=1, n_estimators=100 ...................\n"
          ],
          "name": "stdout"
        },
        {
          "output_type": "stream",
          "text": [
            "[Parallel(n_jobs=1)]: Using backend SequentialBackend with 1 concurrent workers.\n"
          ],
          "name": "stderr"
        },
        {
          "output_type": "stream",
          "text": [
            "[CV]  criterion=gini, max_depth=1, n_estimators=100, score=0.465, total=   1.3s\n",
            "[CV] criterion=gini, max_depth=1, n_estimators=100 ...................\n"
          ],
          "name": "stdout"
        },
        {
          "output_type": "stream",
          "text": [
            "[Parallel(n_jobs=1)]: Done   1 out of   1 | elapsed:    1.3s remaining:    0.0s\n"
          ],
          "name": "stderr"
        },
        {
          "output_type": "stream",
          "text": [
            "[CV]  criterion=gini, max_depth=1, n_estimators=100, score=0.468, total=   0.4s\n",
            "[CV] criterion=gini, max_depth=1, n_estimators=100 ...................\n"
          ],
          "name": "stdout"
        },
        {
          "output_type": "stream",
          "text": [
            "[Parallel(n_jobs=1)]: Done   2 out of   2 | elapsed:    1.7s remaining:    0.0s\n"
          ],
          "name": "stderr"
        },
        {
          "output_type": "stream",
          "text": [
            "[CV]  criterion=gini, max_depth=1, n_estimators=100, score=0.477, total=   0.5s\n",
            "[CV] criterion=gini, max_depth=1, n_estimators=100 ...................\n"
          ],
          "name": "stdout"
        },
        {
          "output_type": "stream",
          "text": [
            "[Parallel(n_jobs=1)]: Done   3 out of   3 | elapsed:    2.2s remaining:    0.0s\n"
          ],
          "name": "stderr"
        },
        {
          "output_type": "stream",
          "text": [
            "[CV]  criterion=gini, max_depth=1, n_estimators=100, score=0.458, total=   0.4s\n",
            "[CV] criterion=gini, max_depth=1, n_estimators=100 ...................\n"
          ],
          "name": "stdout"
        },
        {
          "output_type": "stream",
          "text": [
            "[Parallel(n_jobs=1)]: Done   4 out of   4 | elapsed:    2.6s remaining:    0.0s\n"
          ],
          "name": "stderr"
        },
        {
          "output_type": "stream",
          "text": [
            "[CV]  criterion=gini, max_depth=1, n_estimators=100, score=0.448, total=   0.4s\n",
            "[CV] criterion=gini, max_depth=1, n_estimators=200 ...................\n"
          ],
          "name": "stdout"
        },
        {
          "output_type": "stream",
          "text": [
            "[Parallel(n_jobs=1)]: Done   5 out of   5 | elapsed:    3.0s remaining:    0.0s\n"
          ],
          "name": "stderr"
        },
        {
          "output_type": "stream",
          "text": [
            "[CV]  criterion=gini, max_depth=1, n_estimators=200, score=0.468, total=   0.7s\n",
            "[CV] criterion=gini, max_depth=1, n_estimators=200 ...................\n"
          ],
          "name": "stdout"
        },
        {
          "output_type": "stream",
          "text": [
            "[Parallel(n_jobs=1)]: Done   6 out of   6 | elapsed:    3.8s remaining:    0.0s\n"
          ],
          "name": "stderr"
        },
        {
          "output_type": "stream",
          "text": [
            "[CV]  criterion=gini, max_depth=1, n_estimators=200, score=0.464, total=   0.8s\n",
            "[CV] criterion=gini, max_depth=1, n_estimators=200 ...................\n"
          ],
          "name": "stdout"
        },
        {
          "output_type": "stream",
          "text": [
            "[Parallel(n_jobs=1)]: Done   7 out of   7 | elapsed:    4.5s remaining:    0.0s\n"
          ],
          "name": "stderr"
        },
        {
          "output_type": "stream",
          "text": [
            "[CV]  criterion=gini, max_depth=1, n_estimators=200, score=0.482, total=   0.7s\n",
            "[CV] criterion=gini, max_depth=1, n_estimators=200 ...................\n"
          ],
          "name": "stdout"
        },
        {
          "output_type": "stream",
          "text": [
            "[Parallel(n_jobs=1)]: Done   8 out of   8 | elapsed:    5.3s remaining:    0.0s\n"
          ],
          "name": "stderr"
        },
        {
          "output_type": "stream",
          "text": [
            "[CV]  criterion=gini, max_depth=1, n_estimators=200, score=0.474, total=   0.7s\n",
            "[CV] criterion=gini, max_depth=1, n_estimators=200 ...................\n"
          ],
          "name": "stdout"
        },
        {
          "output_type": "stream",
          "text": [
            "[Parallel(n_jobs=1)]: Done   9 out of   9 | elapsed:    6.0s remaining:    0.0s\n"
          ],
          "name": "stderr"
        },
        {
          "output_type": "stream",
          "text": [
            "[CV]  criterion=gini, max_depth=1, n_estimators=200, score=0.473, total=   0.8s\n",
            "[CV] criterion=gini, max_depth=1, n_estimators=300 ...................\n",
            "[CV]  criterion=gini, max_depth=1, n_estimators=300, score=0.473, total=   1.0s\n",
            "[CV] criterion=gini, max_depth=1, n_estimators=300 ...................\n",
            "[CV]  criterion=gini, max_depth=1, n_estimators=300, score=0.471, total=   1.1s\n",
            "[CV] criterion=gini, max_depth=1, n_estimators=300 ...................\n",
            "[CV]  criterion=gini, max_depth=1, n_estimators=300, score=0.483, total=   1.1s\n",
            "[CV] criterion=gini, max_depth=1, n_estimators=300 ...................\n",
            "[CV]  criterion=gini, max_depth=1, n_estimators=300, score=0.465, total=   1.0s\n",
            "[CV] criterion=gini, max_depth=1, n_estimators=300 ...................\n",
            "[CV]  criterion=gini, max_depth=1, n_estimators=300, score=0.466, total=   1.0s\n",
            "[CV] criterion=gini, max_depth=1, n_estimators=400 ...................\n",
            "[CV]  criterion=gini, max_depth=1, n_estimators=400, score=0.467, total=   1.4s\n",
            "[CV] criterion=gini, max_depth=1, n_estimators=400 ...................\n",
            "[CV]  criterion=gini, max_depth=1, n_estimators=400, score=0.471, total=   1.4s\n",
            "[CV] criterion=gini, max_depth=1, n_estimators=400 ...................\n",
            "[CV]  criterion=gini, max_depth=1, n_estimators=400, score=0.477, total=   1.4s\n",
            "[CV] criterion=gini, max_depth=1, n_estimators=400 ...................\n",
            "[CV]  criterion=gini, max_depth=1, n_estimators=400, score=0.463, total=   1.4s\n",
            "[CV] criterion=gini, max_depth=1, n_estimators=400 ...................\n",
            "[CV]  criterion=gini, max_depth=1, n_estimators=400, score=0.479, total=   1.4s\n",
            "[CV] criterion=gini, max_depth=3, n_estimators=100 ...................\n",
            "[CV]  criterion=gini, max_depth=3, n_estimators=100, score=0.558, total=   0.6s\n",
            "[CV] criterion=gini, max_depth=3, n_estimators=100 ...................\n",
            "[CV]  criterion=gini, max_depth=3, n_estimators=100, score=0.567, total=   0.6s\n",
            "[CV] criterion=gini, max_depth=3, n_estimators=100 ...................\n",
            "[CV]  criterion=gini, max_depth=3, n_estimators=100, score=0.580, total=   0.6s\n",
            "[CV] criterion=gini, max_depth=3, n_estimators=100 ...................\n",
            "[CV]  criterion=gini, max_depth=3, n_estimators=100, score=0.575, total=   0.6s\n",
            "[CV] criterion=gini, max_depth=3, n_estimators=100 ...................\n",
            "[CV]  criterion=gini, max_depth=3, n_estimators=100, score=0.570, total=   0.6s\n",
            "[CV] criterion=gini, max_depth=3, n_estimators=200 ...................\n",
            "[CV]  criterion=gini, max_depth=3, n_estimators=200, score=0.567, total=   1.1s\n",
            "[CV] criterion=gini, max_depth=3, n_estimators=200 ...................\n",
            "[CV]  criterion=gini, max_depth=3, n_estimators=200, score=0.572, total=   1.1s\n",
            "[CV] criterion=gini, max_depth=3, n_estimators=200 ...................\n",
            "[CV]  criterion=gini, max_depth=3, n_estimators=200, score=0.573, total=   1.1s\n",
            "[CV] criterion=gini, max_depth=3, n_estimators=200 ...................\n",
            "[CV]  criterion=gini, max_depth=3, n_estimators=200, score=0.579, total=   1.1s\n",
            "[CV] criterion=gini, max_depth=3, n_estimators=200 ...................\n",
            "[CV]  criterion=gini, max_depth=3, n_estimators=200, score=0.571, total=   1.1s\n",
            "[CV] criterion=gini, max_depth=3, n_estimators=300 ...................\n",
            "[CV]  criterion=gini, max_depth=3, n_estimators=300, score=0.570, total=   1.6s\n",
            "[CV] criterion=gini, max_depth=3, n_estimators=300 ...................\n",
            "[CV]  criterion=gini, max_depth=3, n_estimators=300, score=0.570, total=   1.6s\n",
            "[CV] criterion=gini, max_depth=3, n_estimators=300 ...................\n",
            "[CV]  criterion=gini, max_depth=3, n_estimators=300, score=0.575, total=   1.6s\n",
            "[CV] criterion=gini, max_depth=3, n_estimators=300 ...................\n",
            "[CV]  criterion=gini, max_depth=3, n_estimators=300, score=0.572, total=   1.6s\n",
            "[CV] criterion=gini, max_depth=3, n_estimators=300 ...................\n",
            "[CV]  criterion=gini, max_depth=3, n_estimators=300, score=0.578, total=   1.7s\n",
            "[CV] criterion=gini, max_depth=3, n_estimators=400 ...................\n",
            "[CV]  criterion=gini, max_depth=3, n_estimators=400, score=0.569, total=   2.1s\n",
            "[CV] criterion=gini, max_depth=3, n_estimators=400 ...................\n",
            "[CV]  criterion=gini, max_depth=3, n_estimators=400, score=0.578, total=   2.2s\n",
            "[CV] criterion=gini, max_depth=3, n_estimators=400 ...................\n",
            "[CV]  criterion=gini, max_depth=3, n_estimators=400, score=0.575, total=   2.2s\n",
            "[CV] criterion=gini, max_depth=3, n_estimators=400 ...................\n",
            "[CV]  criterion=gini, max_depth=3, n_estimators=400, score=0.577, total=   2.2s\n",
            "[CV] criterion=gini, max_depth=3, n_estimators=400 ...................\n",
            "[CV]  criterion=gini, max_depth=3, n_estimators=400, score=0.574, total=   2.1s\n",
            "[CV] criterion=gini, max_depth=5, n_estimators=100 ...................\n",
            "[CV]  criterion=gini, max_depth=5, n_estimators=100, score=0.599, total=   0.8s\n",
            "[CV] criterion=gini, max_depth=5, n_estimators=100 ...................\n",
            "[CV]  criterion=gini, max_depth=5, n_estimators=100, score=0.608, total=   0.8s\n",
            "[CV] criterion=gini, max_depth=5, n_estimators=100 ...................\n",
            "[CV]  criterion=gini, max_depth=5, n_estimators=100, score=0.624, total=   0.8s\n",
            "[CV] criterion=gini, max_depth=5, n_estimators=100 ...................\n",
            "[CV]  criterion=gini, max_depth=5, n_estimators=100, score=0.607, total=   0.8s\n",
            "[CV] criterion=gini, max_depth=5, n_estimators=100 ...................\n",
            "[CV]  criterion=gini, max_depth=5, n_estimators=100, score=0.610, total=   0.8s\n",
            "[CV] criterion=gini, max_depth=5, n_estimators=200 ...................\n",
            "[CV]  criterion=gini, max_depth=5, n_estimators=200, score=0.601, total=   1.5s\n",
            "[CV] criterion=gini, max_depth=5, n_estimators=200 ...................\n",
            "[CV]  criterion=gini, max_depth=5, n_estimators=200, score=0.610, total=   1.5s\n",
            "[CV] criterion=gini, max_depth=5, n_estimators=200 ...................\n",
            "[CV]  criterion=gini, max_depth=5, n_estimators=200, score=0.622, total=   1.5s\n",
            "[CV] criterion=gini, max_depth=5, n_estimators=200 ...................\n",
            "[CV]  criterion=gini, max_depth=5, n_estimators=200, score=0.608, total=   1.5s\n",
            "[CV] criterion=gini, max_depth=5, n_estimators=200 ...................\n",
            "[CV]  criterion=gini, max_depth=5, n_estimators=200, score=0.609, total=   1.5s\n",
            "[CV] criterion=gini, max_depth=5, n_estimators=300 ...................\n",
            "[CV]  criterion=gini, max_depth=5, n_estimators=300, score=0.601, total=   2.2s\n",
            "[CV] criterion=gini, max_depth=5, n_estimators=300 ...................\n",
            "[CV]  criterion=gini, max_depth=5, n_estimators=300, score=0.608, total=   2.1s\n",
            "[CV] criterion=gini, max_depth=5, n_estimators=300 ...................\n",
            "[CV]  criterion=gini, max_depth=5, n_estimators=300, score=0.622, total=   2.1s\n",
            "[CV] criterion=gini, max_depth=5, n_estimators=300 ...................\n",
            "[CV]  criterion=gini, max_depth=5, n_estimators=300, score=0.614, total=   2.2s\n",
            "[CV] criterion=gini, max_depth=5, n_estimators=300 ...................\n",
            "[CV]  criterion=gini, max_depth=5, n_estimators=300, score=0.613, total=   2.1s\n",
            "[CV] criterion=gini, max_depth=5, n_estimators=400 ...................\n",
            "[CV]  criterion=gini, max_depth=5, n_estimators=400, score=0.601, total=   3.0s\n",
            "[CV] criterion=gini, max_depth=5, n_estimators=400 ...................\n",
            "[CV]  criterion=gini, max_depth=5, n_estimators=400, score=0.607, total=   3.0s\n",
            "[CV] criterion=gini, max_depth=5, n_estimators=400 ...................\n",
            "[CV]  criterion=gini, max_depth=5, n_estimators=400, score=0.622, total=   2.9s\n",
            "[CV] criterion=gini, max_depth=5, n_estimators=400 ...................\n",
            "[CV]  criterion=gini, max_depth=5, n_estimators=400, score=0.611, total=   2.9s\n",
            "[CV] criterion=gini, max_depth=5, n_estimators=400 ...................\n",
            "[CV]  criterion=gini, max_depth=5, n_estimators=400, score=0.611, total=   2.9s\n",
            "[CV] criterion=gini, max_depth=7, n_estimators=100 ...................\n",
            "[CV]  criterion=gini, max_depth=7, n_estimators=100, score=0.622, total=   1.0s\n",
            "[CV] criterion=gini, max_depth=7, n_estimators=100 ...................\n",
            "[CV]  criterion=gini, max_depth=7, n_estimators=100, score=0.620, total=   1.0s\n",
            "[CV] criterion=gini, max_depth=7, n_estimators=100 ...................\n",
            "[CV]  criterion=gini, max_depth=7, n_estimators=100, score=0.634, total=   1.0s\n",
            "[CV] criterion=gini, max_depth=7, n_estimators=100 ...................\n",
            "[CV]  criterion=gini, max_depth=7, n_estimators=100, score=0.619, total=   1.0s\n",
            "[CV] criterion=gini, max_depth=7, n_estimators=100 ...................\n",
            "[CV]  criterion=gini, max_depth=7, n_estimators=100, score=0.624, total=   1.0s\n",
            "[CV] criterion=gini, max_depth=7, n_estimators=200 ...................\n",
            "[CV]  criterion=gini, max_depth=7, n_estimators=200, score=0.617, total=   1.9s\n",
            "[CV] criterion=gini, max_depth=7, n_estimators=200 ...................\n",
            "[CV]  criterion=gini, max_depth=7, n_estimators=200, score=0.621, total=   1.8s\n",
            "[CV] criterion=gini, max_depth=7, n_estimators=200 ...................\n",
            "[CV]  criterion=gini, max_depth=7, n_estimators=200, score=0.633, total=   1.8s\n",
            "[CV] criterion=gini, max_depth=7, n_estimators=200 ...................\n",
            "[CV]  criterion=gini, max_depth=7, n_estimators=200, score=0.621, total=   1.8s\n",
            "[CV] criterion=gini, max_depth=7, n_estimators=200 ...................\n",
            "[CV]  criterion=gini, max_depth=7, n_estimators=200, score=0.630, total=   1.8s\n",
            "[CV] criterion=gini, max_depth=7, n_estimators=300 ...................\n",
            "[CV]  criterion=gini, max_depth=7, n_estimators=300, score=0.619, total=   2.7s\n",
            "[CV] criterion=gini, max_depth=7, n_estimators=300 ...................\n",
            "[CV]  criterion=gini, max_depth=7, n_estimators=300, score=0.617, total=   2.7s\n",
            "[CV] criterion=gini, max_depth=7, n_estimators=300 ...................\n",
            "[CV]  criterion=gini, max_depth=7, n_estimators=300, score=0.632, total=   2.8s\n",
            "[CV] criterion=gini, max_depth=7, n_estimators=300 ...................\n",
            "[CV]  criterion=gini, max_depth=7, n_estimators=300, score=0.622, total=   2.7s\n",
            "[CV] criterion=gini, max_depth=7, n_estimators=300 ...................\n",
            "[CV]  criterion=gini, max_depth=7, n_estimators=300, score=0.629, total=   2.7s\n",
            "[CV] criterion=gini, max_depth=7, n_estimators=400 ...................\n",
            "[CV]  criterion=gini, max_depth=7, n_estimators=400, score=0.618, total=   3.6s\n",
            "[CV] criterion=gini, max_depth=7, n_estimators=400 ...................\n",
            "[CV]  criterion=gini, max_depth=7, n_estimators=400, score=0.619, total=   3.6s\n",
            "[CV] criterion=gini, max_depth=7, n_estimators=400 ...................\n",
            "[CV]  criterion=gini, max_depth=7, n_estimators=400, score=0.629, total=   3.6s\n",
            "[CV] criterion=gini, max_depth=7, n_estimators=400 ...................\n",
            "[CV]  criterion=gini, max_depth=7, n_estimators=400, score=0.621, total=   3.6s\n",
            "[CV] criterion=gini, max_depth=7, n_estimators=400 ...................\n",
            "[CV]  criterion=gini, max_depth=7, n_estimators=400, score=0.629, total=   3.6s\n",
            "[CV] criterion=entropy, max_depth=1, n_estimators=100 ................\n",
            "[CV]  criterion=entropy, max_depth=1, n_estimators=100, score=0.475, total=   0.5s\n",
            "[CV] criterion=entropy, max_depth=1, n_estimators=100 ................\n",
            "[CV]  criterion=entropy, max_depth=1, n_estimators=100, score=0.470, total=   0.5s\n",
            "[CV] criterion=entropy, max_depth=1, n_estimators=100 ................\n",
            "[CV]  criterion=entropy, max_depth=1, n_estimators=100, score=0.479, total=   0.5s\n",
            "[CV] criterion=entropy, max_depth=1, n_estimators=100 ................\n",
            "[CV]  criterion=entropy, max_depth=1, n_estimators=100, score=0.481, total=   0.5s\n",
            "[CV] criterion=entropy, max_depth=1, n_estimators=100 ................\n",
            "[CV]  criterion=entropy, max_depth=1, n_estimators=100, score=0.469, total=   0.5s\n",
            "[CV] criterion=entropy, max_depth=1, n_estimators=200 ................\n",
            "[CV]  criterion=entropy, max_depth=1, n_estimators=200, score=0.482, total=   0.9s\n",
            "[CV] criterion=entropy, max_depth=1, n_estimators=200 ................\n",
            "[CV]  criterion=entropy, max_depth=1, n_estimators=200, score=0.467, total=   0.9s\n",
            "[CV] criterion=entropy, max_depth=1, n_estimators=200 ................\n",
            "[CV]  criterion=entropy, max_depth=1, n_estimators=200, score=0.497, total=   0.9s\n",
            "[CV] criterion=entropy, max_depth=1, n_estimators=200 ................\n",
            "[CV]  criterion=entropy, max_depth=1, n_estimators=200, score=0.462, total=   0.9s\n",
            "[CV] criterion=entropy, max_depth=1, n_estimators=200 ................\n",
            "[CV]  criterion=entropy, max_depth=1, n_estimators=200, score=0.465, total=   0.9s\n",
            "[CV] criterion=entropy, max_depth=1, n_estimators=300 ................\n",
            "[CV]  criterion=entropy, max_depth=1, n_estimators=300, score=0.477, total=   1.3s\n",
            "[CV] criterion=entropy, max_depth=1, n_estimators=300 ................\n",
            "[CV]  criterion=entropy, max_depth=1, n_estimators=300, score=0.476, total=   1.3s\n",
            "[CV] criterion=entropy, max_depth=1, n_estimators=300 ................\n",
            "[CV]  criterion=entropy, max_depth=1, n_estimators=300, score=0.475, total=   1.3s\n",
            "[CV] criterion=entropy, max_depth=1, n_estimators=300 ................\n",
            "[CV]  criterion=entropy, max_depth=1, n_estimators=300, score=0.463, total=   1.3s\n",
            "[CV] criterion=entropy, max_depth=1, n_estimators=300 ................\n",
            "[CV]  criterion=entropy, max_depth=1, n_estimators=300, score=0.470, total=   1.3s\n",
            "[CV] criterion=entropy, max_depth=1, n_estimators=400 ................\n",
            "[CV]  criterion=entropy, max_depth=1, n_estimators=400, score=0.470, total=   1.7s\n",
            "[CV] criterion=entropy, max_depth=1, n_estimators=400 ................\n",
            "[CV]  criterion=entropy, max_depth=1, n_estimators=400, score=0.456, total=   1.8s\n",
            "[CV] criterion=entropy, max_depth=1, n_estimators=400 ................\n",
            "[CV]  criterion=entropy, max_depth=1, n_estimators=400, score=0.473, total=   1.8s\n",
            "[CV] criterion=entropy, max_depth=1, n_estimators=400 ................\n",
            "[CV]  criterion=entropy, max_depth=1, n_estimators=400, score=0.461, total=   1.8s\n",
            "[CV] criterion=entropy, max_depth=1, n_estimators=400 ................\n",
            "[CV]  criterion=entropy, max_depth=1, n_estimators=400, score=0.476, total=   1.7s\n",
            "[CV] criterion=entropy, max_depth=3, n_estimators=100 ................\n",
            "[CV]  criterion=entropy, max_depth=3, n_estimators=100, score=0.572, total=   0.9s\n",
            "[CV] criterion=entropy, max_depth=3, n_estimators=100 ................\n",
            "[CV]  criterion=entropy, max_depth=3, n_estimators=100, score=0.570, total=   0.9s\n",
            "[CV] criterion=entropy, max_depth=3, n_estimators=100 ................\n",
            "[CV]  criterion=entropy, max_depth=3, n_estimators=100, score=0.579, total=   0.9s\n",
            "[CV] criterion=entropy, max_depth=3, n_estimators=100 ................\n",
            "[CV]  criterion=entropy, max_depth=3, n_estimators=100, score=0.571, total=   0.9s\n",
            "[CV] criterion=entropy, max_depth=3, n_estimators=100 ................\n",
            "[CV]  criterion=entropy, max_depth=3, n_estimators=100, score=0.572, total=   0.9s\n",
            "[CV] criterion=entropy, max_depth=3, n_estimators=200 ................\n",
            "[CV]  criterion=entropy, max_depth=3, n_estimators=200, score=0.567, total=   1.6s\n",
            "[CV] criterion=entropy, max_depth=3, n_estimators=200 ................\n",
            "[CV]  criterion=entropy, max_depth=3, n_estimators=200, score=0.570, total=   1.6s\n",
            "[CV] criterion=entropy, max_depth=3, n_estimators=200 ................\n",
            "[CV]  criterion=entropy, max_depth=3, n_estimators=200, score=0.575, total=   1.7s\n",
            "[CV] criterion=entropy, max_depth=3, n_estimators=200 ................\n",
            "[CV]  criterion=entropy, max_depth=3, n_estimators=200, score=0.578, total=   1.6s\n",
            "[CV] criterion=entropy, max_depth=3, n_estimators=200 ................\n",
            "[CV]  criterion=entropy, max_depth=3, n_estimators=200, score=0.575, total=   1.7s\n",
            "[CV] criterion=entropy, max_depth=3, n_estimators=300 ................\n",
            "[CV]  criterion=entropy, max_depth=3, n_estimators=300, score=0.570, total=   2.4s\n",
            "[CV] criterion=entropy, max_depth=3, n_estimators=300 ................\n",
            "[CV]  criterion=entropy, max_depth=3, n_estimators=300, score=0.571, total=   2.4s\n",
            "[CV] criterion=entropy, max_depth=3, n_estimators=300 ................\n",
            "[CV]  criterion=entropy, max_depth=3, n_estimators=300, score=0.577, total=   2.4s\n",
            "[CV] criterion=entropy, max_depth=3, n_estimators=300 ................\n",
            "[CV]  criterion=entropy, max_depth=3, n_estimators=300, score=0.580, total=   2.4s\n",
            "[CV] criterion=entropy, max_depth=3, n_estimators=300 ................\n",
            "[CV]  criterion=entropy, max_depth=3, n_estimators=300, score=0.573, total=   2.5s\n",
            "[CV] criterion=entropy, max_depth=3, n_estimators=400 ................\n",
            "[CV]  criterion=entropy, max_depth=3, n_estimators=400, score=0.572, total=   3.3s\n",
            "[CV] criterion=entropy, max_depth=3, n_estimators=400 ................\n",
            "[CV]  criterion=entropy, max_depth=3, n_estimators=400, score=0.570, total=   3.3s\n",
            "[CV] criterion=entropy, max_depth=3, n_estimators=400 ................\n",
            "[CV]  criterion=entropy, max_depth=3, n_estimators=400, score=0.576, total=   3.3s\n",
            "[CV] criterion=entropy, max_depth=3, n_estimators=400 ................\n",
            "[CV]  criterion=entropy, max_depth=3, n_estimators=400, score=0.578, total=   3.3s\n",
            "[CV] criterion=entropy, max_depth=3, n_estimators=400 ................\n",
            "[CV]  criterion=entropy, max_depth=3, n_estimators=400, score=0.576, total=   3.3s\n",
            "[CV] criterion=entropy, max_depth=5, n_estimators=100 ................\n",
            "[CV]  criterion=entropy, max_depth=5, n_estimators=100, score=0.597, total=   1.4s\n",
            "[CV] criterion=entropy, max_depth=5, n_estimators=100 ................\n",
            "[CV]  criterion=entropy, max_depth=5, n_estimators=100, score=0.608, total=   1.3s\n",
            "[CV] criterion=entropy, max_depth=5, n_estimators=100 ................\n",
            "[CV]  criterion=entropy, max_depth=5, n_estimators=100, score=0.609, total=   1.4s\n",
            "[CV] criterion=entropy, max_depth=5, n_estimators=100 ................\n",
            "[CV]  criterion=entropy, max_depth=5, n_estimators=100, score=0.606, total=   1.3s\n",
            "[CV] criterion=entropy, max_depth=5, n_estimators=100 ................\n",
            "[CV]  criterion=entropy, max_depth=5, n_estimators=100, score=0.609, total=   1.3s\n",
            "[CV] criterion=entropy, max_depth=5, n_estimators=200 ................\n",
            "[CV]  criterion=entropy, max_depth=5, n_estimators=200, score=0.607, total=   2.5s\n",
            "[CV] criterion=entropy, max_depth=5, n_estimators=200 ................\n",
            "[CV]  criterion=entropy, max_depth=5, n_estimators=200, score=0.607, total=   2.5s\n",
            "[CV] criterion=entropy, max_depth=5, n_estimators=200 ................\n",
            "[CV]  criterion=entropy, max_depth=5, n_estimators=200, score=0.614, total=   2.5s\n",
            "[CV] criterion=entropy, max_depth=5, n_estimators=200 ................\n",
            "[CV]  criterion=entropy, max_depth=5, n_estimators=200, score=0.609, total=   2.5s\n",
            "[CV] criterion=entropy, max_depth=5, n_estimators=200 ................\n",
            "[CV]  criterion=entropy, max_depth=5, n_estimators=200, score=0.613, total=   2.5s\n",
            "[CV] criterion=entropy, max_depth=5, n_estimators=300 ................\n",
            "[CV]  criterion=entropy, max_depth=5, n_estimators=300, score=0.604, total=   3.7s\n",
            "[CV] criterion=entropy, max_depth=5, n_estimators=300 ................\n",
            "[CV]  criterion=entropy, max_depth=5, n_estimators=300, score=0.611, total=   3.7s\n",
            "[CV] criterion=entropy, max_depth=5, n_estimators=300 ................\n",
            "[CV]  criterion=entropy, max_depth=5, n_estimators=300, score=0.614, total=   3.7s\n",
            "[CV] criterion=entropy, max_depth=5, n_estimators=300 ................\n",
            "[CV]  criterion=entropy, max_depth=5, n_estimators=300, score=0.610, total=   3.7s\n",
            "[CV] criterion=entropy, max_depth=5, n_estimators=300 ................\n",
            "[CV]  criterion=entropy, max_depth=5, n_estimators=300, score=0.613, total=   3.7s\n",
            "[CV] criterion=entropy, max_depth=5, n_estimators=400 ................\n",
            "[CV]  criterion=entropy, max_depth=5, n_estimators=400, score=0.604, total=   5.0s\n",
            "[CV] criterion=entropy, max_depth=5, n_estimators=400 ................\n",
            "[CV]  criterion=entropy, max_depth=5, n_estimators=400, score=0.608, total=   5.0s\n",
            "[CV] criterion=entropy, max_depth=5, n_estimators=400 ................\n",
            "[CV]  criterion=entropy, max_depth=5, n_estimators=400, score=0.618, total=   5.0s\n",
            "[CV] criterion=entropy, max_depth=5, n_estimators=400 ................\n",
            "[CV]  criterion=entropy, max_depth=5, n_estimators=400, score=0.611, total=   5.1s\n",
            "[CV] criterion=entropy, max_depth=5, n_estimators=400 ................\n",
            "[CV]  criterion=entropy, max_depth=5, n_estimators=400, score=0.613, total=   4.9s\n",
            "[CV] criterion=entropy, max_depth=7, n_estimators=100 ................\n",
            "[CV]  criterion=entropy, max_depth=7, n_estimators=100, score=0.617, total=   1.8s\n",
            "[CV] criterion=entropy, max_depth=7, n_estimators=100 ................\n",
            "[CV]  criterion=entropy, max_depth=7, n_estimators=100, score=0.621, total=   1.8s\n",
            "[CV] criterion=entropy, max_depth=7, n_estimators=100 ................\n",
            "[CV]  criterion=entropy, max_depth=7, n_estimators=100, score=0.634, total=   1.8s\n",
            "[CV] criterion=entropy, max_depth=7, n_estimators=100 ................\n",
            "[CV]  criterion=entropy, max_depth=7, n_estimators=100, score=0.618, total=   1.8s\n",
            "[CV] criterion=entropy, max_depth=7, n_estimators=100 ................\n",
            "[CV]  criterion=entropy, max_depth=7, n_estimators=100, score=0.620, total=   1.8s\n",
            "[CV] criterion=entropy, max_depth=7, n_estimators=200 ................\n",
            "[CV]  criterion=entropy, max_depth=7, n_estimators=200, score=0.618, total=   3.4s\n",
            "[CV] criterion=entropy, max_depth=7, n_estimators=200 ................\n",
            "[CV]  criterion=entropy, max_depth=7, n_estimators=200, score=0.621, total=   3.5s\n",
            "[CV] criterion=entropy, max_depth=7, n_estimators=200 ................\n",
            "[CV]  criterion=entropy, max_depth=7, n_estimators=200, score=0.633, total=   3.5s\n",
            "[CV] criterion=entropy, max_depth=7, n_estimators=200 ................\n",
            "[CV]  criterion=entropy, max_depth=7, n_estimators=200, score=0.621, total=   3.4s\n",
            "[CV] criterion=entropy, max_depth=7, n_estimators=200 ................\n",
            "[CV]  criterion=entropy, max_depth=7, n_estimators=200, score=0.621, total=   3.4s\n",
            "[CV] criterion=entropy, max_depth=7, n_estimators=300 ................\n",
            "[CV]  criterion=entropy, max_depth=7, n_estimators=300, score=0.614, total=   5.0s\n",
            "[CV] criterion=entropy, max_depth=7, n_estimators=300 ................\n",
            "[CV]  criterion=entropy, max_depth=7, n_estimators=300, score=0.620, total=   5.0s\n",
            "[CV] criterion=entropy, max_depth=7, n_estimators=300 ................\n",
            "[CV]  criterion=entropy, max_depth=7, n_estimators=300, score=0.630, total=   5.2s\n",
            "[CV] criterion=entropy, max_depth=7, n_estimators=300 ................\n",
            "[CV]  criterion=entropy, max_depth=7, n_estimators=300, score=0.618, total=   5.1s\n",
            "[CV] criterion=entropy, max_depth=7, n_estimators=300 ................\n",
            "[CV]  criterion=entropy, max_depth=7, n_estimators=300, score=0.625, total=   5.1s\n",
            "[CV] criterion=entropy, max_depth=7, n_estimators=400 ................\n",
            "[CV]  criterion=entropy, max_depth=7, n_estimators=400, score=0.619, total=   6.8s\n",
            "[CV] criterion=entropy, max_depth=7, n_estimators=400 ................\n",
            "[CV]  criterion=entropy, max_depth=7, n_estimators=400, score=0.620, total=   6.8s\n",
            "[CV] criterion=entropy, max_depth=7, n_estimators=400 ................\n",
            "[CV]  criterion=entropy, max_depth=7, n_estimators=400, score=0.632, total=   6.8s\n",
            "[CV] criterion=entropy, max_depth=7, n_estimators=400 ................\n",
            "[CV]  criterion=entropy, max_depth=7, n_estimators=400, score=0.620, total=   6.8s\n",
            "[CV] criterion=entropy, max_depth=7, n_estimators=400 ................\n",
            "[CV]  criterion=entropy, max_depth=7, n_estimators=400, score=0.625, total=   6.7s\n"
          ],
          "name": "stdout"
        },
        {
          "output_type": "stream",
          "text": [
            "[Parallel(n_jobs=1)]: Done 160 out of 160 | elapsed:  5.7min finished\n"
          ],
          "name": "stderr"
        },
        {
          "output_type": "execute_result",
          "data": {
            "text/plain": [
              "GridSearchCV(cv=5, error_score=nan,\n",
              "             estimator=RandomForestClassifier(bootstrap=True, ccp_alpha=0.0,\n",
              "                                              class_weight=None,\n",
              "                                              criterion='gini', max_depth=None,\n",
              "                                              max_features='auto',\n",
              "                                              max_leaf_nodes=None,\n",
              "                                              max_samples=None,\n",
              "                                              min_impurity_decrease=0.0,\n",
              "                                              min_impurity_split=None,\n",
              "                                              min_samples_leaf=1,\n",
              "                                              min_samples_split=2,\n",
              "                                              min_weight_fraction_leaf=0.0,\n",
              "                                              n_estimators=100, n_jobs=-1,\n",
              "                                              oob_score=False,\n",
              "                                              random_state=None, verbose=0,\n",
              "                                              warm_start=False),\n",
              "             iid='deprecated', n_jobs=1,\n",
              "             param_grid={'criterion': ['gini', 'entropy'],\n",
              "                         'max_depth': [1, 3, 5, 7],\n",
              "                         'n_estimators': [100, 200, 300, 400]},\n",
              "             pre_dispatch='2*n_jobs', refit=True, return_train_score=False,\n",
              "             scoring='accuracy', verbose=10)"
            ]
          },
          "metadata": {
            "tags": []
          },
          "execution_count": 12
        }
      ]
    },
    {
      "cell_type": "code",
      "metadata": {
        "id": "vS2_TKKgXVoB",
        "outputId": "99e1e2ea-cd69-47d2-9b0d-9ed43749361e",
        "colab": {
          "base_uri": "https://localhost:8080/",
          "height": 1000
        }
      },
      "source": [
        "results=pd.DataFrame(model.cv_results_)\r\n",
        "#results.columns\r\n",
        "results[['param_n_estimators','param_criterion','mean_test_score']]\r\n"
      ],
      "execution_count": 13,
      "outputs": [
        {
          "output_type": "execute_result",
          "data": {
            "text/html": [
              "<div>\n",
              "<style scoped>\n",
              "    .dataframe tbody tr th:only-of-type {\n",
              "        vertical-align: middle;\n",
              "    }\n",
              "\n",
              "    .dataframe tbody tr th {\n",
              "        vertical-align: top;\n",
              "    }\n",
              "\n",
              "    .dataframe thead th {\n",
              "        text-align: right;\n",
              "    }\n",
              "</style>\n",
              "<table border=\"1\" class=\"dataframe\">\n",
              "  <thead>\n",
              "    <tr style=\"text-align: right;\">\n",
              "      <th></th>\n",
              "      <th>param_n_estimators</th>\n",
              "      <th>param_criterion</th>\n",
              "      <th>mean_test_score</th>\n",
              "    </tr>\n",
              "  </thead>\n",
              "  <tbody>\n",
              "    <tr>\n",
              "      <th>0</th>\n",
              "      <td>100</td>\n",
              "      <td>gini</td>\n",
              "      <td>0.463237</td>\n",
              "    </tr>\n",
              "    <tr>\n",
              "      <th>1</th>\n",
              "      <td>200</td>\n",
              "      <td>gini</td>\n",
              "      <td>0.472153</td>\n",
              "    </tr>\n",
              "    <tr>\n",
              "      <th>2</th>\n",
              "      <td>300</td>\n",
              "      <td>gini</td>\n",
              "      <td>0.471906</td>\n",
              "    </tr>\n",
              "    <tr>\n",
              "      <th>3</th>\n",
              "      <td>400</td>\n",
              "      <td>gini</td>\n",
              "      <td>0.471253</td>\n",
              "    </tr>\n",
              "    <tr>\n",
              "      <th>4</th>\n",
              "      <td>100</td>\n",
              "      <td>gini</td>\n",
              "      <td>0.569888</td>\n",
              "    </tr>\n",
              "    <tr>\n",
              "      <th>5</th>\n",
              "      <td>200</td>\n",
              "      <td>gini</td>\n",
              "      <td>0.572177</td>\n",
              "    </tr>\n",
              "    <tr>\n",
              "      <th>6</th>\n",
              "      <td>300</td>\n",
              "      <td>gini</td>\n",
              "      <td>0.572831</td>\n",
              "    </tr>\n",
              "    <tr>\n",
              "      <th>7</th>\n",
              "      <td>400</td>\n",
              "      <td>gini</td>\n",
              "      <td>0.574630</td>\n",
              "    </tr>\n",
              "    <tr>\n",
              "      <th>8</th>\n",
              "      <td>100</td>\n",
              "      <td>gini</td>\n",
              "      <td>0.609717</td>\n",
              "    </tr>\n",
              "    <tr>\n",
              "      <th>9</th>\n",
              "      <td>200</td>\n",
              "      <td>gini</td>\n",
              "      <td>0.610208</td>\n",
              "    </tr>\n",
              "    <tr>\n",
              "      <th>10</th>\n",
              "      <td>300</td>\n",
              "      <td>gini</td>\n",
              "      <td>0.611353</td>\n",
              "    </tr>\n",
              "    <tr>\n",
              "      <th>11</th>\n",
              "      <td>400</td>\n",
              "      <td>gini</td>\n",
              "      <td>0.610453</td>\n",
              "    </tr>\n",
              "    <tr>\n",
              "      <th>12</th>\n",
              "      <td>100</td>\n",
              "      <td>gini</td>\n",
              "      <td>0.623539</td>\n",
              "    </tr>\n",
              "    <tr>\n",
              "      <th>13</th>\n",
              "      <td>200</td>\n",
              "      <td>gini</td>\n",
              "      <td>0.624193</td>\n",
              "    </tr>\n",
              "    <tr>\n",
              "      <th>14</th>\n",
              "      <td>300</td>\n",
              "      <td>gini</td>\n",
              "      <td>0.624030</td>\n",
              "    </tr>\n",
              "    <tr>\n",
              "      <th>15</th>\n",
              "      <td>400</td>\n",
              "      <td>gini</td>\n",
              "      <td>0.623294</td>\n",
              "    </tr>\n",
              "    <tr>\n",
              "      <th>16</th>\n",
              "      <td>100</td>\n",
              "      <td>entropy</td>\n",
              "      <td>0.474688</td>\n",
              "    </tr>\n",
              "    <tr>\n",
              "      <th>17</th>\n",
              "      <td>200</td>\n",
              "      <td>entropy</td>\n",
              "      <td>0.474360</td>\n",
              "    </tr>\n",
              "    <tr>\n",
              "      <th>18</th>\n",
              "      <td>300</td>\n",
              "      <td>entropy</td>\n",
              "      <td>0.472069</td>\n",
              "    </tr>\n",
              "    <tr>\n",
              "      <th>19</th>\n",
              "      <td>400</td>\n",
              "      <td>entropy</td>\n",
              "      <td>0.467164</td>\n",
              "    </tr>\n",
              "    <tr>\n",
              "      <th>20</th>\n",
              "      <td>100</td>\n",
              "      <td>entropy</td>\n",
              "      <td>0.572994</td>\n",
              "    </tr>\n",
              "    <tr>\n",
              "      <th>21</th>\n",
              "      <td>200</td>\n",
              "      <td>entropy</td>\n",
              "      <td>0.572995</td>\n",
              "    </tr>\n",
              "    <tr>\n",
              "      <th>22</th>\n",
              "      <td>300</td>\n",
              "      <td>entropy</td>\n",
              "      <td>0.573894</td>\n",
              "    </tr>\n",
              "    <tr>\n",
              "      <th>23</th>\n",
              "      <td>400</td>\n",
              "      <td>entropy</td>\n",
              "      <td>0.574222</td>\n",
              "    </tr>\n",
              "    <tr>\n",
              "      <th>24</th>\n",
              "      <td>100</td>\n",
              "      <td>entropy</td>\n",
              "      <td>0.605873</td>\n",
              "    </tr>\n",
              "    <tr>\n",
              "      <th>25</th>\n",
              "      <td>200</td>\n",
              "      <td>entropy</td>\n",
              "      <td>0.609962</td>\n",
              "    </tr>\n",
              "    <tr>\n",
              "      <th>26</th>\n",
              "      <td>300</td>\n",
              "      <td>entropy</td>\n",
              "      <td>0.610289</td>\n",
              "    </tr>\n",
              "    <tr>\n",
              "      <th>27</th>\n",
              "      <td>400</td>\n",
              "      <td>entropy</td>\n",
              "      <td>0.610862</td>\n",
              "    </tr>\n",
              "    <tr>\n",
              "      <th>28</th>\n",
              "      <td>100</td>\n",
              "      <td>entropy</td>\n",
              "      <td>0.622148</td>\n",
              "    </tr>\n",
              "    <tr>\n",
              "      <th>29</th>\n",
              "      <td>200</td>\n",
              "      <td>entropy</td>\n",
              "      <td>0.622721</td>\n",
              "    </tr>\n",
              "    <tr>\n",
              "      <th>30</th>\n",
              "      <td>300</td>\n",
              "      <td>entropy</td>\n",
              "      <td>0.621494</td>\n",
              "    </tr>\n",
              "    <tr>\n",
              "      <th>31</th>\n",
              "      <td>400</td>\n",
              "      <td>entropy</td>\n",
              "      <td>0.623048</td>\n",
              "    </tr>\n",
              "  </tbody>\n",
              "</table>\n",
              "</div>"
            ],
            "text/plain": [
              "   param_n_estimators param_criterion  mean_test_score\n",
              "0                 100            gini         0.463237\n",
              "1                 200            gini         0.472153\n",
              "2                 300            gini         0.471906\n",
              "3                 400            gini         0.471253\n",
              "4                 100            gini         0.569888\n",
              "5                 200            gini         0.572177\n",
              "6                 300            gini         0.572831\n",
              "7                 400            gini         0.574630\n",
              "8                 100            gini         0.609717\n",
              "9                 200            gini         0.610208\n",
              "10                300            gini         0.611353\n",
              "11                400            gini         0.610453\n",
              "12                100            gini         0.623539\n",
              "13                200            gini         0.624193\n",
              "14                300            gini         0.624030\n",
              "15                400            gini         0.623294\n",
              "16                100         entropy         0.474688\n",
              "17                200         entropy         0.474360\n",
              "18                300         entropy         0.472069\n",
              "19                400         entropy         0.467164\n",
              "20                100         entropy         0.572994\n",
              "21                200         entropy         0.572995\n",
              "22                300         entropy         0.573894\n",
              "23                400         entropy         0.574222\n",
              "24                100         entropy         0.605873\n",
              "25                200         entropy         0.609962\n",
              "26                300         entropy         0.610289\n",
              "27                400         entropy         0.610862\n",
              "28                100         entropy         0.622148\n",
              "29                200         entropy         0.622721\n",
              "30                300         entropy         0.621494\n",
              "31                400         entropy         0.623048"
            ]
          },
          "metadata": {
            "tags": []
          },
          "execution_count": 13
        }
      ]
    },
    {
      "cell_type": "code",
      "metadata": {
        "id": "VSOyERPsXVtz"
      },
      "source": [
        "#dir(model)"
      ],
      "execution_count": null,
      "outputs": []
    },
    {
      "cell_type": "code",
      "metadata": {
        "id": "CtwF8h3YXVwv",
        "outputId": "73aa3526-dc6d-4bf2-aa7f-92e126f7f48f",
        "colab": {
          "base_uri": "https://localhost:8080/"
        }
      },
      "source": [
        "model.best_score_,model.best_estimator_,model.best_params_"
      ],
      "execution_count": 14,
      "outputs": [
        {
          "output_type": "execute_result",
          "data": {
            "text/plain": [
              "(0.6241932490255782,\n",
              " RandomForestClassifier(bootstrap=True, ccp_alpha=0.0, class_weight=None,\n",
              "                        criterion='gini', max_depth=7, max_features='auto',\n",
              "                        max_leaf_nodes=None, max_samples=None,\n",
              "                        min_impurity_decrease=0.0, min_impurity_split=None,\n",
              "                        min_samples_leaf=1, min_samples_split=2,\n",
              "                        min_weight_fraction_leaf=0.0, n_estimators=200,\n",
              "                        n_jobs=-1, oob_score=False, random_state=None, verbose=0,\n",
              "                        warm_start=False),\n",
              " {'criterion': 'gini', 'max_depth': 7, 'n_estimators': 200})"
            ]
          },
          "metadata": {
            "tags": []
          },
          "execution_count": 14
        }
      ]
    },
    {
      "cell_type": "code",
      "metadata": {
        "id": "5htglSB6-Fnl"
      },
      "source": [
        "#to normalize the data\r\n",
        "#scaler = MinMaxScaler()\r\n",
        "#X_train_scaled = scaler.fit_transform(X_train)\r\n",
        "#X_test_scaled = scaler.transform(X_test)"
      ],
      "execution_count": null,
      "outputs": []
    },
    {
      "cell_type": "markdown",
      "metadata": {
        "id": "pR_1zVyV93ON"
      },
      "source": [
        "# **Kernelized SVM  with diff kernels,gamma parameters**"
      ]
    },
    {
      "cell_type": "code",
      "metadata": {
        "id": "_kJ4uxyT90Dc"
      },
      "source": [
        "# Build an SVC (Support Vector Classification) model using linear regression\r\n",
        "from sklearn import svm\r\n",
        "linear = svm.SVC(kernel='linear', C=15).fit(X_train_scaled, y_train)\r\n",
        "poly = svm.SVC(kernel='poly', degree=4, C=15).fit(X_train_scaled, y_train)\r\n",
        "rbf = svm.SVC(kernel='rbf', gamma=1, C=15).fit(X_train_scaled, y_train)\r\n",
        "\r\n",
        "print('Accuracy (linear Kernel) on test dataset: ', \"%.2f\" % (linear.score(X_test_scaled,y_test)*100))\r\n",
        "print('Accuracy (linear Kernel) on train dataset: ', \"%.2f\" % (linear.score(X_train_scaled,y_train)*100))\r\n",
        "\r\n",
        "print('\\nAccuracy (Polynomial Kernel) on test dataset: ', \"%.2f\" % (poly.score(X_test_scaled,y_test)*100))\r\n",
        "print('Accuracy (Polynomial Kernel) on train dataset: ', \"%.2f\" % (poly.score(X_train_scaled,y_train)*100))\r\n",
        "\r\n",
        "print('\\nAccuracy (RBF Kernel) on test dataset: ', \"%.2f\" % (rbf.score(X_test_scaled,y_test)*100))\r\n",
        "print('Accuracy (RBF Kernel) on train dataset: ', \"%.2f\" % (rbf.score(X_train_scaled,y_train)*100))\r\n"
      ],
      "execution_count": null,
      "outputs": []
    }
  ]
}